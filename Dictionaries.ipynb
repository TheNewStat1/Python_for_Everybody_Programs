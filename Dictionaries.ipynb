{
 "cells": [
  {
   "cell_type": "markdown",
   "metadata": {},
   "source": [
    "# What is a Dictionary"
   ]
  },
  {
   "cell_type": "markdown",
   "metadata": {},
   "source": [
    "You can think about a list as an ordered set of items (collection)"
   ]
  },
  {
   "cell_type": "markdown",
   "metadata": {},
   "source": [
    "For a Dictionary it is best to think of it as a \"bag\" of values"
   ]
  },
  {
   "cell_type": "markdown",
   "metadata": {},
   "source": [
    "Some things a Python Dictionary helps us do\n",
    "* They allow fast database type operations in Python\n",
    "* They have difference names in different languages (Associative Array)"
   ]
  },
  {
   "cell_type": "markdown",
   "metadata": {},
   "source": [
    "Here is some basic code to create a dictionary"
   ]
  },
  {
   "cell_type": "code",
   "execution_count": 8,
   "metadata": {},
   "outputs": [
    {
     "name": "stdout",
     "output_type": "stream",
     "text": [
      "{'index': 0, 'Key': 42, 'Cough Drop': 10, 'Credit Card': 5}\n",
      "0\n"
     ]
    }
   ],
   "source": [
    "# This is how to create a dictionary\n",
    "Wallet = dict()\n",
    "Wallet['index'] = 0\n",
    "Wallet['Key'] = 42\n",
    "Wallet['Cough Drop'] = 10\n",
    "Wallet['Credit Card'] = 5\n",
    "print(Wallet)\n",
    "print(Wallet['index'])"
   ]
  },
  {
   "cell_type": "code",
   "execution_count": 9,
   "metadata": {},
   "outputs": [
    {
     "name": "stdout",
     "output_type": "stream",
     "text": [
      "10\n",
      "20\n"
     ]
    }
   ],
   "source": [
    "# This is how you update a dictionary\n",
    "print(Wallet['Cough Drop'])\n",
    "Wallet['Cough Drop'] = Wallet['Cough Drop'] + 10\n",
    "print(Wallet['Cough Drop'])"
   ]
  },
  {
   "cell_type": "markdown",
   "metadata": {},
   "source": [
    "Dictonaries are mutable just like lists"
   ]
  },
  {
   "cell_type": "code",
   "execution_count": 11,
   "metadata": {},
   "outputs": [
    {
     "name": "stdout",
     "output_type": "stream",
     "text": [
      "{'age': 25, 'sex': 0}\n",
      "{'age': 35, 'sex': 0}\n"
     ]
    }
   ],
   "source": [
    "# This shows how dictionaries can be altered\n",
    "diction = dict()\n",
    "diction['age'] = 25\n",
    "diction['sex'] = 0\n",
    "print(diction)\n",
    "diction['age'] = 35\n",
    "print(diction)"
   ]
  },
  {
   "cell_type": "code",
   "execution_count": 13,
   "metadata": {},
   "outputs": [
    {
     "name": "stdout",
     "output_type": "stream",
     "text": [
      "{'Pratik': 1, 'Mansi': 2, 'Sybling': True}\n"
     ]
    }
   ],
   "source": [
    "# You can also create dictionaries using free hand\n",
    "jjj = {'Pratik' : 1 , 'Mansi' : 2, 'Sybling' : True}\n",
    "print(jjj)"
   ]
  },
  {
   "cell_type": "markdown",
   "metadata": {},
   "source": [
    "# Counting With Dictionaries"
   ]
  },
  {
   "cell_type": "markdown",
   "metadata": {},
   "source": [
    "This is how to make many counters with dictionaries"
   ]
  },
  {
   "cell_type": "code",
   "execution_count": 1,
   "metadata": {},
   "outputs": [
    {
     "name": "stdout",
     "output_type": "stream",
     "text": [
      "{'Pratik': 1, 'Mansi': 1}\n"
     ]
    }
   ],
   "source": [
    "# Setting up a dictionary for counting\n",
    "count = dict()\n",
    "count['Pratik'] = 1\n",
    "count['Mansi'] = 1\n",
    "print(count)"
   ]
  },
  {
   "cell_type": "code",
   "execution_count": 2,
   "metadata": {},
   "outputs": [
    {
     "name": "stdout",
     "output_type": "stream",
     "text": [
      "{'Pratik': 2, 'Mansi': 1}\n"
     ]
    }
   ],
   "source": [
    "count['Pratik'] = count['Pratik'] + 1\n",
    "print(count)"
   ]
  },
  {
   "cell_type": "code",
   "execution_count": 3,
   "metadata": {},
   "outputs": [
    {
     "ename": "KeyError",
     "evalue": "'Dipika'",
     "output_type": "error",
     "traceback": [
      "\u001b[1;31m---------------------------------------------------------------------------\u001b[0m",
      "\u001b[1;31mKeyError\u001b[0m                                  Traceback (most recent call last)",
      "\u001b[1;32m<ipython-input-3-75022576a7a2>\u001b[0m in \u001b[0;36m<module>\u001b[1;34m\u001b[0m\n\u001b[0;32m      1\u001b[0m \u001b[1;31m# Just a tidbit on dictionary traceback\u001b[0m\u001b[1;33m\u001b[0m\u001b[1;33m\u001b[0m\u001b[1;33m\u001b[0m\u001b[0m\n\u001b[0;32m      2\u001b[0m \u001b[1;31m# You can't search for a dictionary key or a listed item that does not exist\u001b[0m\u001b[1;33m\u001b[0m\u001b[1;33m\u001b[0m\u001b[1;33m\u001b[0m\u001b[0m\n\u001b[1;32m----> 3\u001b[1;33m \u001b[0mprint\u001b[0m\u001b[1;33m(\u001b[0m\u001b[0mcount\u001b[0m\u001b[1;33m[\u001b[0m\u001b[1;34m'Dipika'\u001b[0m\u001b[1;33m]\u001b[0m\u001b[1;33m)\u001b[0m\u001b[1;33m\u001b[0m\u001b[1;33m\u001b[0m\u001b[0m\n\u001b[0m",
      "\u001b[1;31mKeyError\u001b[0m: 'Dipika'"
     ]
    }
   ],
   "source": [
    "# Just a tidbit on dictionary traceback\n",
    "# You can't search for a dictionary key or a listed item that does not exist\n",
    "print(count['Dipika'])"
   ]
  },
  {
   "cell_type": "code",
   "execution_count": 4,
   "metadata": {},
   "outputs": [
    {
     "data": {
      "text/plain": [
       "False"
      ]
     },
     "execution_count": 4,
     "metadata": {},
     "output_type": "execute_result"
    }
   ],
   "source": [
    "# A simple way to check to see if a key is in a dictionary\n",
    "'Dipika' in count"
   ]
  },
  {
   "cell_type": "markdown",
   "metadata": {},
   "source": [
    "This is how to add a new key to a dictionary when it is observed"
   ]
  },
  {
   "cell_type": "code",
   "execution_count": 6,
   "metadata": {},
   "outputs": [
    {
     "name": "stdout",
     "output_type": "stream",
     "text": [
      "{'New York': 2, 'New Delhi': 1, 'Hong Kong': 1, 'Tokoyo': 1, 'Paris': 1}\n"
     ]
    }
   ],
   "source": [
    "# Use conditional logic to get all items into a dictionary\n",
    "book = dict()\n",
    "places = ['New York', 'New Delhi', 'Hong Kong', 'Tokoyo', 'Paris', 'New York']\n",
    "for name in places:\n",
    "    if name not in book:\n",
    "        book[name] = 1\n",
    "    else:\n",
    "        book[name] = book[name] + 1\n",
    "print(book)\n"
   ]
  },
  {
   "cell_type": "code",
   "execution_count": 7,
   "metadata": {},
   "outputs": [
    {
     "name": "stdout",
     "output_type": "stream",
     "text": [
      "2\n",
      "2\n"
     ]
    },
    {
     "data": {
      "text/plain": [
       "int"
      ]
     },
     "execution_count": 7,
     "metadata": {},
     "output_type": "execute_result"
    }
   ],
   "source": [
    "# You can do the same thing using the .get() Method\n",
    "# But first here is how to get the same result using conditional logic\n",
    "places = ['New York', 'New Delhi', 'Hong Kong', 'Tokoyo', 'Paris', 'New York']\n",
    "#for name in book:\n",
    "if 'New York' in book:\n",
    "    x_var = book[name]\n",
    "else:\n",
    "    x_var = 0\n",
    "\n",
    "print(x_var)\n",
    "# You can do the same thing if you use the .get() method\n",
    "x_var = book.get('New York', 0)\n",
    "print(x_var)\n",
    "type(x_var)"
   ]
  },
  {
   "cell_type": "markdown",
   "metadata": {},
   "source": [
    "This is how to do simplified counting with get"
   ]
  },
  {
   "cell_type": "code",
   "execution_count": 8,
   "metadata": {},
   "outputs": [
    {
     "name": "stdout",
     "output_type": "stream",
     "text": [
      "{'New York': 2, 'New Delhi': 1, 'Hong Kong': 1, 'Tokoyo': 1, 'Paris': 1}\n"
     ]
    }
   ],
   "source": [
    "items = {}\n",
    "places = ['New York', 'New Delhi', 'Hong Kong', 'Tokoyo', 'Paris', 'New York']\n",
    "for name in places:\n",
    "    items[name] = items.get(name, 0) + 1\n",
    "print(items)"
   ]
  },
  {
   "cell_type": "markdown",
   "metadata": {},
   "source": [
    "# Dictionaries and Files"
   ]
  },
  {
   "cell_type": "markdown",
   "metadata": {},
   "source": [
    "\"Text analytics away we go\": \n",
    "This is how to go through a text document and make a histogram of the most common words"
   ]
  },
  {
   "cell_type": "code",
   "execution_count": 9,
   "metadata": {},
   "outputs": [
    {
     "name": "stdout",
     "output_type": "stream",
     "text": [
      "Enter a line of text:\n",
      "text text\n"
     ]
    }
   ],
   "source": [
    "# This code is used for counting Patterns\n",
    "cloud = {}\n",
    "print(\"Enter a line of text:\")\n",
    "line = input()"
   ]
  },
  {
   "cell_type": "code",
   "execution_count": 11,
   "metadata": {},
   "outputs": [
    {
     "name": "stdout",
     "output_type": "stream",
     "text": [
      "Words are: ['text', 'text']\n"
     ]
    }
   ],
   "source": [
    "# This step splits the input text into a list of words\n",
    "words = line.split()\n",
    "print('Words are:', words)"
   ]
  },
  {
   "cell_type": "code",
   "execution_count": 12,
   "metadata": {},
   "outputs": [
    {
     "name": "stdout",
     "output_type": "stream",
     "text": [
      "Counting:\n",
      "{'text': 2}\n"
     ]
    }
   ],
   "source": [
    "# Here we are creating the counter with the .get() method which prints the cloud dictionary\n",
    "print('Counting:')\n",
    "for word in words:\n",
    "    cloud[word] = cloud.get(word, 0) + 1\n",
    "print(cloud)"
   ]
  },
  {
   "cell_type": "markdown",
   "metadata": {},
   "source": [
    "This code below will help us use a For-loop through a dictionary"
   ]
  },
  {
   "cell_type": "code",
   "execution_count": 13,
   "metadata": {},
   "outputs": [
    {
     "name": "stdout",
     "output_type": "stream",
     "text": [
      "Pratik 10\n",
      "Mansi 20\n",
      "Dipika 30\n",
      "Bharat 40\n"
     ]
    }
   ],
   "source": [
    "# This is a simple way to go through a dictionary with a for-loop\n",
    "counts = {'Pratik':10, 'Mansi':20, 'Dipika':30, 'Bharat':40}\n",
    "for key in counts:\n",
    "    print(key, counts[key]) # Notice you have to include the value and the key in the print \n",
    "# key will refer the the 'key' labels in the dictionary\n",
    "# counts[key] is a reference to the values"
   ]
  },
  {
   "cell_type": "markdown",
   "metadata": {},
   "source": [
    "How to get a list of dictionary 'keys' and 'values'"
   ]
  },
  {
   "cell_type": "code",
   "execution_count": 14,
   "metadata": {},
   "outputs": [
    {
     "name": "stdout",
     "output_type": "stream",
     "text": [
      "['Pratik', 'Mansi', 'Dipika', 'Bharat']\n",
      "dict_keys(['Pratik', 'Mansi', 'Dipika', 'Bharat'])\n"
     ]
    }
   ],
   "source": [
    "## These are some ways to get a list of keys from a dictionary\n",
    "# This is accomplished with the .keys() method\n",
    "counts = {'Pratik':10, 'Mansi':20, 'Dipika':30, 'Bharat':40}\n",
    "the_keys = list(counts)\n",
    "print(the_keys)\n",
    "# You can also use\n",
    "the_keys2 = counts.keys()\n",
    "print(the_keys2)"
   ]
  },
  {
   "cell_type": "code",
   "execution_count": 15,
   "metadata": {},
   "outputs": [
    {
     "name": "stdout",
     "output_type": "stream",
     "text": [
      "dict_values([10, 20, 30, 40])\n",
      "dict_items([('Pratik', 10), ('Mansi', 20), ('Dipika', 30), ('Bharat', 40)])\n"
     ]
    }
   ],
   "source": [
    "## You can also fetch values of the key from a dictionary\n",
    "# This is done using the .value() method\n",
    "counts = {'Pratik':10, 'Mansi':20, 'Dipika':30, 'Bharat':40}\n",
    "the_values = counts.values()\n",
    "print(the_values)\n",
    "# Here is a preview of a 'tuple' that has 'keys' and a 'values'\n",
    "the_items = counts.items()\n",
    "print(the_items)"
   ]
  },
  {
   "cell_type": "markdown",
   "metadata": {},
   "source": [
    "This is how to iterate through both keys and values in a dictionary"
   ]
  },
  {
   "cell_type": "code",
   "execution_count": 17,
   "metadata": {},
   "outputs": [
    {
     "name": "stdout",
     "output_type": "stream",
     "text": [
      "Pratik 10\n",
      "Mansi 20\n",
      "Dipika 30\n",
      "Bharat 40\n"
     ]
    }
   ],
   "source": [
    "# you can specify\n",
    "counts = {'Pratik':10, 'Mansi':20, 'Dipika':30, 'Bharat':40}\n",
    "for a,f in counts.items():\n",
    "    print(a,f)"
   ]
  },
  {
   "cell_type": "markdown",
   "metadata": {},
   "source": [
    "\"The moment you have been waiting for\": \n",
    "How to bring in a file and count the words in that file"
   ]
  },
  {
   "cell_type": "code",
   "execution_count": 18,
   "metadata": {},
   "outputs": [
    {
     "name": "stdout",
     "output_type": "stream",
     "text": [
      "Enter the file name:The\n"
     ]
    }
   ],
   "source": [
    "# Prompt for the file name\n",
    "prompt = input('Enter the file name:')"
   ]
  },
  {
   "cell_type": "code",
   "execution_count": 19,
   "metadata": {},
   "outputs": [
    {
     "name": "stdout",
     "output_type": "stream",
     "text": [
      "<_io.TextIOWrapper name='romeo.txt' mode='r' encoding='cp1252'>\n"
     ]
    }
   ],
   "source": [
    "# Bring the text file into the file handle\n",
    "handle = open('romeo.txt') #prompt\n",
    "print(handle)"
   ]
  },
  {
   "cell_type": "code",
   "execution_count": 20,
   "metadata": {},
   "outputs": [
    {
     "name": "stdout",
     "output_type": "stream",
     "text": [
      "{'But': 1, 'soft': 1, 'what': 1, 'light': 1, 'through': 1, 'yonder': 1, 'window': 1, 'breaks': 1, 'It': 1, 'is': 3, 'the': 3, 'east': 1, 'and': 3, 'Juliet': 1, 'sun': 2, 'Arise': 1, 'fair': 1, 'kill': 1, 'envious': 1, 'moon': 1, 'Who': 1, 'already': 1, 'sick': 1, 'pale': 1, 'with': 1, 'grief': 1}\n"
     ]
    }
   ],
   "source": [
    "# Here is the whole counter code\n",
    "## This is a loop so when we get to words (which are 'lines' we loop agian to the\n",
    "## next 'line')\n",
    "counts = dict()\n",
    "for line in handle: # A loop through the file\n",
    "    words = line.split() # spliting the lines of the file\n",
    "    for word in words: # A loop through the splitted lines\n",
    "        counts[word] = counts.get(word, 0) + 1\n",
    "print(counts)"
   ]
  },
  {
   "cell_type": "code",
   "execution_count": 21,
   "metadata": {},
   "outputs": [
    {
     "name": "stdout",
     "output_type": "stream",
     "text": [
      "The most common word is: is 3\n"
     ]
    }
   ],
   "source": [
    "# The next step of course is to find the words with the largest frequency\n",
    "bigcount = None\n",
    "bigword = None\n",
    "for word, count in counts.items(): # loop the the listified dictionary\n",
    "    if bigcount is None or count > bigcount: # if None or if count is larger than bigcount do\n",
    "        bigword = word\n",
    "        bigcount = count\n",
    "print('The most common word is:', bigword , bigcount)"
   ]
  },
  {
   "cell_type": "code",
   "execution_count": 22,
   "metadata": {},
   "outputs": [
    {
     "name": "stdout",
     "output_type": "stream",
     "text": [
      "-1\n"
     ]
    }
   ],
   "source": [
    "# How to insert a value into a dictionary (Just use .get('name', value))\n",
    "stuff = dict()\n",
    "print(stuff.get('candy',-1))"
   ]
  },
  {
   "cell_type": "markdown",
   "metadata": {},
   "source": [
    "# Creating a Sorted Dictionary"
   ]
  },
  {
   "cell_type": "code",
   "execution_count": 23,
   "metadata": {},
   "outputs": [
    {
     "name": "stdout",
     "output_type": "stream",
     "text": [
      "04 3\n",
      "06 1\n",
      "07 1\n",
      "09 2\n",
      "10 3\n",
      "11 6\n",
      "14 1\n",
      "15 2\n",
      "16 4\n",
      "17 2\n",
      "18 1\n",
      "19 1\n"
     ]
    }
   ],
   "source": [
    "# Example\n",
    "file = open(\"mbox-short.txt\")\n",
    "# print(file)\n",
    "\n",
    "group = dict()\n",
    "days = list()\n",
    "hours = list()\n",
    "for line in file:\n",
    "    line = line.rstrip()\n",
    "    if 'From ' in line:\n",
    "        line = line.split()\n",
    "        # print(line)\n",
    "        for hour in line[5:6]: #[:1]:\n",
    "            hour = hour[:2]\n",
    "            hours.append(hour)\n",
    "\n",
    "for time in hours:\n",
    "    group[time] = group.get(time, 0) + 1\n",
    "\n",
    "sort_list = [(k, v) for k, v in group.items()]\n",
    "sort_list = sorted(sort_list)\n",
    "\n",
    "for key, val in sort_list:\n",
    "    print(key, val)"
   ]
  },
  {
   "cell_type": "code",
   "execution_count": null,
   "metadata": {},
   "outputs": [],
   "source": []
  }
 ],
 "metadata": {
  "kernelspec": {
   "display_name": "Python 3",
   "language": "python",
   "name": "python3"
  },
  "language_info": {
   "codemirror_mode": {
    "name": "ipython",
    "version": 3
   },
   "file_extension": ".py",
   "mimetype": "text/x-python",
   "name": "python",
   "nbconvert_exporter": "python",
   "pygments_lexer": "ipython3",
   "version": "3.7.4"
  }
 },
 "nbformat": 4,
 "nbformat_minor": 2
}
