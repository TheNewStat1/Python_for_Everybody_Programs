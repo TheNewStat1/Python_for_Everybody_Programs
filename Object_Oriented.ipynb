{
 "cells": [
  {
   "cell_type": "markdown",
   "metadata": {},
   "source": [
    "# Object Oriented Definitions and Terminology"
   ]
  },
  {
   "cell_type": "markdown",
   "metadata": {},
   "source": [
    "Basic terminology to understand object oriented programming\n",
    "Program - The actual file that interacts with the outside world (like a python script file)\n"
   ]
  },
  {
   "cell_type": "markdown",
   "metadata": {},
   "source": [
    "Key Points of Object Oriented"
   ]
  },
  {
   "cell_type": "markdown",
   "metadata": {},
   "source": [
    "* Programs are made many cooporating objects\n",
    "* A Program is made of many objects working together\n",
    "* Objects make use of other objects capabilities"
   ]
  },
  {
   "cell_type": "markdown",
   "metadata": {},
   "source": [
    "Key Terminology for objects"
   ]
  },
  {
   "cell_type": "markdown",
   "metadata": {},
   "source": [
    "* Class - a template\n",
    "* Method or Message - A defined capabilility of a class\n",
    "* Field or Attribute - A bit of data in a class\n",
    "* Object or Instance - A particular instance of a class\n"
   ]
  },
  {
   "cell_type": "markdown",
   "metadata": {},
   "source": [
    "An analogy for Classes, Objects, and Methods\n",
    "* Class - Think of the concept of a Dog\n",
    "* Object - The actual dog that you see and hear\n",
    "* Method - This is like a verb it is what the object can do (bark from a dog)"
   ]
  },
  {
   "cell_type": "code",
   "execution_count": 1,
   "metadata": {},
   "outputs": [],
   "source": [
    "# A practical example\n",
    "s = 'abc'\n",
    "d = {'key' : \"abs\"}"
   ]
  },
  {
   "cell_type": "code",
   "execution_count": 2,
   "metadata": {},
   "outputs": [
    {
     "data": {
      "text/plain": [
       "str"
      ]
     },
     "execution_count": 2,
     "metadata": {},
     "output_type": "execute_result"
    }
   ],
   "source": [
    "# The class of object 's'\n",
    "type(s)\n",
    "## is a class = string"
   ]
  },
  {
   "cell_type": "code",
   "execution_count": 3,
   "metadata": {},
   "outputs": [
    {
     "data": {
      "text/plain": [
       "dict"
      ]
     },
     "execution_count": 3,
     "metadata": {},
     "output_type": "execute_result"
    }
   ],
   "source": [
    "# The class of object d\n",
    "type(d)\n",
    "## is a class = dictionary"
   ]
  },
  {
   "cell_type": "markdown",
   "metadata": {},
   "source": [
    "# Creating a Class and Objects"
   ]
  },
  {
   "cell_type": "code",
   "execution_count": 1,
   "metadata": {},
   "outputs": [],
   "source": [
    "# Lets get striaght into it\n",
    "class PartyAnimal: # creates a class called PartyAnimal\n",
    "    x = 0 # creates a variable, x that is in all objects of class PartyAnimal\n",
    "    # This function is will be a method called .Party() for class PartyAnimal\n",
    "    def Party(self): \n",
    "        self.x = self.x + 1  # here self is being pointed to the variable object x\n",
    "        print(\"So far:\", self.x)"
   ]
  },
  {
   "cell_type": "code",
   "execution_count": 2,
   "metadata": {},
   "outputs": [
    {
     "name": "stdout",
     "output_type": "stream",
     "text": [
      "<__main__.PartyAnimal object at 0x000001C5F1E01548>\n"
     ]
    }
   ],
   "source": [
    "# Lets see what the print() of our new class object looks like\n",
    "an = PartyAnimal()\n",
    "print(an)"
   ]
  },
  {
   "cell_type": "code",
   "execution_count": 3,
   "metadata": {},
   "outputs": [
    {
     "data": {
      "text/plain": [
       "__main__.PartyAnimal"
      ]
     },
     "execution_count": 3,
     "metadata": {},
     "output_type": "execute_result"
    }
   ],
   "source": [
    "# Lets take a look at its type\n",
    "type(an)\n",
    "## notice it is of class PartyAnimal"
   ]
  },
  {
   "cell_type": "code",
   "execution_count": 4,
   "metadata": {},
   "outputs": [
    {
     "name": "stdout",
     "output_type": "stream",
     "text": [
      "So far: 1\n"
     ]
    }
   ],
   "source": [
    "# Call the .Party() method to the object of class PartyAnimal\n",
    "## note running this a couple of times goes through the function that makes up the method .Party()\n",
    "an.Party()"
   ]
  },
  {
   "cell_type": "markdown",
   "metadata": {},
   "source": [
    "Using the dir() function"
   ]
  },
  {
   "cell_type": "code",
   "execution_count": 5,
   "metadata": {},
   "outputs": [
    {
     "data": {
      "text/plain": [
       "['Party',\n",
       " '__class__',\n",
       " '__delattr__',\n",
       " '__dict__',\n",
       " '__dir__',\n",
       " '__doc__',\n",
       " '__eq__',\n",
       " '__format__',\n",
       " '__ge__',\n",
       " '__getattribute__',\n",
       " '__gt__',\n",
       " '__hash__',\n",
       " '__init__',\n",
       " '__init_subclass__',\n",
       " '__le__',\n",
       " '__lt__',\n",
       " '__module__',\n",
       " '__ne__',\n",
       " '__new__',\n",
       " '__reduce__',\n",
       " '__reduce_ex__',\n",
       " '__repr__',\n",
       " '__setattr__',\n",
       " '__sizeof__',\n",
       " '__str__',\n",
       " '__subclasshook__',\n",
       " '__weakref__',\n",
       " 'x']"
      ]
     },
     "execution_count": 5,
     "metadata": {},
     "output_type": "execute_result"
    }
   ],
   "source": [
    "# The dir() function tells us the capabilities of a class \n",
    "dir(PartyAnimal) # notice the underscore objects are internal\n",
    "## everything not in underscores are other objects"
   ]
  },
  {
   "cell_type": "markdown",
   "metadata": {},
   "source": [
    "# Object Inheritance"
   ]
  },
  {
   "cell_type": "markdown",
   "metadata": {},
   "source": [
    "Basically an Inheriteded class is a class that has features of another class"
   ]
  },
  {
   "cell_type": "markdown",
   "metadata": {},
   "source": [
    "Here is some more code to help learn what a class is about and inheritance"
   ]
  },
  {
   "cell_type": "code",
   "execution_count": 4,
   "metadata": {},
   "outputs": [],
   "source": [
    "class PartyAnimal:\n",
    "    x = 0\n",
    "    name = \"\"\n",
    "    def __init__(self, nam):\n",
    "        self.name = nam\n",
    "        print(self.name,\"constructed\")\n",
    "        \n",
    "    def party(self):\n",
    "        self.x = self.x + 1\n",
    "        print(self.name, \"party count\", self.x)\n",
    "\n",
    "class FootballFan(PartyAnimal): # specifies the class containes features of another class\n",
    "    points = 0\n",
    "    def touchdown(self):\n",
    "        self.points = self.points + 7\n",
    "        self.party()\n",
    "        print(self.name, \"points\", self.points)"
   ]
  },
  {
   "cell_type": "code",
   "execution_count": 5,
   "metadata": {},
   "outputs": [
    {
     "name": "stdout",
     "output_type": "stream",
     "text": [
      "Sally constructed\n",
      "Sally party count 1\n",
      "Jim constructed\n",
      "Jim party count 1\n",
      "Jim party count 2\n",
      "Jim points 7\n"
     ]
    }
   ],
   "source": [
    "s = PartyAnimal(\"Sally\")\n",
    "s.party()\n",
    "\n",
    "j = FootballFan(\"Jim\")\n",
    "j.party()\n",
    "j.touchdown()"
   ]
  },
  {
   "cell_type": "markdown",
   "metadata": {},
   "source": [
    "The key terms to take away for Object Oriented Programming are:\n",
    "* Class - a template of code\n",
    "* Attribute - a variable within a class\n",
    "* Method - a function within a class\n",
    "* Object - a particular instance of a class (an thing)\n",
    "* Constructor - code that runs when an object is created\n",
    "* Inheritance - The ability to extend a class to make a new class"
   ]
  },
  {
   "cell_type": "markdown",
   "metadata": {},
   "source": [
    "# Object Life Cycle"
   ]
  },
  {
   "cell_type": "markdown",
   "metadata": {},
   "source": [
    "Notes on an Objects lifecycle"
   ]
  },
  {
   "cell_type": "markdown",
   "metadata": {},
   "source": [
    "Constructors - making a new object; \n",
    "Destructor - overwriting an object"
   ]
  },
  {
   "cell_type": "code",
   "execution_count": 6,
   "metadata": {},
   "outputs": [],
   "source": [
    "# A programming exampling a Constructor and Destructor\n",
    "class PartyAnimal:\n",
    "    x = 0\n",
    "    def __init__(self):\n",
    "        print(\"This is a Constructor\")\n",
    "    \n",
    "    def Party(self):\n",
    "        self.x = self.x + 1\n",
    "        print(\"So far:\", self.x)\n",
    "    \n",
    "    def __del__(self):\n",
    "        print(\"This is a Destructor\")\n"
   ]
  },
  {
   "cell_type": "code",
   "execution_count": 7,
   "metadata": {},
   "outputs": [
    {
     "name": "stdout",
     "output_type": "stream",
     "text": [
      "This is a Constructor\n",
      "So far: 1\n",
      "So far: 2\n"
     ]
    }
   ],
   "source": [
    "# Run the program\n",
    "an = PartyAnimal()\n",
    "an.Party()\n",
    "an.Party()"
   ]
  },
  {
   "cell_type": "code",
   "execution_count": 8,
   "metadata": {},
   "outputs": [
    {
     "name": "stdout",
     "output_type": "stream",
     "text": [
      "This is a Destructor\n",
      "42\n"
     ]
    }
   ],
   "source": [
    "# to destruct the object 'an' re-asign its value\n",
    "an = 42\n",
    "print(an)"
   ]
  },
  {
   "cell_type": "markdown",
   "metadata": {},
   "source": [
    "A constructor then is block of statements that are called for object creation"
   ]
  },
  {
   "cell_type": "markdown",
   "metadata": {},
   "source": [
    "Likewise we can have many instances (Objects)\n",
    "* We can store each object in its own variable in python\n",
    "* We say that we have multiple instances of the same class (many objects of a class)\n",
    "* Each instance has it own copy of the instance variable"
   ]
  },
  {
   "cell_type": "code",
   "execution_count": 9,
   "metadata": {},
   "outputs": [
    {
     "name": "stdout",
     "output_type": "stream",
     "text": [
      "Sally constructor\n",
      "Jim constructor\n",
      "Jim party count 1\n",
      "Sally party count 1\n"
     ]
    }
   ],
   "source": [
    "# Here is an example of an instance variable\n",
    "class PartyAnimal:\n",
    "    x = 0\n",
    "    name = \"\"\n",
    "    def __init__(self, z):\n",
    "        self.name = z\n",
    "        print(self.name,\"constructor\")\n",
    "    \n",
    "    def party(self):\n",
    "        self.x = self.x + 1\n",
    "        print(self.name,\"party count\", self.x)\n",
    "    \n",
    "s = PartyAnimal(\"Sally\") # creates object s with data for Sally\n",
    "s.party # applies the defined method .party() to object s\n",
    "\n",
    "j = PartyAnimal(\"Jim\") # create object j with data for Jim\n",
    "j.party()\n",
    "s.party()\n"
   ]
  },
  {
   "cell_type": "code",
   "execution_count": null,
   "metadata": {},
   "outputs": [],
   "source": []
  }
 ],
 "metadata": {
  "kernelspec": {
   "display_name": "Python 3",
   "language": "python",
   "name": "python3"
  },
  "language_info": {
   "codemirror_mode": {
    "name": "ipython",
    "version": 3
   },
   "file_extension": ".py",
   "mimetype": "text/x-python",
   "name": "python",
   "nbconvert_exporter": "python",
   "pygments_lexer": "ipython3",
   "version": "3.7.4"
  }
 },
 "nbformat": 4,
 "nbformat_minor": 2
}
