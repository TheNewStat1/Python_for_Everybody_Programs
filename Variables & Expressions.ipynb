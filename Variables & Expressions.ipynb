{
 "cells": [
  {
   "cell_type": "markdown",
   "metadata": {},
   "source": [
    "# Hello World!"
   ]
  },
  {
   "cell_type": "markdown",
   "metadata": {},
   "source": [
    "### This is everybodies first python code"
   ]
  },
  {
   "cell_type": "code",
   "execution_count": 10,
   "metadata": {},
   "outputs": [
    {
     "name": "stdout",
     "output_type": "stream",
     "text": [
      "Hello World!\n",
      "Hello Data Scientist!\n"
     ]
    }
   ],
   "source": [
    "print(\"Hello World!\")\n",
    "print(\"Hello Data Scientist!\")"
   ]
  },
  {
   "cell_type": "markdown",
   "metadata": {},
   "source": [
    "# Comments"
   ]
  },
  {
   "cell_type": "markdown",
   "metadata": {},
   "source": [
    "### You Write Comments in Python by using the hash \"#\". Everything on that line after the hash (#) is considered a comment and is not procesed by Python."
   ]
  },
  {
   "cell_type": "code",
   "execution_count": 2,
   "metadata": {},
   "outputs": [
    {
     "name": "stdout",
     "output_type": "stream",
     "text": [
      "Hello World!\n",
      "I am your Father!\n"
     ]
    }
   ],
   "source": [
    "# This is the Famous Hello World program\n",
    "print(\"Hello World!\")\n",
    "\n",
    "# Fun with Hello World style program\n",
    "print(\"I am your Father!\")"
   ]
  },
  {
   "cell_type": "markdown",
   "metadata": {},
   "source": [
    "# Integers & Strings"
   ]
  },
  {
   "cell_type": "code",
   "execution_count": 1,
   "metadata": {},
   "outputs": [
    {
     "name": "stdout",
     "output_type": "stream",
     "text": [
      "This is a single quote string.\n",
      "This is a double quote string.\n"
     ]
    }
   ],
   "source": [
    "# Strings in Python with single quotes\n",
    "print('This is a single quote string.')\n",
    "\n",
    "# double quote string\n",
    "print(\"This is a double quote string.\")"
   ]
  },
  {
   "cell_type": "code",
   "execution_count": 12,
   "metadata": {},
   "outputs": [
    {
     "name": "stdout",
     "output_type": "stream",
     "text": [
      "5\n",
      "-98\n",
      "10002\n"
     ]
    }
   ],
   "source": [
    "# printing integers\n",
    "print(5)\n",
    "print(-98)\n",
    "print(10002)"
   ]
  },
  {
   "cell_type": "code",
   "execution_count": 13,
   "metadata": {},
   "outputs": [
    {
     "name": "stdout",
     "output_type": "stream",
     "text": [
      "88\n",
      "88\n"
     ]
    },
    {
     "data": {
      "text/plain": [
       "88"
      ]
     },
     "execution_count": 13,
     "metadata": {},
     "output_type": "execute_result"
    }
   ],
   "source": [
    "# printing & echoing integers & string\n",
    "print('88')\n",
    "print(88)\n",
    "\"88\"\n",
    "88"
   ]
  },
  {
   "cell_type": "code",
   "execution_count": 14,
   "metadata": {},
   "outputs": [
    {
     "data": {
      "text/plain": [
       "'88'"
      ]
     },
     "execution_count": 14,
     "metadata": {},
     "output_type": "execute_result"
    }
   ],
   "source": [
    "\"88\""
   ]
  },
  {
   "cell_type": "code",
   "execution_count": 15,
   "metadata": {},
   "outputs": [
    {
     "data": {
      "text/plain": [
       "88"
      ]
     },
     "execution_count": 15,
     "metadata": {},
     "output_type": "execute_result"
    }
   ],
   "source": [
    "88"
   ]
  },
  {
   "cell_type": "markdown",
   "metadata": {},
   "source": [
    "# Variables"
   ]
  },
  {
   "cell_type": "code",
   "execution_count": 17,
   "metadata": {},
   "outputs": [
    {
     "name": "stdout",
     "output_type": "stream",
     "text": [
      "Pratik Patel\n"
     ]
    }
   ],
   "source": [
    "# Variables\n",
    "student_name = 'Pratik Patel'\n",
    "print(student_name)"
   ]
  },
  {
   "cell_type": "code",
   "execution_count": 18,
   "metadata": {},
   "outputs": [
    {
     "name": "stdout",
     "output_type": "stream",
     "text": [
      "This variable is a str\n",
      "This variable is now a new msg\n"
     ]
    }
   ],
   "source": [
    "# Another Example of Variables\n",
    "current_msg = 'This variable is a str'\n",
    "print(current_msg)\n",
    "current_msg = 'This variable is now a new msg'\n",
    "print(current_msg)"
   ]
  },
  {
   "cell_type": "markdown",
   "metadata": {},
   "source": [
    "Python variables can change between the data types "
   ]
  },
  {
   "cell_type": "code",
   "execution_count": 2,
   "metadata": {},
   "outputs": [
    {
     "name": "stdout",
     "output_type": "stream",
     "text": [
      "Pratik Patel\n"
     ]
    }
   ],
   "source": [
    "# created variable -> name\n",
    "name = 'Pratik Patel'\n",
    "print(name)"
   ]
  },
  {
   "cell_type": "code",
   "execution_count": 3,
   "metadata": {},
   "outputs": [
    {
     "name": "stdout",
     "output_type": "stream",
     "text": [
      "22\n",
      "Pratik\n"
     ]
    }
   ],
   "source": [
    "test_value = 22\n",
    "print(test_value)\n",
    "test_value = 'Pratik'\n",
    "print(test_value)"
   ]
  },
  {
   "cell_type": "code",
   "execution_count": 20,
   "metadata": {},
   "outputs": [
    {
     "name": "stdout",
     "output_type": "stream",
     "text": [
      "Mansi Patel\n",
      "Pratik Patel\n",
      "Blue\n"
     ]
    }
   ],
   "source": [
    "student_name = \"Mansi Patel\"\n",
    "print(student_name)\n",
    "\n",
    "student_name = \"Pratik Patel\"\n",
    "print(student_name)\n",
    "\n",
    "student_name = \"Blue\"\n",
    "print(student_name)"
   ]
  },
  {
   "cell_type": "code",
   "execution_count": 21,
   "metadata": {},
   "outputs": [
    {
     "name": "stdout",
     "output_type": "stream",
     "text": [
      "5\n",
      "6\n"
     ]
    }
   ],
   "source": [
    "bucket = 5\n",
    "print(bucket)\n",
    "\n",
    "bucket = 6\n",
    "print(bucket)"
   ]
  },
  {
   "cell_type": "code",
   "execution_count": 22,
   "metadata": {},
   "outputs": [
    {
     "name": "stdout",
     "output_type": "stream",
     "text": [
      "123\n",
      "123\n"
     ]
    }
   ],
   "source": [
    "# Printing two different data types\n",
    "print(123)\n",
    "print(\"123\")"
   ]
  },
  {
   "cell_type": "markdown",
   "metadata": {},
   "source": [
    "# Addition Operator"
   ]
  },
  {
   "cell_type": "markdown",
   "metadata": {},
   "source": [
    "### You can do numeric addtion or you can concatinate(Combine) strings"
   ]
  },
  {
   "cell_type": "code",
   "execution_count": 28,
   "metadata": {},
   "outputs": [
    {
     "data": {
      "text/plain": [
       "10"
      ]
     },
     "execution_count": 28,
     "metadata": {},
     "output_type": "execute_result"
    }
   ],
   "source": [
    "# Examples of using the addition operator\n",
    "3 + 9\n"
   ]
  },
  {
   "cell_type": "code",
   "execution_count": 29,
   "metadata": {},
   "outputs": [
    {
     "data": {
      "text/plain": [
       "10"
      ]
     },
     "execution_count": 29,
     "metadata": {},
     "output_type": "execute_result"
    }
   ],
   "source": [
    "3 + 6 + 1"
   ]
  },
  {
   "cell_type": "code",
   "execution_count": 26,
   "metadata": {},
   "outputs": [
    {
     "name": "stdout",
     "output_type": "stream",
     "text": [
      "Hi Pratik\n",
      "HiMansi\n"
     ]
    }
   ],
   "source": [
    "# or concatinate two strings\n",
    "print(\"Hi \" + \"Pratik\")\n",
    "print(\"Hi\" + \"Mansi\")"
   ]
  },
  {
   "cell_type": "code",
   "execution_count": 27,
   "metadata": {},
   "outputs": [
    {
     "data": {
      "text/plain": [
       "'My shoes are Black'"
      ]
     },
     "execution_count": 27,
     "metadata": {},
     "output_type": "execute_result"
    }
   ],
   "source": [
    "# Another example\n",
    "shoe_color = \"Black\"\n",
    "\"My shoes are \" + shoe_color"
   ]
  },
  {
   "cell_type": "code",
   "execution_count": 31,
   "metadata": {},
   "outputs": [
    {
     "data": {
      "text/plain": [
       "10002"
      ]
     },
     "execution_count": 31,
     "metadata": {},
     "output_type": "execute_result"
    }
   ],
   "source": [
    "# Example\n",
    "High_num = 10000\n",
    "Small_num = 2\n",
    "High_num + Small_num"
   ]
  },
  {
   "cell_type": "markdown",
   "metadata": {},
   "source": [
    "# User Input Function"
   ]
  },
  {
   "cell_type": "code",
   "execution_count": 42,
   "metadata": {},
   "outputs": [
    {
     "name": "stdout",
     "output_type": "stream",
     "text": [
      "Type in a small number\n",
      "2\n"
     ]
    }
   ],
   "source": [
    "# Example Using the input function input()\n",
    "print(\"Type in a small number\")\n",
    "small_num = input()"
   ]
  },
  {
   "cell_type": "code",
   "execution_count": 38,
   "metadata": {},
   "outputs": [
    {
     "name": "stdout",
     "output_type": "stream",
     "text": [
      "Enter the student name: Pratik\n",
      "Hello Pratik\n"
     ]
    }
   ],
   "source": [
    "# Additional comments with a user input\n",
    "student_name = input(\"Enter the student name: \")\n",
    "print(\"Hello \" + student_name)"
   ]
  },
  {
   "cell_type": "code",
   "execution_count": 39,
   "metadata": {},
   "outputs": [
    {
     "name": "stdout",
     "output_type": "stream",
     "text": [
      "What city are you from: Brandon\n",
      "the city name is Brandon\n"
     ]
    }
   ],
   "source": [
    "city = input(\"What city are you from: \")\n",
    "print(\"the city name is \" + city)"
   ]
  },
  {
   "cell_type": "code",
   "execution_count": 40,
   "metadata": {},
   "outputs": [
    {
     "name": "stdout",
     "output_type": "stream",
     "text": [
      "What is your name? Pratik\n",
      "How old are you? 25\n",
      " Do you want to receive an email? ppratikbp@gmail.com\n",
      "Hello Pratik.\n",
      "You are 25 years old.\n",
      "You answered ppratikbp@gmail.com to getting an email.\n"
     ]
    }
   ],
   "source": [
    "# Multi-input prompts in the code\n",
    "name = input(\"What is your name? \")\n",
    "age = input(\"How old are you? \")\n",
    "get_email = input(\" Do you want to receive an email? \")\n",
    "\n",
    "print(\"Hello \" + name + \".\")\n",
    "print(\"You are \" + age + \" years old.\")\n",
    "print(\"You answered \" + get_email + \" to getting an email.\" )"
   ]
  },
  {
   "cell_type": "markdown",
   "metadata": {},
   "source": [
    "# Concatenation"
   ]
  },
  {
   "cell_type": "code",
   "execution_count": 32,
   "metadata": {},
   "outputs": [
    {
     "name": "stdout",
     "output_type": "stream",
     "text": [
      "Hi Pratik\n",
      "Hi Pratik\n"
     ]
    }
   ],
   "source": [
    "# Concatenation using commas vs. + sign\n",
    "name = \"Pratik\"\n",
    "print(\"Hi \" + name)\n",
    "print(\"Hi\", name)"
   ]
  },
  {
   "cell_type": "code",
   "execution_count": 33,
   "metadata": {},
   "outputs": [
    {
     "name": "stdout",
     "output_type": "stream",
     "text": [
      "What can I do for you?\n"
     ]
    }
   ],
   "source": [
    "print(\"What\", \"can I\", \"do\", \"for\", \"you?\")"
   ]
  },
  {
   "cell_type": "code",
   "execution_count": 37,
   "metadata": {},
   "outputs": [
    {
     "name": "stdout",
     "output_type": "stream",
     "text": [
      "The number is 520 try to guess the next number?\n",
      "The number 20 plus the number 50 is equal to 70\n",
      "The magic number is 6\n"
     ]
    }
   ],
   "source": [
    "# Numbers and strings can be concatenated using commas\n",
    "print(\"The number is\", 520, \"try to guess the next number?\")\n",
    "\n",
    "Number_1 = 20\n",
    "Number_2 = 50\n",
    "print(\"The number\", Number_1, \"plus the number\", Number_2, \"is equal to\", Number_1 + Number_2)\n",
    "\n",
    "number = 6\n",
    "print(\"The magic number is\", number)"
   ]
  },
  {
   "cell_type": "code",
   "execution_count": 36,
   "metadata": {},
   "outputs": [
    {
     "name": "stdout",
     "output_type": "stream",
     "text": [
      "What is your street name\n",
      "Yes\n",
      "what is your street No.\n",
      "no\n",
      "Your address is no Yes\n"
     ]
    }
   ],
   "source": [
    "# Example code \n",
    "print(\"What is your street name\")\n",
    "street = input()\n",
    "print(\"what is your street No.\")\n",
    "street_num = input()\n",
    "print(\"Your address is\", street_num, street)"
   ]
  },
  {
   "cell_type": "code",
   "execution_count": null,
   "metadata": {},
   "outputs": [],
   "source": [
    "# How many people are going to show up to an event.\n",
    "Reserver = input(\"What is your name? \")\n",
    "Num_party = input(\"How many people are you reserving for? \")\n",
    "time = input(\"How long do you intend to stay? \")\n",
    "arrival_time = 15\n",
    "print(\"Remember!\", Reserver, \"you reserved a party of\", Num_party,\"people for \" + time + \".\")\n",
    "print(\"Please arrive\", arrival_time, \"early.\")"
   ]
  },
  {
   "cell_type": "markdown",
   "metadata": {},
   "source": [
    "# The type() Function# "
   ]
  },
  {
   "cell_type": "markdown",
   "metadata": {},
   "source": [
    "### The type() function returns the data type. This can be a string (str) integer (int) or a float (which is a decimal)"
   ]
  },
  {
   "cell_type": "code",
   "execution_count": 61,
   "metadata": {},
   "outputs": [
    {
     "data": {
      "text/plain": [
       "str"
      ]
     },
     "execution_count": 61,
     "metadata": {},
     "output_type": "execute_result"
    }
   ],
   "source": [
    "# Examples\n",
    "# string type\n",
    "type(\"Hello World!\")"
   ]
  },
  {
   "cell_type": "code",
   "execution_count": 62,
   "metadata": {},
   "outputs": [
    {
     "data": {
      "text/plain": [
       "int"
      ]
     },
     "execution_count": 62,
     "metadata": {},
     "output_type": "execute_result"
    }
   ],
   "source": [
    "# integer type\n",
    "type(501)"
   ]
  },
  {
   "cell_type": "code",
   "execution_count": 68,
   "metadata": {},
   "outputs": [
    {
     "data": {
      "text/plain": [
       "float"
      ]
     },
     "execution_count": 68,
     "metadata": {},
     "output_type": "execute_result"
    }
   ],
   "source": [
    "# type float (decimal)\n",
    "type (8.333333)"
   ]
  },
  {
   "cell_type": "code",
   "execution_count": 69,
   "metadata": {},
   "outputs": [
    {
     "data": {
      "text/plain": [
       "str"
      ]
     },
     "execution_count": 69,
     "metadata": {},
     "output_type": "execute_result"
    }
   ],
   "source": [
    "# type of a variable\n",
    "student_name = \"Pratik\"\n",
    "type(student_name)"
   ]
  },
  {
   "cell_type": "code",
   "execution_count": 66,
   "metadata": {},
   "outputs": [
    {
     "name": "stdout",
     "output_type": "stream",
     "text": [
      "<class 'str'>\n"
     ]
    }
   ],
   "source": [
    "# Can also print the type() function\n",
    "print(type(student_name))"
   ]
  },
  {
   "cell_type": "code",
   "execution_count": 70,
   "metadata": {},
   "outputs": [
    {
     "data": {
      "text/plain": [
       "type"
      ]
     },
     "execution_count": 70,
     "metadata": {},
     "output_type": "execute_result"
    }
   ],
   "source": [
    "# The type() of a type()\n",
    "type(type(3))"
   ]
  },
  {
   "cell_type": "markdown",
   "metadata": {},
   "source": [
    "# Boolean String Tests"
   ]
  },
  {
   "cell_type": "markdown",
   "metadata": {},
   "source": [
    "### Common Boolean (True or False) Str methods"
   ]
  },
  {
   "cell_type": "code",
   "execution_count": 43,
   "metadata": {},
   "outputs": [
    {
     "name": "stdout",
     "output_type": "stream",
     "text": [
      "True\n",
      "False\n"
     ]
    }
   ],
   "source": [
    "# Tests if the string is all alphabets\n",
    "First = \"Hello\".isalpha()\n",
    "print(First)\n",
    "Second = \"7\".isalpha()\n",
    "print(Second)"
   ]
  },
  {
   "cell_type": "code",
   "execution_count": 48,
   "metadata": {},
   "outputs": [
    {
     "data": {
      "text/plain": [
       "True"
      ]
     },
     "execution_count": 48,
     "metadata": {},
     "output_type": "execute_result"
    }
   ],
   "source": [
    "# Tests if the str literals are all numbers\n",
    "\"125\".isalnum()"
   ]
  },
  {
   "cell_type": "code",
   "execution_count": 47,
   "metadata": {},
   "outputs": [
    {
     "data": {
      "text/plain": [
       "False"
      ]
     },
     "execution_count": 47,
     "metadata": {},
     "output_type": "execute_result"
    }
   ],
   "source": [
    "# Spaces are not a number\n",
    "\"12 \" .isalnum()"
   ]
  },
  {
   "cell_type": "code",
   "execution_count": 49,
   "metadata": {},
   "outputs": [
    {
     "name": "stdout",
     "output_type": "stream",
     "text": [
      "True\n",
      "False\n"
     ]
    }
   ],
   "source": [
    "# Tests to see if the first letter of every word in the str is capitalized\n",
    "print(\"Star Wars\".istitle())\n",
    "print(\"The end\".istitle())"
   ]
  },
  {
   "cell_type": "code",
   "execution_count": 51,
   "metadata": {},
   "outputs": [
    {
     "name": "stdout",
     "output_type": "stream",
     "text": [
      "True\n",
      "False\n"
     ]
    }
   ],
   "source": [
    "# Tests if the str is a digit Number\n",
    "print(\"523\" .isdigit())\n",
    "print(\"Pi\" .isdigit())"
   ]
  },
  {
   "cell_type": "code",
   "execution_count": 52,
   "metadata": {},
   "outputs": [
    {
     "data": {
      "text/plain": [
       "True"
      ]
     },
     "execution_count": 52,
     "metadata": {},
     "output_type": "execute_result"
    }
   ],
   "source": [
    "# Tests to see if the letters in the str are lowercase\n",
    "\"lowercase letters here\" .islower()"
   ]
  },
  {
   "cell_type": "code",
   "execution_count": 53,
   "metadata": {},
   "outputs": [
    {
     "data": {
      "text/plain": [
       "True"
      ]
     },
     "execution_count": 53,
     "metadata": {},
     "output_type": "execute_result"
    }
   ],
   "source": [
    "# Tests to see if the letters in the str are capitalized\n",
    "\"THE WORDS HERE ARE CAPS\" .isupper()"
   ]
  },
  {
   "cell_type": "code",
   "execution_count": 54,
   "metadata": {},
   "outputs": [
    {
     "data": {
      "text/plain": [
       "False"
      ]
     },
     "execution_count": 54,
     "metadata": {},
     "output_type": "execute_result"
    }
   ],
   "source": [
    "# Tests the input to see if the first character appears in the str\n",
    "\"p is for pie, pumpkins, and peanuts\".startswith(\"6\")"
   ]
  },
  {
   "cell_type": "code",
   "execution_count": 57,
   "metadata": {},
   "outputs": [
    {
     "data": {
      "text/plain": [
       "True"
      ]
     },
     "execution_count": 57,
     "metadata": {},
     "output_type": "execute_result"
    }
   ],
   "source": [
    "# check to see if all letters are characters\n",
    "\"alphabetical\" .isalpha()"
   ]
  },
  {
   "cell_type": "code",
   "execution_count": 56,
   "metadata": {},
   "outputs": [
    {
     "data": {
      "text/plain": [
       "False"
      ]
     },
     "execution_count": 56,
     "metadata": {},
     "output_type": "execute_result"
    }
   ],
   "source": [
    "# Spaces are not alphabets either\n",
    "\"Are spaces alphabeticals\" .isalpha()"
   ]
  },
  {
   "cell_type": "code",
   "execution_count": 71,
   "metadata": {},
   "outputs": [
    {
     "name": "stdout",
     "output_type": "stream",
     "text": [
      "The word 23corn is made up of all alphabets = False\n"
     ]
    }
   ],
   "source": [
    "# Example \n",
    "alpha_test = \"23corn\"\n",
    "print(\"The word\", alpha_test, \"is made up of all alphabets\", \"=\", alpha_test .isalpha())"
   ]
  },
  {
   "cell_type": "code",
   "execution_count": null,
   "metadata": {},
   "outputs": [],
   "source": []
  }
 ],
 "metadata": {
  "kernelspec": {
   "display_name": "Python 3",
   "language": "python",
   "name": "python3"
  },
  "language_info": {
   "codemirror_mode": {
    "name": "ipython",
    "version": 3
   },
   "file_extension": ".py",
   "mimetype": "text/x-python",
   "name": "python",
   "nbconvert_exporter": "python",
   "pygments_lexer": "ipython3",
   "version": "3.7.4"
  }
 },
 "nbformat": 4,
 "nbformat_minor": 2
}
