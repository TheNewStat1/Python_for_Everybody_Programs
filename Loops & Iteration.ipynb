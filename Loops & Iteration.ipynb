{
 "cells": [
  {
   "cell_type": "markdown",
   "metadata": {},
   "source": [
    "# String Iteration"
   ]
  },
  {
   "cell_type": "code",
   "execution_count": 5,
   "metadata": {},
   "outputs": [
    {
     "name": "stdout",
     "output_type": "stream",
     "text": [
      "c\n",
      "e\n",
      "l\n",
      "l\n",
      "o\n"
     ]
    }
   ],
   "source": [
    "# to iterate for letter in a word Use the 'for' loop.\n",
    "word = 'cello'\n",
    "\n",
    "for letter in word:\n",
    "    print(letter)\n",
    "    "
   ]
  },
  {
   "cell_type": "code",
   "execution_count": 6,
   "metadata": {},
   "outputs": [
    {
     "name": "stdout",
     "output_type": "stream",
     "text": [
      "t\n",
      "r\n",
      "u\n",
      "m\n",
      "p\n",
      "e\n",
      "t\n"
     ]
    }
   ],
   "source": [
    "word = \"trumpet\"\n",
    "for item in word:\n",
    "    print(item)"
   ]
  },
  {
   "cell_type": "code",
   "execution_count": 7,
   "metadata": {},
   "outputs": [
    {
     "name": "stdout",
     "output_type": "stream",
     "text": [
      "Pratik to PraTik\n"
     ]
    }
   ],
   "source": [
    "# Another Example that concatinates at each iteration\n",
    "name = \"Pratik\"\n",
    "new_name = ''\n",
    "\n",
    "for itr in name:\n",
    "    if itr.lower() == \"t\":\n",
    "        new_name += itr.upper()\n",
    "    else:\n",
    "        new_name += itr\n",
    "print(name, \"to\", new_name)"
   ]
  },
  {
   "cell_type": "code",
   "execution_count": 10,
   "metadata": {},
   "outputs": [
    {
     "name": "stdout",
     "output_type": "stream",
     "text": [
      "M\n",
      "a\n",
      "n\n",
      "s\n",
      "i\n"
     ]
    }
   ],
   "source": [
    "# Example\n",
    "first = \"Mansi\"\n",
    "for spread in first:\n",
    "    print(spread)"
   ]
  },
  {
   "cell_type": "code",
   "execution_count": 11,
   "metadata": {},
   "outputs": [
    {
     "name": "stdout",
     "output_type": "stream",
     "text": [
      "What is your first name? Mansi\n",
      "The new name is: MansI\n"
     ]
    }
   ],
   "source": [
    "# Example\n",
    "first_name = input(\"What is your first name? \")\n",
    "new_name = ''\n",
    "for name_itr in first_name:\n",
    "    if name_itr.lower() == 'i':\n",
    "        new_name += name_itr.upper()\n",
    "    elif name_itr.lower() == 'o':\n",
    "        new_name += name_itr.upper()\n",
    "    else:\n",
    "        new_name += name_itr\n",
    "print(\"The new name is: \" + new_name)\n",
    "    "
   ]
  },
  {
   "cell_type": "markdown",
   "metadata": {},
   "source": [
    "# String Slicing & Interation"
   ]
  },
  {
   "cell_type": "code",
   "execution_count": 2,
   "metadata": {},
   "outputs": [
    {
     "name": "stdout",
     "output_type": "stream",
     "text": [
      "P\n",
      "r\n",
      "a\n"
     ]
    }
   ],
   "source": [
    "# This combines str slicing and an iteration using the for var in var loop.\n",
    "student_name = \"Pratik\"\n",
    "\n",
    "for letter in student_name[:3]:\n",
    "    print(letter)"
   ]
  },
  {
   "cell_type": "code",
   "execution_count": 4,
   "metadata": {},
   "outputs": [
    {
     "name": "stdout",
     "output_type": "stream",
     "text": [
      "l\n",
      "e\n",
      "t\n",
      "a\n",
      "P\n"
     ]
    }
   ],
   "source": [
    "# Example\n",
    "student_l_name = \"Patel\"\n",
    "\n",
    "for last in student_l_name[::-1]:\n",
    "    print(last)"
   ]
  },
  {
   "cell_type": "code",
   "execution_count": 5,
   "metadata": {},
   "outputs": [
    {
     "name": "stdout",
     "output_type": "stream",
     "text": [
      "y\n",
      "k\n",
      "s\n"
     ]
    }
   ],
   "source": [
    "# Example\n",
    "student = \"skye\"\n",
    "# remember that [::-1] means list backwards\n",
    "for word in student[2::-1]:\n",
    "    print(word)"
   ]
  },
  {
   "cell_type": "code",
   "execution_count": 8,
   "metadata": {},
   "outputs": [
    {
     "name": "stdout",
     "output_type": "stream",
     "text": [
      "j\n",
      "x\n",
      "a\n",
      "o\n",
      "i\n",
      "i\n",
      "n\n"
     ]
    }
   ],
   "source": [
    "# Example\n",
    "long_word = \"juxtaposition\"\n",
    "# creates a print for every word \n",
    "for long in long_word[::2]:\n",
    "    print(long)"
   ]
  },
  {
   "cell_type": "code",
   "execution_count": 9,
   "metadata": {},
   "outputs": [
    {
     "name": "stdout",
     "output_type": "stream",
     "text": [
      "What is your favorite color? Blue\n",
      "eulBBlue\n"
     ]
    }
   ],
   "source": [
    "    favorite_color = input(\"What is your favorite color? \")\n",
    "print(favorite_color[::-1] + favorite_color)"
   ]
  },
  {
   "cell_type": "markdown",
   "metadata": {},
   "source": [
    "# Increment Variable"
   ]
  },
  {
   "cell_type": "code",
   "execution_count": 10,
   "metadata": {},
   "outputs": [
    {
     "name": "stdout",
     "output_type": "stream",
     "text": [
      "6\n",
      "7\n",
      "9\n",
      "8\n"
     ]
    }
   ],
   "source": [
    "# Two types of ways to increment a Var in python\n",
    "# var = var + 1\n",
    "# or var += 1\n",
    "\n",
    "# Var can also be decremented \n",
    "# var = var - 1\n",
    "# or var -= 1\n",
    "\n",
    "# Example\n",
    "votes = 6\n",
    "print(votes)\n",
    "\n",
    "votes = votes + 1\n",
    "print(votes)\n",
    "\n",
    "votes += 2\n",
    "print(votes)\n",
    "\n",
    "votes -= 1\n",
    "print(votes)\n"
   ]
  },
  {
   "cell_type": "code",
   "execution_count": 11,
   "metadata": {},
   "outputs": [
    {
     "name": "stdout",
     "output_type": "stream",
     "text": [
      "seat count: 0\n",
      "seat count: 1\n",
      "seat count: 2\n",
      "seat count: 3\n",
      "seat count: 4\n"
     ]
    }
   ],
   "source": [
    "# Seat count Example\n",
    "seat_count = 0\n",
    "while True:\n",
    "    print(\"seat count:\", seat_count)\n",
    "    seat_count = seat_count + 1\n",
    "    if seat_count > 4:\n",
    "        break"
   ]
  },
  {
   "cell_type": "code",
   "execution_count": 12,
   "metadata": {},
   "outputs": [
    {
     "name": "stdout",
     "output_type": "stream",
     "text": [
      "enter seat type of \"hard\", \"soft\", or \"exit\"(to finish)finish\n",
      "Invalid input: counted as hard\n",
      "enter seat type of \"hard\", \"soft\", or \"exit\"(to finish)exit\n",
      "\n",
      "1 seats Total:  1 hard and 0 soft\n"
     ]
    }
   ],
   "source": [
    "# Seat count type example\n",
    "seat_count = 0\n",
    "soft_seat = 0\n",
    "hard_seat = 0\n",
    "num_seat = 4\n",
    "\n",
    "while True:\n",
    "    seat_type = input('enter seat type of \"hard\", \"soft\", or \"exit\"(to finish)')\n",
    "    if seat_type.lower().startswith(\"e\"):\n",
    "        print()\n",
    "        break\n",
    "    elif seat_type.lower() == \"hard\":\n",
    "        hard_seat += 1\n",
    "    elif seat_type.lower() == \"soft\":\n",
    "        soft_seat += 1\n",
    "    else:\n",
    "        print(\"Invalid input: counted as hard\")\n",
    "        hard_seat += 1\n",
    "    seat_count += 1\n",
    "    if seat_count >= num_seat:\n",
    "        print(\"\\nseats are full\")\n",
    "        break\n",
    "\n",
    "print(seat_count, \"seats Total: \", hard_seat, \"hard and\", soft_seat, \"soft\")"
   ]
  },
  {
   "cell_type": "markdown",
   "metadata": {},
   "source": [
    "# The While Loop"
   ]
  },
  {
   "cell_type": "code",
   "execution_count": 13,
   "metadata": {},
   "outputs": [
    {
     "name": "stdout",
     "output_type": "stream",
     "text": [
      "5 !\n",
      "4 !\n",
      "3 !\n",
      "2 !\n",
      "1 !\n",
      "\n",
      "IGNITION\n"
     ]
    }
   ],
   "source": [
    "# Using while loop with comparision operators <, >, >=, <=\n",
    "\n",
    "# Example\n",
    "greet_count = 5\n",
    "\n",
    "while greet_count > 0:\n",
    "    print(greet_count, \"!\")\n",
    "    greet_count -= 1\n",
    "print(\"\\nIGNITION\")\n"
   ]
  },
  {
   "cell_type": "code",
   "execution_count": 14,
   "metadata": {},
   "outputs": [
    {
     "name": "stdout",
     "output_type": "stream",
     "text": [
      "Need more animals. Only have 1\n",
      "Need more animals. Only have 2\n",
      "Need more animals. Only have 3\n",
      "Need more animals. Only have 4\n",
      "Need more animals. Only have 5\n",
      "Need more animals. Only have 6\n",
      "Need more animals. Only have 7\n",
      "Need more animals. Only have 8\n",
      "Need more animals. Only have 9\n",
      "Need more animals. Only have 10\n",
      "too many animals for pen\n"
     ]
    }
   ],
   "source": [
    "# Example\n",
    "count_an = 1\n",
    "while count_an <= 10:\n",
    "    print(\"Need more animals. Only have\", count_an)\n",
    "    count_an += 1\n",
    "while count_an > 10:\n",
    "    print('too many animals for pen')\n",
    "    break\n",
    "    "
   ]
  },
  {
   "cell_type": "markdown",
   "metadata": {},
   "source": [
    "# While True Loops"
   ]
  },
  {
   "cell_type": "code",
   "execution_count": 15,
   "metadata": {},
   "outputs": [
    {
     "name": "stdout",
     "output_type": "stream",
     "text": [
      "write forever, unless there is a \"break\"\n"
     ]
    }
   ],
   "source": [
    "#A while True loop runs forever unless a break is added to it\n",
    "# Example\n",
    "while True:\n",
    "    print('write forever, unless there is a \"break\"')\n",
    "    break"
   ]
  },
  {
   "cell_type": "code",
   "execution_count": 16,
   "metadata": {},
   "outputs": [
    {
     "name": "stdout",
     "output_type": "stream",
     "text": [
      "guess the number 1 to 5: 6\n",
      "6 is incorrect\n",
      "\n",
      "guess the number 1 to 5: 2\n",
      "2 is incorrect\n",
      "\n",
      "guess the number 1 to 5: 3\n",
      "3 is incorrect\n",
      "\n",
      "guess the number 1 to 5: 1\n",
      "1 is incorrect\n",
      "\n",
      "guess the number 1 to 5: 4\n",
      "4 is incorrect\n",
      "\n",
      "guess the number 1 to 5: 3\n",
      "3 is incorrect\n",
      "\n",
      "guess the number 1 to 5: 5\n",
      "yes 5 is correct!\n",
      "\n"
     ]
    }
   ],
   "source": [
    "\n",
    "secret_num = '5'\n",
    "\n",
    "while True:\n",
    "    num_guess = input(\"guess the number 1 to 5: \")\n",
    "    if num_guess == secret_num:\n",
    "        print(\"yes\", num_guess,\"is correct!\\n\")\n",
    "        break\n",
    "    else:\n",
    "        print(num_guess,\"is incorrect\\n\")\n",
    "    "
   ]
  },
  {
   "cell_type": "code",
   "execution_count": 17,
   "metadata": {},
   "outputs": [
    {
     "name": "stdout",
     "output_type": "stream",
     "text": [
      "Enter weather (sunny, rainy, snowy or quit): cloudy\n",
      "Sorry not sure what to suggest o_o\n",
      "Enter weather (sunny, rainy, snowy or quit): rainy\n",
      "Bring an umbrella\n"
     ]
    }
   ],
   "source": [
    "while True:\n",
    "    weather = input(\"Enter weather (sunny, rainy, snowy or quit): \")\n",
    "    if weather.lower() == 'sunny':\n",
    "        print(\"Wear a t-shirt & sunscreen\")\n",
    "        break\n",
    "    elif weather.lower() == 'rainy':\n",
    "        print(\"Bring an umbrella\")\n",
    "        break\n",
    "    elif weather.lower() == 'snowy':\n",
    "        print(\"Wear a warm coat & hat\")\n",
    "        break\n",
    "    elif weather.lower().startswith(\"q\"):\n",
    "        print('\"quit\" detected, exiting')\n",
    "        break\n",
    "    else:\n",
    "        print(\"Sorry not sure what to suggest o_o\")"
   ]
  },
  {
   "cell_type": "code",
   "execution_count": 18,
   "metadata": {},
   "outputs": [
    {
     "name": "stdout",
     "output_type": "stream",
     "text": [
      "Enter the correct name:\n",
      "name\n",
      "Wrong name\n",
      "Enter the correct name:\n",
      "why\n",
      "Wrong name\n",
      "Enter the correct name:\n",
      "\n",
      "This is not a name\n",
      "Enter the correct name:\n",
      "False\n",
      "Wrong name\n",
      "Enter the correct name:\n",
      "Pratik\n",
      "Welcome Pratik\n"
     ]
    }
   ],
   "source": [
    "# Name forever Program\n",
    "familar_name = \"\"\n",
    "while True:\n",
    "    familar_name = input(\"Enter the correct name:\\n\")\n",
    "    if familar_name.title() == \"Pratik\":\n",
    "        print(\"Welcome\", familar_name.title())\n",
    "        break\n",
    "    elif familar_name.isalpha() == False:\n",
    "        print(\"This is not a name\")\n",
    "    elif familar_name != 'Pratik':\n",
    "        print(\"Wrong name\")\n",
    "    "
   ]
  },
  {
   "cell_type": "code",
   "execution_count": 19,
   "metadata": {},
   "outputs": [
    {
     "name": "stdout",
     "output_type": "stream",
     "text": [
      "Enter first name (letters, no space)No\n",
      "\n",
      "'No' has been entered as the first name\n"
     ]
    }
   ],
   "source": [
    "# Using a while with boolean str operation Example\n",
    "student_fname = \"\"\n",
    "\n",
    "while student_fname.isalpha() == False:\n",
    "    student_fname = input('Enter first name (letters, no space)')\n",
    "\n",
    "print(\"\\n\" + \"\\'\" + student_fname.title() + \"\\'\", 'has been entered as the first name')"
   ]
  },
  {
   "cell_type": "code",
   "execution_count": 20,
   "metadata": {},
   "outputs": [
    {
     "name": "stdout",
     "output_type": "stream",
     "text": [
      "enter a positive integer: Yes\n",
      "enter a positive integer: No\n",
      "enter a positive integer: 2\n",
      "2 is an integer\n"
     ]
    }
   ],
   "source": [
    "# Another Example\n",
    "number = \"\"\n",
    "while number.isdigit() != True:\n",
    "    number = input(\"enter a positive integer: \")\n",
    "\n",
    "print(number, 'is an integer')"
   ]
  },
  {
   "cell_type": "code",
   "execution_count": 21,
   "metadata": {},
   "outputs": [
    {
     "name": "stdout",
     "output_type": "stream",
     "text": [
      "Sorry can't hear, please yell message: Mansi\n",
      "Sorry can't hear, please yell message: MANSI\n",
      "message: \"MANSI\" recieved\n"
     ]
    }
   ],
   "source": [
    "message = 'hi'\n",
    "\n",
    "while message.isupper() != True:\n",
    "    message = input(\"Sorry can\\'t hear, please yell message: \")\n",
    "print('message: \"' + message + '\" recieved')"
   ]
  },
  {
   "cell_type": "markdown",
   "metadata": {},
   "source": [
    "# The For-in Loop"
   ]
  },
  {
   "cell_type": "code",
   "execution_count": 1,
   "metadata": {},
   "outputs": [
    {
     "name": "stdout",
     "output_type": "stream",
     "text": [
      "New York\n",
      "Shanghai\n",
      "Munich\n",
      "Tokyo\n",
      "Dubai\n",
      "Sao Paulo\n",
      "Hyderabad\n"
     ]
    }
   ],
   "source": [
    "# This is how to iterate through a list using (for)  and (in)\n",
    "# This code goes through each item in the list and prints each item\n",
    "cities = ['New York', 'Shanghai', 'Munich', 'Tokyo', 'Dubai', 'Sao Paulo', 'Hyderabad'] # This is a list \n",
    "for city in cities:\n",
    "    print(city)"
   ]
  },
  {
   "cell_type": "code",
   "execution_count": 2,
   "metadata": {},
   "outputs": [
    {
     "name": "stdout",
     "output_type": "stream",
     "text": [
      "132.68\n"
     ]
    }
   ],
   "source": [
    "# Example\n",
    "sales = [6, 8, 9, 11, 12, 17, 19, 20, 22]\n",
    "total = 0\n",
    "sale_tax = 1.07\n",
    "\n",
    "for sale in sales:\n",
    "    total += (sale*sale_tax)\n",
    "print(total)"
   ]
  },
  {
   "cell_type": "code",
   "execution_count": 3,
   "metadata": {},
   "outputs": [
    {
     "name": "stdout",
     "output_type": "stream",
     "text": [
      "Bharat\n",
      "Dipika\n",
      "Mansi\n",
      "Pratik\n"
     ]
    }
   ],
   "source": [
    "# Example \n",
    "family = ['Bharat', 'Dipika', 'Mansi', \"Pratik\"]\n",
    "\n",
    "for member in family:\n",
    "    print(member)"
   ]
  },
  {
   "cell_type": "code",
   "execution_count": null,
   "metadata": {},
   "outputs": [],
   "source": []
  }
 ],
 "metadata": {
  "kernelspec": {
   "display_name": "Python 3",
   "language": "python",
   "name": "python3"
  },
  "language_info": {
   "codemirror_mode": {
    "name": "ipython",
    "version": 3
   },
   "file_extension": ".py",
   "mimetype": "text/x-python",
   "name": "python",
   "nbconvert_exporter": "python",
   "pygments_lexer": "ipython3",
   "version": "3.7.4"
  }
 },
 "nbformat": 4,
 "nbformat_minor": 2
}
