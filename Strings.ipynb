{
 "cells": [
  {
   "cell_type": "markdown",
   "metadata": {},
   "source": [
    "# Helpful String Methods & Functions"
   ]
  },
  {
   "cell_type": "code",
   "execution_count": 1,
   "metadata": {},
   "outputs": [
    {
     "name": "stdout",
     "output_type": "stream",
     "text": [
      "14 \n",
      "\n",
      "letter \"e\" occurences\n",
      "2 \n",
      "\n",
      "find the index of the first space\n",
      "4 \n",
      "\n"
     ]
    }
   ],
   "source": [
    "# General Examples of len(), .count() & .find() function and methods\n",
    "# Example of len() function\n",
    "work_tip = 'Save your code'\n",
    "print(len(work_tip), \"\\n\")\n",
    "\n",
    "# Example of .count() method\n",
    "print('letter \"e\" occurences')\n",
    "print(work_tip.count(\"e\"), \"\\n\")\n",
    "\n",
    "# Example of the .find() method \n",
    "# finds the index (position of the character) of the first space in this example\n",
    "print('find the index of the first space')\n",
    "print(work_tip.find(\" \"), \"\\n\")\n"
   ]
  },
  {
   "cell_type": "code",
   "execution_count": 3,
   "metadata": {},
   "outputs": [
    {
     "name": "stdout",
     "output_type": "stream",
     "text": [
      "find the index of \"u\" searching a slice work_tip[3:9] - e your\n",
      "7 \n",
      "\n"
     ]
    }
   ],
   "source": [
    "# finding an index position from a str slicer\n",
    "# here the (3,9) represent \n",
    "print('find the index of \"u\" searching a slice work_tip[3:9] -', work_tip[3:9])\n",
    "print(work_tip.find(\"u\",3,9),\"\\n\")"
   ]
  },
  {
   "cell_type": "code",
   "execution_count": 4,
   "metadata": {},
   "outputs": [
    {
     "name": "stdout",
     "output_type": "stream",
     "text": [
      "find the index of \"e\" searching a slice work_tip[4:] -  your code\n",
      "13\n"
     ]
    }
   ],
   "source": [
    "print('find the index of \"e\" searching a slice work_tip[4:] -', work_tip[4:])\n",
    "print(work_tip.find(\"e\",4))"
   ]
  },
  {
   "cell_type": "code",
   "execution_count": 5,
   "metadata": {},
   "outputs": [
    {
     "name": "stdout",
     "output_type": "stream",
     "text": [
      "The sentence: \"good code is commented code\" has character length = \" 27\n"
     ]
    }
   ],
   "source": [
    "# using the len() function returns the length of a string\n",
    "work_tip = \"good code is commented code\"\n",
    "\n",
    "print(\"The sentence: \\\"\" + work_tip +\"\\\" has character length = \\\"\", len(work_tip))"
   ]
  },
  {
   "cell_type": "code",
   "execution_count": 6,
   "metadata": {},
   "outputs": [
    {
     "name": "stdout",
     "output_type": "stream",
     "text": [
      "The variable midpoint is a str and is 13 characters long\n",
      "good code is \n",
      "commented code\n"
     ]
    }
   ],
   "source": [
    "# More example code using the len() function\n",
    "work_tip = \"good code is commented code\"\n",
    "mid_pt = int(len(work_tip)/2)\n",
    "\n",
    "print(\"The variable midpoint is a str and is\",mid_pt, 'characters long'), \n",
    "print(work_tip[:mid_pt])\n",
    "print(work_tip[mid_pt:])"
   ]
  },
  {
   "cell_type": "code",
   "execution_count": 7,
   "metadata": {},
   "outputs": [
    {
     "name": "stdout",
     "output_type": "stream",
     "text": [
      "Learn about python packages\n",
      "how many w's? 0\n",
      "how many o's?, 2\n",
      "uses 'p', how many times? 2\n"
     ]
    }
   ],
   "source": [
    "# the .count() method returns the times a character or sub-str is used in a str\n",
    "work_tip = \"Learn about python packages\"\n",
    "print(work_tip)\n",
    "print(\"how many w's?\", work_tip.count(\"w\"))\n",
    "print(\"how many o's?,\", work_tip.count(\"o\"))\n",
    "print(\"uses 'p', how many times?\", work_tip.count(\"p\"))"
   ]
  },
  {
   "cell_type": "code",
   "execution_count": 8,
   "metadata": {},
   "outputs": [
    {
     "name": "stdout",
     "output_type": "stream",
     "text": [
      "continue learning \n",
      "# o's in the first half\n",
      "1\n",
      "\n",
      "data science daily\n",
      "# o's in second half\n",
      "0\n"
     ]
    }
   ],
   "source": [
    "# more examples using the count method\n",
    "work_tip = \"continue learning data science daily\"\n",
    "mid_pt = int(len(work_tip)/2)\n",
    "print(work_tip[:mid_pt])\n",
    "print(\"# o's in the first half\")\n",
    "print(work_tip[:mid_pt].count(\"o\"))\n",
    "# above code returns the number of o's in the first have of the new work_tip\n",
    "\n",
    "print()\n",
    "print(work_tip[mid_pt:])\n",
    "print(\"# o's in second half\")\n",
    "print(work_tip[mid_pt:].count(\"o\"))"
   ]
  },
  {
   "cell_type": "code",
   "execution_count": 9,
   "metadata": {},
   "outputs": [
    {
     "name": "stdout",
     "output_type": "stream",
     "text": [
      "good code has meaningful variable names\n",
      "5 = starting index for code\n"
     ]
    }
   ],
   "source": [
    "# The .find(str) method returns the index of the first character or substring match\n",
    "# returns -1 if no match found\n",
    "work_tip = 'good code has meaningful variable names'\n",
    "print(work_tip)\n",
    "code_here = work_tip.find('code')\n",
    "print(code_here, '= starting index for code')"
   ]
  },
  {
   "cell_type": "code",
   "execution_count": 10,
   "metadata": {},
   "outputs": [
    {
     "name": "stdout",
     "output_type": "stream",
     "text": [
      "search for \"meaning\" in the sub-string:  meaningful variable \n",
      "\n",
      "\"meaning\" found in work_tip[13:33] sub-string search at index 14\n"
     ]
    }
   ],
   "source": [
    "# more examples using the .find(str) method\n",
    "print('search for \"meaning\" in the sub-string:', work_tip[13:33], \"\\n\")\n",
    "meaning_here = work_tip.find(\"meaning\",13,33)\n",
    "print('\"meaning\" found in work_tip[13:33] sub-string search at index', meaning_here)"
   ]
  },
  {
   "cell_type": "code",
   "execution_count": 13,
   "metadata": {},
   "outputs": [
    {
     "name": "stdout",
     "output_type": "stream",
     "text": [
      "work_tip: good code has meaningful variable names\n",
      "'o' at index = 1\n",
      "'o' at index = 2\n",
      "'o' at index = 6\n"
     ]
    }
   ],
   "source": [
    "print(\"work_tip:\", work_tip)\n",
    "location = work_tip.find(\"o\")\n",
    "\n",
    "while location >= 0:\n",
    "    print(\"'o' at index =\", location)\n",
    "    location = work_tip.find(\"o\", location + 1)\n",
    "    "
   ]
  },
  {
   "cell_type": "code",
   "execution_count": 21,
   "metadata": {},
   "outputs": [
    {
     "name": "stdout",
     "output_type": "stream",
     "text": [
      "15\n"
     ]
    }
   ],
   "source": [
    "# Example code using len() to find mid point of a str\n",
    "pro_tip = \"work on programming every night\"\n",
    "mid_point = int(len(pro_tip)/2)\n",
    "print(mid_point)"
   ]
  },
  {
   "cell_type": "code",
   "execution_count": 24,
   "metadata": {},
   "outputs": [
    {
     "name": "stdout",
     "output_type": "stream",
     "text": [
      "7\n",
      "2\n"
     ]
    }
   ],
   "source": [
    "# Example code using .count() for finding the amount of random letters\n",
    "pro_tip_2 = \"Remember to be innovative in everything you do\"\n",
    "print(pro_tip_2.count(\"e\"))\n",
    "print(pro_tip_2.count(\"y\"))"
   ]
  },
  {
   "cell_type": "code",
   "execution_count": 6,
   "metadata": {},
   "outputs": [
    {
     "name": "stdout",
     "output_type": "stream",
     "text": [
      "12\n"
     ]
    }
   ],
   "source": [
    "# Example using the .find() method to find location of a character or sub-str\n",
    "pro_tip_3 = \"A winner is just a loser who tried one more time\"\n",
    "# don't forget indexing starts at zero\n",
    "print(pro_tip_3.find('just'))"
   ]
  },
  {
   "cell_type": "markdown",
   "metadata": {},
   "source": [
    "# String Indexing"
   ]
  },
  {
   "cell_type": "code",
   "execution_count": 2,
   "metadata": {},
   "outputs": [
    {
     "name": "stdout",
     "output_type": "stream",
     "text": [
      "P\n",
      "a\n",
      "r\n"
     ]
    }
   ],
   "source": [
    "# Accessing a Single String Character (called an Index)\n",
    "# Indexing starts with '0' starting with the first chracter in the str\n",
    "# Example 'Alton' index 0 = 'A', index 1 = 'l', index 2 = 't' etc.\n",
    "\n",
    "name = \"Pratik\"\n",
    "# How to print out the nth index\n",
    "print(name[0]) # prints 1st letter\n",
    "print(name[2]) # prints 3rd letter\n",
    "print(name[1]) #  prints 2nd letter"
   ]
  },
  {
   "cell_type": "code",
   "execution_count": 3,
   "metadata": {},
   "outputs": [
    {
     "name": "stdout",
     "output_type": "stream",
     "text": [
      "Enter name: Pratik\n",
      "Winner! Name starts with P: Pratik\n"
     ]
    }
   ],
   "source": [
    "#Example\n",
    "student = input('Enter name: ')\n",
    "if student[0].lower() == 'p':\n",
    "    print('Winner! Name starts with P:', student)\n",
    "elif student[0].lower() == 'm':\n",
    "    print('Looser! you Loose, your name starts with an m', student)\n",
    "else:\n",
    "    print(\"type another number\")"
   ]
  },
  {
   "cell_type": "code",
   "execution_count": 6,
   "metadata": {},
   "outputs": [
    {
     "ename": "IndexError",
     "evalue": "string index out of range",
     "output_type": "error",
     "traceback": [
      "\u001b[1;31m---------------------------------------------------------------------------\u001b[0m",
      "\u001b[1;31mIndexError\u001b[0m                                Traceback (most recent call last)",
      "\u001b[1;32m<ipython-input-6-91d0231ab1d6>\u001b[0m in \u001b[0;36m<module>\u001b[1;34m\u001b[0m\n\u001b[0;32m      2\u001b[0m \u001b[0mID\u001b[0m \u001b[1;33m=\u001b[0m \u001b[1;34m'12345'\u001b[0m\u001b[1;33m\u001b[0m\u001b[1;33m\u001b[0m\u001b[0m\n\u001b[0;32m      3\u001b[0m \u001b[1;31m# Remember 0 is the first character 1 is the 2nd and so on\u001b[0m\u001b[1;33m\u001b[0m\u001b[1;33m\u001b[0m\u001b[1;33m\u001b[0m\u001b[0m\n\u001b[1;32m----> 4\u001b[1;33m \u001b[0mprint\u001b[0m\u001b[1;33m(\u001b[0m\u001b[0mID\u001b[0m\u001b[1;33m[\u001b[0m\u001b[1;36m5\u001b[0m\u001b[1;33m]\u001b[0m\u001b[1;33m)\u001b[0m\u001b[1;33m\u001b[0m\u001b[1;33m\u001b[0m\u001b[0m\n\u001b[0m",
      "\u001b[1;31mIndexError\u001b[0m: string index out of range"
     ]
    }
   ],
   "source": [
    "# Example The index always starts at '0'\n",
    "ID = '12345'\n",
    "# Remember 0 is the first character 1 is the 2nd and so on\n",
    "print(ID[5])"
   ]
  },
  {
   "cell_type": "code",
   "execution_count": 7,
   "metadata": {},
   "outputs": [
    {
     "name": "stdout",
     "output_type": "stream",
     "text": [
      "5\n"
     ]
    }
   ],
   "source": [
    "# Correct Index\n",
    "print(ID[4])"
   ]
  },
  {
   "cell_type": "code",
   "execution_count": 8,
   "metadata": {},
   "outputs": [
    {
     "name": "stdout",
     "output_type": "stream",
     "text": [
      "T\n",
      "l\n",
      "o\n"
     ]
    }
   ],
   "source": [
    "# Example\n",
    "street_name = 'Talwood'\n",
    "print(street_name[0])\n",
    "print(street_name[2])\n",
    "print(street_name[4])"
   ]
  },
  {
   "cell_type": "markdown",
   "metadata": {},
   "source": [
    "# String Index Slicing"
   ]
  },
  {
   "cell_type": "code",
   "execution_count": 9,
   "metadata": {},
   "outputs": [
    {
     "data": {
      "text/plain": [
       "'Man'"
      ]
     },
     "execution_count": 9,
     "metadata": {},
     "output_type": "execute_result"
    }
   ],
   "source": [
    "# Sclicing an index \n",
    "# index is sliced when using var_name[index_1, index_2]\n",
    "# index_1 is included in the output\n",
    "# index_2 is excluded so only the value infront of it is printed\n",
    "\n",
    "\n",
    "# Index Slicing[start:stop] Example\n",
    "student_name = \"Mansi\"\n",
    "student_name[0:3]"
   ]
  },
  {
   "cell_type": "code",
   "execution_count": 10,
   "metadata": {},
   "outputs": [
    {
     "name": "stdout",
     "output_type": "stream",
     "text": [
      "The name 'Mansi' has Man in it.\n"
     ]
    }
   ],
   "source": [
    "student = 'Mansi'\n",
    "print(\"The name 'Mansi' has\", student[0:3], \"in it.\")"
   ]
  },
  {
   "cell_type": "code",
   "execution_count": 11,
   "metadata": {},
   "outputs": [
    {
     "name": "stdout",
     "output_type": "stream",
     "text": [
      "tic\n",
      "act\n"
     ]
    }
   ],
   "source": [
    "long_word = \"Characteristics\"\n",
    "# slice 'tic'\n",
    "print(long_word[11:14])\n",
    "# slice 'act'\n",
    "print(long_word[4:7])"
   ]
  },
  {
   "cell_type": "code",
   "execution_count": 12,
   "metadata": {},
   "outputs": [
    {
     "name": "stdout",
     "output_type": "stream",
     "text": [
      "sequence\n"
     ]
    }
   ],
   "source": [
    "new_word = \"Consequence\"\n",
    "print(new_word[3:11])"
   ]
  },
  {
   "cell_type": "markdown",
   "metadata": {},
   "source": [
    "# Step Index Slicing"
   ]
  },
  {
   "cell_type": "code",
   "execution_count": 13,
   "metadata": {},
   "outputs": [
    {
     "data": {
      "text/plain": [
       "'Colette'"
      ]
     },
     "execution_count": 13,
     "metadata": {},
     "output_type": "execute_result"
    }
   ],
   "source": [
    "# Using Step slicing\n",
    "# [:] returns the entire str\n",
    "# [::2] returns the first character then steps to every other character in the str\n",
    "# [1::3] returns the second char. then steps to every third character\n",
    "# these are called stepwising [::]\n",
    "\n",
    "# Examples\n",
    "student = \"Colette\"\n",
    "student[:]"
   ]
  },
  {
   "cell_type": "code",
   "execution_count": 14,
   "metadata": {},
   "outputs": [
    {
     "data": {
      "text/plain": [
       "'Clte'"
      ]
     },
     "execution_count": 14,
     "metadata": {},
     "output_type": "execute_result"
    }
   ],
   "source": [
    "# returns every other character and the first character\n",
    "student[::2]"
   ]
  },
  {
   "cell_type": "code",
   "execution_count": 15,
   "metadata": {},
   "outputs": [
    {
     "data": {
      "text/plain": [
       "'oet'"
      ]
     },
     "execution_count": 15,
     "metadata": {},
     "output_type": "execute_result"
    }
   ],
   "source": [
    "# Returns the first character and then every other character\n",
    "student[1::2]"
   ]
  },
  {
   "cell_type": "code",
   "execution_count": 16,
   "metadata": {},
   "outputs": [
    {
     "name": "stdout",
     "output_type": "stream",
     "text": [
      "osqec\n"
     ]
    }
   ],
   "source": [
    "l_word = \"Consequences\"\n",
    "print(l_word[1:10:2])\n",
    "# Returns the first character through the 10th character but skips ever 2nd character"
   ]
  },
  {
   "cell_type": "code",
   "execution_count": 17,
   "metadata": {},
   "outputs": [
    {
     "name": "stdout",
     "output_type": "stream",
     "text": [
      "coemt\n"
     ]
    }
   ],
   "source": [
    "# Example\n",
    "long_word = \"Acknowledgment\"\n",
    "print(long_word[1::3])"
   ]
  },
  {
   "cell_type": "markdown",
   "metadata": {},
   "source": [
    "# Reverse Index Slicing"
   ]
  },
  {
   "cell_type": "code",
   "execution_count": 19,
   "metadata": {},
   "outputs": [
    {
     "name": "stdout",
     "output_type": "stream",
     "text": [
      "scitsiretcarahc\n"
     ]
    }
   ],
   "source": [
    "# An easy way to reverse a str is to use [::-1] backward steping\n",
    "# Can also reverse slice step a str example: [5::-1]\n",
    "\n",
    "# Example\n",
    "# outputs the str backwards\n",
    "word = \"characteristics\"\n",
    "print(word[::-1])"
   ]
  },
  {
   "cell_type": "code",
   "execution_count": 20,
   "metadata": {},
   "outputs": [
    {
     "name": "stdout",
     "output_type": "stream",
     "text": [
      "tcarahc\n"
     ]
    }
   ],
   "source": [
    "# Slice reverse stepping from the 7th character 0 =  '1st character'\n",
    "print(word[6::-1])"
   ]
  },
  {
   "cell_type": "code",
   "execution_count": 24,
   "metadata": {},
   "outputs": [
    {
     "name": "stdout",
     "output_type": "stream",
     "text": [
      "desserts\n",
      "serts\n",
      "stres\n",
      "serts\n",
      "dess\n"
     ]
    }
   ],
   "source": [
    "# Examples\n",
    "test_word = 'stressed'\n",
    "print(test_word[::-1])\n",
    "# reverses from the 4th index toward the beggining\n",
    "print(test_word[4::-1])\n",
    "\n",
    "\n",
    "print(test_word[:5])\n",
    "print(test_word[4::-1])\n",
    "# How to reverse the last 4 digets of test_word\n",
    "print(test_word[:3:-1])"
   ]
  },
  {
   "cell_type": "markdown",
   "metadata": {},
   "source": [
    "# Negative Index Slicing"
   ]
  },
  {
   "cell_type": "code",
   "execution_count": 25,
   "metadata": {},
   "outputs": [
    {
     "name": "stdout",
     "output_type": "stream",
     "text": [
      "k\n",
      "i\n",
      "t\n",
      "i\n",
      "P\n"
     ]
    }
   ],
   "source": [
    "# We can assign negative indexes as well \n",
    "# Example Joana has 0 = J, 1 = o etc. (positive indexing)\n",
    "# In negative indexing Joana has -1 = a, -2 = n, -3 = a(the 2nd to last 'a') and so on\n",
    "\n",
    "# Examples\n",
    "student = 'Pratik'\n",
    "print(student[-1])\n",
    "print(student[-2])\n",
    "print(student[-3])\n",
    "print(student[4])\n",
    "print(student[0])\n",
    "# note the 4th and the -3 index is the same"
   ]
  },
  {
   "cell_type": "code",
   "execution_count": 26,
   "metadata": {},
   "outputs": [
    {
     "name": "stdout",
     "output_type": "stream",
     "text": [
      "Mansi ends with 'i'\n",
      "Second to last letter of Mansi is s\n"
     ]
    }
   ],
   "source": [
    "# Example \n",
    "student = 'Mansi'\n",
    "end_letter = student[-1]\n",
    "second_to_last = student[-2]\n",
    "print(student, \"ends with\", \"'\" + end_letter + \"'\")\n",
    "print(\"Second to last letter of\", student, \"is\", second_to_last)"
   ]
  },
  {
   "cell_type": "code",
   "execution_count": 27,
   "metadata": {},
   "outputs": [
    {
     "name": "stdout",
     "output_type": "stream",
     "text": [
      "The last three letters of Talwood \n",
      " are\n",
      "'ood'\n"
     ]
    }
   ],
   "source": [
    "# Example\n",
    "street = 'Talwood'\n",
    "print('The last three letters of', street, \"\\n are\" )\n",
    "print(\"\\'\" + street[-3] + street[-2] + street[-1] + \"\\'\")"
   ]
  },
  {
   "cell_type": "code",
   "execution_count": 28,
   "metadata": {},
   "outputs": [
    {
     "name": "stdout",
     "output_type": "stream",
     "text": [
      "k\n",
      "P\n"
     ]
    }
   ],
   "source": [
    "# Example\n",
    "first_name = 'Pratik'\n",
    "print(first_name[-1])\n",
    "print(first_name[-6])"
   ]
  },
  {
   "cell_type": "code",
   "execution_count": 31,
   "metadata": {},
   "outputs": [
    {
     "name": "stdout",
     "output_type": "stream",
     "text": [
      "Pra\n"
     ]
    }
   ],
   "source": [
    "# Index slicing using the [:stop] format\n",
    "student ='Pratik'\n",
    "print(student[:3])"
   ]
  },
  {
   "cell_type": "code",
   "execution_count": 32,
   "metadata": {},
   "outputs": [
    {
     "name": "stdout",
     "output_type": "stream",
     "text": [
      "P\n",
      "Pr\n",
      "Pra\n"
     ]
    }
   ],
   "source": [
    "print(student[:1])\n",
    "print(student[:2])\n",
    "print(student[:3])"
   ]
  },
  {
   "cell_type": "code",
   "execution_count": 33,
   "metadata": {},
   "outputs": [
    {
     "name": "stdout",
     "output_type": "stream",
     "text": [
      "Conseq\n"
     ]
    }
   ],
   "source": [
    "# Example\n",
    "long_word = 'Consequences'\n",
    "print(long_word[:6])"
   ]
  },
  {
   "cell_type": "code",
   "execution_count": 34,
   "metadata": {},
   "outputs": [
    {
     "name": "stdout",
     "output_type": "stream",
     "text": [
      "no\n"
     ]
    }
   ],
   "source": [
    "long_word = 'Consequences'\n",
    "print(long_word[2] + long_word[1])"
   ]
  },
  {
   "cell_type": "code",
   "execution_count": 36,
   "metadata": {},
   "outputs": [
    {
     "name": "stdout",
     "output_type": "stream",
     "text": [
      "si\n",
      "ansi\n",
      "quence\n"
     ]
    }
   ],
   "source": [
    "# Index slicing from the middle to the end using [value:] format\n",
    "student_name = \"Mansi\"\n",
    "print(student_name[3:])\n",
    "print(student_name[1:])\n",
    "word = 'Consequence'\n",
    "print(word[5:])"
   ]
  },
  {
   "cell_type": "markdown",
   "metadata": {},
   "source": [
    "# String Escape Sequences"
   ]
  },
  {
   "cell_type": "code",
   "execution_count": 37,
   "metadata": {},
   "outputs": [
    {
     "name": "stdout",
     "output_type": "stream",
     "text": [
      "Hello World! \n",
      "I am formatting this print\n"
     ]
    }
   ],
   "source": [
    "# Backslashes \"\\\" are used in escape sequences\n",
    "# \\\\ Backslash (\\)\n",
    "# \\' Single quote (')\n",
    "# \\\" Double qote (\")\n",
    "# \\t Tab button to generate space\n",
    "# \\n Return on a newline\n",
    "\n",
    "# Example of \\n (Return on new line)\n",
    "print('Hello World! \\nI am formatting this print')"
   ]
  },
  {
   "cell_type": "code",
   "execution_count": 38,
   "metadata": {},
   "outputs": [
    {
     "name": "stdout",
     "output_type": "stream",
     "text": [
      "STUDENT NAME\t\tAGE\n",
      "Pratik \t\t\t 23\n"
     ]
    }
   ],
   "source": [
    "# Example with tab escape sequence (\\t)\n",
    "student_age = 23\n",
    "student = \"Pratik\"\n",
    "print(\"STUDENT NAME\\t\\tAGE\")\n",
    "print(student, '\\t\\t\\t', student_age)"
   ]
  },
  {
   "cell_type": "code",
   "execution_count": 39,
   "metadata": {},
   "outputs": [
    {
     "name": "stdout",
     "output_type": "stream",
     "text": [
      "Hi my name is 'Pratik'\n",
      " My favorite movie is \"Star Wars\"\n"
     ]
    }
   ],
   "source": [
    "# Example using \\' and \\\" escape sequences\n",
    "print(\"Hi my name is \\'Pratik\\'\")\n",
    "print(\" My favorite movie is \\\"Star Wars\\\"\")"
   ]
  },
  {
   "cell_type": "code",
   "execution_count": 40,
   "metadata": {},
   "outputs": [
    {
     "name": "stdout",
     "output_type": "stream",
     "text": [
      "\\\\\\WARNING!///\n"
     ]
    }
   ],
   "source": [
    "# example\n",
    "print('\\\\\\\\\\WARNING!///')"
   ]
  },
  {
   "cell_type": "code",
   "execution_count": 41,
   "metadata": {},
   "outputs": [
    {
     "name": "stdout",
     "output_type": "stream",
     "text": [
      "\"What's that?\" isn't a specific question\n"
     ]
    }
   ],
   "source": [
    "# Example\n",
    "print(\"\\\"What\\'s that?\\\" isn't a specific question\" )"
   ]
  },
  {
   "cell_type": "code",
   "execution_count": 42,
   "metadata": {},
   "outputs": [
    {
     "name": "stdout",
     "output_type": "stream",
     "text": [
      "one\t\ttwo\t\tthree\n",
      "four\t\tfive\t\tsix\n"
     ]
    }
   ],
   "source": [
    "# Example \n",
    "print('one\\t\\ttwo\\t\\tthree\\nfour\\t\\tfive\\t\\tsix')"
   ]
  },
  {
   "cell_type": "code",
   "execution_count": 43,
   "metadata": {},
   "outputs": [
    {
     "name": "stdout",
     "output_type": "stream",
     "text": [
      "Enter word that starts with 'pre' preform\n"
     ]
    },
    {
     "data": {
      "text/plain": [
       "True"
      ]
     },
     "execution_count": 43,
     "metadata": {},
     "output_type": "execute_result"
    }
   ],
   "source": [
    "# Example of pre_word function\n",
    "word = input(\"Enter word that starts with \\'pre\\' \")\n",
    "def pre_word():\n",
    "    if word.isalpha() == True:\n",
    "        if word.startswith('pre') == True:\n",
    "            return True\n",
    "        else:\n",
    "                print('your word does not start with \\'pre\\'')      \n",
    "    else:\n",
    "        print('Your input is not a word')\n",
    "\n",
    "        \n",
    "pre_word()\n"
   ]
  },
  {
   "cell_type": "code",
   "execution_count": null,
   "metadata": {},
   "outputs": [],
   "source": []
  }
 ],
 "metadata": {
  "kernelspec": {
   "display_name": "Python 3",
   "language": "python",
   "name": "python3"
  },
  "language_info": {
   "codemirror_mode": {
    "name": "ipython",
    "version": 3
   },
   "file_extension": ".py",
   "mimetype": "text/x-python",
   "name": "python",
   "nbconvert_exporter": "python",
   "pygments_lexer": "ipython3",
   "version": "3.7.4"
  }
 },
 "nbformat": 4,
 "nbformat_minor": 2
}
