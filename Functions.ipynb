{
 "cells": [
  {
   "cell_type": "markdown",
   "metadata": {},
   "source": [
    "# Functions in Python"
   ]
  },
  {
   "cell_type": "code",
   "execution_count": 3,
   "metadata": {},
   "outputs": [
    {
     "name": "stdout",
     "output_type": "stream",
     "text": [
      "This str is the arguement of the function print\n"
     ]
    },
    {
     "data": {
      "text/plain": [
       "float"
      ]
     },
     "execution_count": 3,
     "metadata": {},
     "output_type": "execute_result"
    }
   ],
   "source": [
    "# The print() functions contains the function name 'print' and the argument to be printed in parenthases\n",
    "print('This str is the arguement of the function print')\n",
    "# the type function can only contain one arguement - restricted to one arguement\n",
    "type(3.0)"
   ]
  },
  {
   "cell_type": "code",
   "execution_count": 5,
   "metadata": {},
   "outputs": [
    {
     "name": "stdout",
     "output_type": "stream",
     "text": [
      "hello there\n"
     ]
    },
    {
     "data": {
      "text/plain": [
       "'hi'"
      ]
     },
     "execution_count": 5,
     "metadata": {},
     "output_type": "execute_result"
    }
   ],
   "source": [
    "# Basics of user_defined functions\n",
    "# 1st line contains def _function name_(parantheses with or without an argument):\n",
    "def function(): \n",
    "    print(\"hello there\")\n",
    "    return \"hi\"\n",
    "function()"
   ]
  },
  {
   "cell_type": "code",
   "execution_count": 15,
   "metadata": {},
   "outputs": [
    {
     "name": "stdout",
     "output_type": "stream",
     "text": [
      "('call arg_1', '- this is how to call an argument of a function')\n",
      "(3, '- this is how to call an argument of a function')\n"
     ]
    }
   ],
   "source": [
    "# breakdown of function logic (important)\n",
    "def first_func(arg_1):\n",
    "    # variable made in function using arg_1 of the function\n",
    "    variable_1 = arg_1 ,\"- this is how to call an argument of a function\"\n",
    "    # print of the variable made - inside the function\n",
    "    print(variable_1)\n",
    "# calling the function with an arguement inside so it assigns data to arg_1\n",
    "first_func(\"call arg_1\")\n",
    "first_func(3)"
   ]
  },
  {
   "cell_type": "code",
   "execution_count": 2,
   "metadata": {},
   "outputs": [
    {
     "name": "stdout",
     "output_type": "stream",
     "text": [
      "Hello World! I am sending string arguments to the print function\n"
     ]
    }
   ],
   "source": [
    "# Arguements inside the print() function - print() can hold many arguements\n",
    "print('Hello World!', 'I am sending string arguments to the print function')"
   ]
  },
  {
   "cell_type": "code",
   "execution_count": 2,
   "metadata": {},
   "outputs": [
    {
     "name": "stdout",
     "output_type": "stream",
     "text": [
      "Pratik will be in the class for 23 year old students.\n",
      "line 1\n",
      "line 2\n",
      "\n",
      "line 4\n",
      "5 10 8 7 9 32 21 1005\n"
     ]
    }
   ],
   "source": [
    "# Examples of print function\n",
    "student_age = 23\n",
    "student_name = \"Pratik\"\n",
    "print(student_name, 'will be in the class for', student_age, 'year old students.') \n",
    "print(\"line 1\")\n",
    "print(\"line 2\")\n",
    "print()\n",
    "print(\"line 4\")\n",
    "\n",
    "# print() can hold infinite amount of arguments\n",
    "print(5,10,8,7,9,32,21,1005)"
   ]
  },
  {
   "cell_type": "code",
   "execution_count": 11,
   "metadata": {},
   "outputs": [
    {
     "name": "stdout",
     "output_type": "stream",
     "text": [
      "Hello blue sky\n",
      "It's been a long time\n",
      "Be sure to buckle your seat belt.\n"
     ]
    }
   ],
   "source": [
    "# Some simple functions as Examples\n",
    "def greeting():\n",
    "    # code for a function is always indented\n",
    "    print(\"Hello blue sky\")\n",
    "    print(\"It's been a long time\")\n",
    "\n",
    "# Call the function greeting()\n",
    "greeting()\n",
    "\n",
    "# Example \n",
    "def yell_it():\n",
    "    phrase = \"Be sure to buckle your seat belt.\"\n",
    "    print(phrase)\n",
    "\n",
    "yell_it()"
   ]
  },
  {
   "cell_type": "markdown",
   "metadata": {},
   "source": [
    "# Functions & Parameters"
   ]
  },
  {
   "cell_type": "code",
   "execution_count": 1,
   "metadata": {},
   "outputs": [
    {
     "name": "stdout",
     "output_type": "stream",
     "text": [
      "GOOD MORNING!\n",
      "YOU SHOULD SAVE YOUR WORK!\n"
     ]
    }
   ],
   "source": [
    "# Using parameters with functions\n",
    "def yell_this(phrase):\n",
    "    print(phrase .upper())\n",
    "    \n",
    "yell_this(\"good morning!\")\n",
    "yell_this(\"You should save your work!\")"
   ]
  },
  {
   "cell_type": "code",
   "execution_count": 2,
   "metadata": {},
   "outputs": [
    {
     "name": "stdout",
     "output_type": "stream",
     "text": [
      "blah blah blah\n",
      "This is real English\n"
     ]
    }
   ],
   "source": [
    "# Another example with a fixed parameter\n",
    "def say_this(words = \"blah blah blah\"):\n",
    "    print(words)\n",
    "say_this()\n",
    "say_this(\"This is real English\")"
   ]
  },
  {
   "cell_type": "code",
   "execution_count": 3,
   "metadata": {},
   "outputs": [
    {
     "name": "stdout",
     "output_type": "stream",
     "text": [
      "\n"
     ]
    }
   ],
   "source": [
    "# Using an input with def a function\n",
    "words = input()\n",
    "def yell(phrase):\n",
    "    words = phrase\n",
    "yell(words)"
   ]
  },
  {
   "cell_type": "code",
   "execution_count": 4,
   "metadata": {},
   "outputs": [
    {
     "name": "stdout",
     "output_type": "stream",
     "text": [
      "What would you like to say? \n"
     ]
    },
    {
     "data": {
      "text/plain": [
       "('', '')"
      ]
     },
     "execution_count": 4,
     "metadata": {},
     "output_type": "execute_result"
    }
   ],
   "source": [
    "# double the input example\n",
    "words_to_yell = input(\"What would you like to say? \")\n",
    "def yell_this(phrase):\n",
    "    double = words_to_yell, words_to_yell\n",
    "    return double \n",
    "yell_this(words_to_yell + \"!\")\n",
    "\n"
   ]
  },
  {
   "cell_type": "code",
   "execution_count": 5,
   "metadata": {},
   "outputs": [
    {
     "name": "stdout",
     "output_type": "stream",
     "text": [
      "What would you like to say? \n"
     ]
    },
    {
     "data": {
      "text/plain": [
       "' '"
      ]
     },
     "execution_count": 5,
     "metadata": {},
     "output_type": "execute_result"
    }
   ],
   "source": [
    "# More Examples\n",
    "words_to_yell = input(\"What would you like to say? \")\n",
    "def yell_this(phrase):\n",
    "    double = words_to_yell + \" \" + words_to_yell\n",
    "    return double\n",
    "yell_this(words_to_yell)"
   ]
  },
  {
   "cell_type": "markdown",
   "metadata": {},
   "source": [
    "# Sequence Comparison Operations"
   ]
  },
  {
   "cell_type": "code",
   "execution_count": 6,
   "metadata": {},
   "outputs": [
    {
     "name": "stdout",
     "output_type": "stream",
     "text": [
      "It is True that I have a blue hat\n"
     ]
    }
   ],
   "source": [
    "# Example of code sequencing\n",
    "def hat_available(color):\n",
    "    hat_colors = 'black, blue, green, yellow'\n",
    "    return color.lower() in hat_colors # the crucks of in sequence logical comparison\n",
    "\n",
    "test_hat = \"blue\"\n",
    "test_hat2 = \"red\"\n",
    "have_hats = hat_available(test_hat)\n",
    "print(\"It is\", have_hats, \"that I have a\", test_hat, \"hat\" )"
   ]
  },
  {
   "cell_type": "code",
   "execution_count": 7,
   "metadata": {},
   "outputs": [
    {
     "name": "stdout",
     "output_type": "stream",
     "text": [
      "hat available is True\n"
     ]
    }
   ],
   "source": [
    "# Example task\n",
    "def hat_aval(color):\n",
    "    hat_colors = 'black, red, blue, green, white'\n",
    "    return color.lower() in hat_colors\n",
    "have_hat = hat_aval('green')\n",
    "\n",
    "print(\"hat available is\", have_hat)"
   ]
  },
  {
   "cell_type": "markdown",
   "metadata": {},
   "source": [
    "# Function 'return' Value"
   ]
  },
  {
   "cell_type": "code",
   "execution_count": 8,
   "metadata": {},
   "outputs": [
    {
     "name": "stdout",
     "output_type": "stream",
     "text": [
      "Let's go Let's go\n",
      "Save Now! Save Now!\n",
      "\n"
     ]
    },
    {
     "data": {
      "text/plain": [
       "'Dr. '"
      ]
     },
     "execution_count": 8,
     "metadata": {},
     "output_type": "execute_result"
    }
   ],
   "source": [
    "# Using the return value in a function\n",
    "def msg_double(phrase):\n",
    "    double = phrase + \" \" + phrase\n",
    "    return double\n",
    "msg = msg_double(\"Let's go\")\n",
    "print(msg)\n",
    "\n",
    "# Example of functions with return values in functions\n",
    "def msg_double(phrase):\n",
    "    double = phrase + \" \" + phrase\n",
    "    return double\n",
    "print(msg_double(\"Save Now!\"))\n",
    "type(msg_double(\"Save Now!\"))\n",
    "\n",
    "\n",
    "# example of using the return value in a function\n",
    "full_name = input()\n",
    "def make_doctor(name):\n",
    "    name = \"Dr. \" + full_name\n",
    "    return name\n",
    "make_doctor(full_name)\n"
   ]
  },
  {
   "cell_type": "markdown",
   "metadata": {},
   "source": [
    "# Functions With Multiple Parameters"
   ]
  },
  {
   "cell_type": "code",
   "execution_count": 9,
   "metadata": {},
   "outputs": [
    {
     "data": {
      "text/plain": [
       "('Math', 'Reading')"
      ]
     },
     "execution_count": 9,
     "metadata": {},
     "output_type": "execute_result"
    }
   ],
   "source": [
    "# Functions with multiple parameters (simple)\n",
    "def make_schedule(p1, p2):\n",
    "    schedule =(p1, p2)\n",
    "    return schedule\n",
    "make_schedule(\"Math\", \"Reading\")"
   ]
  },
  {
   "cell_type": "code",
   "execution_count": 10,
   "metadata": {},
   "outputs": [
    {
     "name": "stdout",
     "output_type": "stream",
     "text": [
      "[1st] MATH, [2nd] READING\n"
     ]
    }
   ],
   "source": [
    "# More complex example of above\n",
    "def make_schedule(p1, p2):\n",
    "    schedule = (\"[1st] \" + p1.upper() + \", [2nd] \" + p2.upper())\n",
    "    print(schedule)\n",
    "    # also can use return schedule\n",
    "make_schedule(\"math\", \"reading\")\n",
    "    "
   ]
  },
  {
   "cell_type": "code",
   "execution_count": 11,
   "metadata": {},
   "outputs": [
    {
     "name": "stdout",
     "output_type": "stream",
     "text": [
      "First Period \n",
      "Second Period \n",
      "Third Period \n",
      "Fourth Period \n"
     ]
    },
    {
     "data": {
      "text/plain": [
       "('1st', '', '2nd', '', '3rd', '', '4th', '')"
      ]
     },
     "execution_count": 11,
     "metadata": {},
     "output_type": "execute_result"
    }
   ],
   "source": [
    "# more examples of using the function\n",
    "p1 = input(\"First Period \")\n",
    "p2 = input(\"Second Period \")\n",
    "p3 = input(\"Third Period \")\n",
    "p4 = input(\"Fourth Period \")\n",
    "# After defining all the variables p1 -> p4\n",
    "# The function is defined\n",
    "def make_schedule(per1, per2, per3, per4):\n",
    "    # The var schedule is made\n",
    "    schedule = (\"1st\", per1.upper(), \"2nd\", per2.upper(), \"3rd\", per3.upper(),\"4th\", per4.upper())\n",
    "    #print(schedule)\n",
    "    # can also use return\n",
    "    return schedule\n",
    "make_schedule(p1, p2, p3, p4)"
   ]
  },
  {
   "cell_type": "code",
   "execution_count": 12,
   "metadata": {},
   "outputs": [
    {
     "name": "stdout",
     "output_type": "stream",
     "text": [
      "SCHEDULE: [1st] Math, [2nd] History, [3rd] Science\n"
     ]
    }
   ],
   "source": [
    "# Course example\n",
    "def make_schedule(per1, per2, per3):\n",
    "    schedule = (\"[1st] \"+ per1.title() + \", [2nd] \" + per2.title() + \", [3rd] \" + per3.title())\n",
    "    return schedule\n",
    "student_schedule = make_schedule(\"math\", \"history\", \"science\")\n",
    "print(\"SCHEDULE:\", student_schedule)"
   ]
  },
  {
   "cell_type": "code",
   "execution_count": null,
   "metadata": {},
   "outputs": [],
   "source": []
  },
  {
   "cell_type": "code",
   "execution_count": null,
   "metadata": {},
   "outputs": [],
   "source": []
  }
 ],
 "metadata": {
  "kernelspec": {
   "display_name": "Python 3",
   "language": "python",
   "name": "python3"
  },
  "language_info": {
   "codemirror_mode": {
    "name": "ipython",
    "version": 3
   },
   "file_extension": ".py",
   "mimetype": "text/x-python",
   "name": "python",
   "nbconvert_exporter": "python",
   "pygments_lexer": "ipython3",
   "version": "3.7.4"
  }
 },
 "nbformat": 4,
 "nbformat_minor": 2
}
