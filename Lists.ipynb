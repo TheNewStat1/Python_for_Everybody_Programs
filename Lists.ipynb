{
 "cells": [
  {
   "cell_type": "markdown",
   "metadata": {},
   "source": [
    "# Creating Lists"
   ]
  },
  {
   "cell_type": "code",
   "execution_count": 1,
   "metadata": {},
   "outputs": [],
   "source": [
    "# Notation for creating a list\n",
    "empty_list = []\n",
    "sample_list = [1, 3, 6, 9, 5, 7]"
   ]
  },
  {
   "cell_type": "code",
   "execution_count": 2,
   "metadata": {},
   "outputs": [],
   "source": [
    "# Creating a mixed list \n",
    "mixed_list = [1, 2, 6, 9, 8, \"one\", 'four', \"pi\", 3.14]\n"
   ]
  },
  {
   "cell_type": "code",
   "execution_count": 3,
   "metadata": {},
   "outputs": [
    {
     "name": "stdout",
     "output_type": "stream",
     "text": [
      "ft_bones:  <class 'list'>\n"
     ]
    }
   ],
   "source": [
    "# Examples creating and a list\n",
    "ft_bones = ['calcaneus', 'talus', 'cuboid', 'navicular', 'etc']\n",
    "print('ft_bones: ', type(ft_bones))\n",
    "# note. the output of the type() function is a class list"
   ]
  },
  {
   "cell_type": "code",
   "execution_count": 4,
   "metadata": {},
   "outputs": [
    {
     "name": "stdout",
     "output_type": "stream",
     "text": [
      "['calcaneus', 'talus', 'cuboid', 'navicular', 'etc']\n"
     ]
    }
   ],
   "source": [
    "# printing a list\n",
    "print(ft_bones)"
   ]
  },
  {
   "cell_type": "code",
   "execution_count": 5,
   "metadata": {},
   "outputs": [
    {
     "name": "stdout",
     "output_type": "stream",
     "text": [
      "[31, 25, 46, 28, 32, 55, 61, 45, 39, 22, 36, 37, 48]\n"
     ]
    }
   ],
   "source": [
    "# More examples using lists\n",
    "age_survey = [31, 25, 46, 28, 32, 55, 61, 45, 39, 22, 36, 37, 48]\n",
    "print(age_survey)"
   ]
  },
  {
   "cell_type": "code",
   "execution_count": 6,
   "metadata": {},
   "outputs": [
    {
     "name": "stdout",
     "output_type": "stream",
     "text": [
      "<class 'tuple'>\n",
      "(1, 34, 0.99, 'dog', 'cat', [31, 25, 46, 28, 32, 55, 61, 45, 39, 22, 36, 37, 48])\n"
     ]
    }
   ],
   "source": [
    "mixed_list = (1, 34, 0.99, 'dog', \"cat\", age_survey)\n",
    "print(type(mixed_list))\n",
    "print(mixed_list)"
   ]
  },
  {
   "cell_type": "code",
   "execution_count": 7,
   "metadata": {},
   "outputs": [
    {
     "name": "stdout",
     "output_type": "stream",
     "text": [
      "['Pratik', 'Mansi', 'Bharat', 'Dipika']\n"
     ]
    }
   ],
   "source": [
    "# Example using list\n",
    "team = ['Pratik', 'Mansi', \"Bharat\", \"Dipika\"]\n",
    "print(team)\n"
   ]
  },
  {
   "cell_type": "code",
   "execution_count": 8,
   "metadata": {},
   "outputs": [
    {
     "name": "stdout",
     "output_type": "stream",
     "text": [
      "[3.14, 'pi', 'pie', 13.45]\n"
     ]
    }
   ],
   "source": [
    "mix_lst = [3.14, 'pi', 'pie', 13.45]\n",
    "print(mix_lst)"
   ]
  },
  {
   "cell_type": "markdown",
   "metadata": {},
   "source": [
    "# Types of List in Python"
   ]
  },
  {
   "cell_type": "markdown",
   "metadata": {},
   "source": [
    "This is an example of a list"
   ]
  },
  {
   "cell_type": "code",
   "execution_count": 39,
   "metadata": {},
   "outputs": [],
   "source": [
    "# This is how a list is made\n",
    "family = ['Pratik', 'Mansi', 'Dipika', 'Bharat']"
   ]
  },
  {
   "cell_type": "code",
   "execution_count": 40,
   "metadata": {},
   "outputs": [],
   "source": [
    "# Lists can take on various data types\n",
    "mixed = ['red', 7.2, 8]"
   ]
  },
  {
   "cell_type": "code",
   "execution_count": 41,
   "metadata": {},
   "outputs": [],
   "source": [
    "# Can also have a nested list\n",
    "nested = [1, [5,7], 18]"
   ]
  },
  {
   "cell_type": "code",
   "execution_count": 42,
   "metadata": {},
   "outputs": [],
   "source": [
    "# This is an empty list\n",
    "empty_set = []"
   ]
  },
  {
   "cell_type": "code",
   "execution_count": 43,
   "metadata": {},
   "outputs": [
    {
     "name": "stdout",
     "output_type": "stream",
     "text": [
      "Happy New Year: Pratik\n",
      "Happy New Year: Mansi\n",
      "Happy New Year: Dipika\n",
      "Happy New Year: Bharat\n",
      "done\n"
     ]
    }
   ],
   "source": [
    "# You can obtain items from a list using a for loop of the list\n",
    "family = ['Pratik', 'Mansi', 'Dipika', 'Bharat']\n",
    "for fam in family:\n",
    "    print('Happy New Year:', fam)\n",
    "print('done')"
   ]
  },
  {
   "cell_type": "code",
   "execution_count": 44,
   "metadata": {},
   "outputs": [
    {
     "name": "stdout",
     "output_type": "stream",
     "text": [
      "The second person in the list is: Mansi\n",
      "The first person in the list is: Pratik\n",
      "The parents in the list are: ['Dipika', 'Bharat']\n"
     ]
    }
   ],
   "source": [
    "# You can also use the index operator to point to items in a list\n",
    "family = ['Pratik', 'Mansi', 'Dipika', 'Bharat']\n",
    "print('The second person in the list is:', family[1])\n",
    "print('The first person in the list is:', family[0])\n",
    "print('The parents in the list are:', family[2:])"
   ]
  },
  {
   "cell_type": "markdown",
   "metadata": {},
   "source": [
    "Lists are a mutable data structure (Can be changed)"
   ]
  },
  {
   "cell_type": "code",
   "execution_count": 46,
   "metadata": {},
   "outputs": [
    {
     "name": "stdout",
     "output_type": "stream",
     "text": [
      "[1, 30, 15, 16, 75, 18]\n",
      "[11, 30, 15, 16, 75, 18]\n"
     ]
    }
   ],
   "source": [
    "# Notice that you can change the values in a list\n",
    "data = [1, 30, 15, 16, 75, 18]\n",
    "print(data)\n",
    "data[0] = 11\n",
    "print(data)"
   ]
  },
  {
   "cell_type": "code",
   "execution_count": 47,
   "metadata": {},
   "outputs": [
    {
     "data": {
      "text/plain": [
       "4"
      ]
     },
     "execution_count": 47,
     "metadata": {},
     "output_type": "execute_result"
    }
   ],
   "source": [
    "# example\n",
    "random = ['a', 2, 3.14, \"the next\"]\n",
    "len(random)"
   ]
  },
  {
   "cell_type": "markdown",
   "metadata": {},
   "source": [
    "Creating a list with a function"
   ]
  },
  {
   "cell_type": "code",
   "execution_count": 49,
   "metadata": {},
   "outputs": [
    {
     "name": "stdout",
     "output_type": "stream",
     "text": [
      "range(0, 4)\n"
     ]
    }
   ],
   "source": [
    "# We can use the range() function to create a list\n",
    "x = range(4)\n",
    "random = ['a', 2, 3.14, \"the next\"]\n",
    "print(range(len(random)))"
   ]
  },
  {
   "cell_type": "markdown",
   "metadata": {},
   "source": [
    "# Manipulating List Objects"
   ]
  },
  {
   "cell_type": "markdown",
   "metadata": {},
   "source": [
    "Concatenating a list"
   ]
  },
  {
   "cell_type": "code",
   "execution_count": 50,
   "metadata": {},
   "outputs": [
    {
     "name": "stdout",
     "output_type": "stream",
     "text": [
      "[1, 2, 3, 4, 5, 6]\n"
     ]
    }
   ],
   "source": [
    "# Simple way to concatenate lists together just like strings\n",
    "a = [1, 2, 3]\n",
    "b = [4, 5, 6]\n",
    "c = a + b\n",
    "print(c)"
   ]
  },
  {
   "cell_type": "markdown",
   "metadata": {},
   "source": [
    "Slicing a list just like a string"
   ]
  },
  {
   "cell_type": "code",
   "execution_count": 52,
   "metadata": {},
   "outputs": [
    {
     "data": {
      "text/plain": [
       "[41, 12]"
      ]
     },
     "execution_count": 52,
     "metadata": {},
     "output_type": "execute_result"
    }
   ],
   "source": [
    "# You can slice a list just like a string (agian it is up to but not including)\n",
    "dat = [9, 41, 12, 3, 74, 12]\n",
    "dat[1:3]\n",
    "# dat[:3]\n",
    "#etc"
   ]
  },
  {
   "cell_type": "markdown",
   "metadata": {},
   "source": [
    "We can also build a list from scratch"
   ]
  },
  {
   "cell_type": "code",
   "execution_count": 53,
   "metadata": {},
   "outputs": [
    {
     "name": "stdout",
     "output_type": "stream",
     "text": [
      "['games', 'books']\n"
     ]
    }
   ],
   "source": [
    "# Following code builds a list\n",
    "stuff = list()\n",
    "stuff.append('games')\n",
    "stuff.append('books')\n",
    "print(stuff)"
   ]
  },
  {
   "cell_type": "markdown",
   "metadata": {},
   "source": [
    "Using Boolean to see if something is in a list"
   ]
  },
  {
   "cell_type": "code",
   "execution_count": 54,
   "metadata": {},
   "outputs": [
    {
     "data": {
      "text/plain": [
       "False"
      ]
     },
     "execution_count": 54,
     "metadata": {},
     "output_type": "execute_result"
    }
   ],
   "source": [
    "# You can use the in (or not-in) operator to test if an item is in a list\n",
    "family = ['Pratik', 'Mansi', 'Dipika', 'Bharat']\n",
    "'Joe' in family"
   ]
  },
  {
   "cell_type": "markdown",
   "metadata": {},
   "source": [
    "Try sorting a list"
   ]
  },
  {
   "cell_type": "code",
   "execution_count": 55,
   "metadata": {},
   "outputs": [
    {
     "name": "stdout",
     "output_type": "stream",
     "text": [
      "['Pratik', 'Mansi', 'Dipika', 'Bharat']\n",
      "['Bharat', 'Dipika', 'Mansi', 'Pratik']\n"
     ]
    }
   ],
   "source": [
    "# Use the .sort() method to sort a list \n",
    "family = ['Pratik', 'Mansi', 'Dipika', 'Bharat']\n",
    "print(family)\n",
    "family.sort()\n",
    "print(family)"
   ]
  },
  {
   "cell_type": "markdown",
   "metadata": {},
   "source": [
    "Some common built in functions for lists"
   ]
  },
  {
   "cell_type": "code",
   "execution_count": 57,
   "metadata": {},
   "outputs": [
    {
     "name": "stdout",
     "output_type": "stream",
     "text": [
      "6\n",
      "74\n",
      "3\n",
      "151\n",
      "25\n"
     ]
    }
   ],
   "source": [
    "data = [9, 41, 12, 3, 74, 12]\n",
    "print(len(data))\n",
    "print(max(data))\n",
    "print(min(data))\n",
    "print(sum(data))\n",
    "print(int(sum(data)/len(data))) # This is the average"
   ]
  },
  {
   "cell_type": "code",
   "execution_count": 59,
   "metadata": {},
   "outputs": [
    {
     "name": "stdout",
     "output_type": "stream",
     "text": [
      "Enter a number:2\n",
      "Enter a number:3\n",
      "Enter a number:3\n",
      "Enter a number:3\n",
      "Enter a number:done\n",
      "The average is: 2.75\n"
     ]
    }
   ],
   "source": [
    "# Here is a cool piece of code that computes the average\n",
    "total = 0\n",
    "count = 0\n",
    "while True :\n",
    "    inp = input(\"Enter a number:\", )\n",
    "    if inp == 'done':\n",
    "        break\n",
    "    value = float(inp)\n",
    "    total = total + value\n",
    "    count = count + 1\n",
    "average = total/count\n",
    "print('The average is:',average)"
   ]
  },
  {
   "cell_type": "code",
   "execution_count": 61,
   "metadata": {},
   "outputs": [
    {
     "name": "stdout",
     "output_type": "stream",
     "text": [
      "Enter a number:5\n",
      "Enter a number:1\n",
      "Enter a number:3\n",
      "Enter a number:4\n",
      "Enter a number:DONE\n",
      "The average is: 3.25\n"
     ]
    }
   ],
   "source": [
    "# Here is the same process using a list object\n",
    "numbers = list()\n",
    "while True:\n",
    "    inp = input(\"Enter a number:\").lower()\n",
    "    if inp == 'done':\n",
    "        break\n",
    "    value = float(inp)\n",
    "    numbers.append(value)\n",
    "average = sum(numbers) / len(numbers)\n",
    "print('The average is:',average)"
   ]
  },
  {
   "cell_type": "markdown",
   "metadata": {},
   "source": [
    "Splitting a string"
   ]
  },
  {
   "cell_type": "code",
   "execution_count": 62,
   "metadata": {},
   "outputs": [
    {
     "name": "stdout",
     "output_type": "stream",
     "text": [
      "['Pratik', 'Mansi', 'Dipika', 'Bharat']\n"
     ]
    }
   ],
   "source": [
    "# Use the split method to split a string \n",
    "fam = \"Pratik Mansi Dipika Bharat\"\n",
    "fam_list = fam.split()\n",
    "print(fam_list)"
   ]
  },
  {
   "cell_type": "code",
   "execution_count": 63,
   "metadata": {},
   "outputs": [
    {
     "name": "stdout",
     "output_type": "stream",
     "text": [
      "['3', '2', '2.5', '5.6', '8.1', '9', '10', '1', '1.2', '13']\n",
      "[3.0, 2.0, 2.5, 5.6, 8.1, 9.0, 10.0, 1.0, 1.2, 13.0]\n"
     ]
    }
   ],
   "source": [
    "# Split based on a delimiter\n",
    "data_row =\"3,2,2.5,5.6,8.1,9,10,1,1.2,13\"\n",
    "data_list = data_row.split(',')\n",
    "print(data_list)\n",
    "\n",
    "num_list = []\n",
    "for i in data_list:\n",
    "    i = float(i)\n",
    "    num_list.append(i)\n",
    "\n",
    "print(num_list)\n",
    "    "
   ]
  },
  {
   "cell_type": "code",
   "execution_count": null,
   "metadata": {},
   "outputs": [],
   "source": []
  },
  {
   "cell_type": "markdown",
   "metadata": {},
   "source": [
    "# Accessing Items in a List"
   ]
  },
  {
   "cell_type": "code",
   "execution_count": 9,
   "metadata": {},
   "outputs": [
    {
     "name": "stdout",
     "output_type": "stream",
     "text": [
      "\"S1\" is the 1st item in the list\n",
      "\"F3\" is the 2nd item in the list\n",
      "Last item in list is \"Z9\"\n"
     ]
    }
   ],
   "source": [
    "# Accessing items in a list using index notations\n",
    "ft_bones = ['S1', 'F3', 'Y6', \"Z9\"]\n",
    "print( \"\\\"\" + ft_bones[0] + \"\\\"\" ,  \"is the 1st item in the list\")\n",
    "print( \"\\\"\" + ft_bones[1] + \"\\\"\", \"is the 2nd item in the list\")\n",
    "print('Last item in list is ' + '\\\"' + ft_bones[-1] + '\\\"')"
   ]
  },
  {
   "cell_type": "code",
   "execution_count": 10,
   "metadata": {},
   "outputs": [
    {
     "name": "stdout",
     "output_type": "stream",
     "text": [
      "Y6 is linked to F3\n"
     ]
    }
   ],
   "source": [
    "# Example using index notation to access a list\n",
    "print(ft_bones[2] + \" is linked to \" + ft_bones[1])"
   ]
  },
  {
   "cell_type": "code",
   "execution_count": null,
   "metadata": {},
   "outputs": [],
   "source": [
    "# example accessing a list using indexes (they added 12 + 11 + 13)\n",
    "age_lst = [12,10,11,9,13,16,12,15,14]\n",
    "sum_3_age = age_lst[0] + age_lst[2] + age_lst[4]\n",
    "print(sum_3_age)"
   ]
  },
  {
   "cell_type": "code",
   "execution_count": 11,
   "metadata": {},
   "outputs": [
    {
     "name": "stdout",
     "output_type": "stream",
     "text": [
      "There are not any oak or pine trees in Brandon.\n",
      "1168\n"
     ]
    }
   ],
   "source": [
    "# More examples\n",
    "tree_list = ['Oak', 'Redwood', 'Spruce', 'Palm', 'Pine']\n",
    "print(\"There are not any\", tree_list[0].lower(), \"or\", tree_list[4].lower(), \"trees in Brandon.\")\n",
    "\n",
    "numbers = [51, 23, 6, 88, 1000]\n",
    "add_2 = sum(numbers)\n",
    "print(add_2)"
   ]
  },
  {
   "cell_type": "markdown",
   "metadata": {},
   "source": [
    "# Appending an Item to a List "
   ]
  },
  {
   "cell_type": "code",
   "execution_count": 14,
   "metadata": {},
   "outputs": [
    {
     "name": "stdout",
     "output_type": "stream",
     "text": [
      "[1, 2, 3, 4]\n"
     ]
    },
    {
     "data": {
      "text/plain": [
       "10"
      ]
     },
     "execution_count": 14,
     "metadata": {},
     "output_type": "execute_result"
    }
   ],
   "source": [
    "# Appending an item to a list using the .append(data) method\n",
    "list_1 = [1, 2, 3]\n",
    "# Using .append() method to add to a list\n",
    "list_1.append(4)\n",
    "print(list_1)\n",
    "sum(list_1)"
   ]
  },
  {
   "cell_type": "code",
   "execution_count": 15,
   "metadata": {},
   "outputs": [
    {
     "name": "stdout",
     "output_type": "stream",
     "text": [
      "old list  [1, 6, 7, 9]\n",
      "[1, 6, 7, 9, 5]\n"
     ]
    }
   ],
   "source": [
    "# example append\n",
    "new_lst = [1, 6, 7, 9]\n",
    "print(\"old list \" , new_lst)\n",
    "\n",
    "new_lst.append(5)\n",
    "print(new_lst)"
   ]
  },
  {
   "cell_type": "code",
   "execution_count": 16,
   "metadata": {},
   "outputs": [
    {
     "name": "stdout",
     "output_type": "stream",
     "text": [
      "new list is [1, 'dog', 3]\n"
     ]
    }
   ],
   "source": [
    "# Example append\n",
    "mixed = [1, 'dog']\n",
    "mixed.append(3)\n",
    "print('new list is', mixed)"
   ]
  },
  {
   "cell_type": "markdown",
   "metadata": {},
   "source": [
    "# List Sorting Methods"
   ]
  },
  {
   "cell_type": "code",
   "execution_count": 17,
   "metadata": {},
   "outputs": [
    {
     "name": "stdout",
     "output_type": "stream",
     "text": [
      "old arriagnment of quiz scores [20, 19, 20, 15, 20, 20, 20, 18, 18, 18, 19]\n",
      "sorted quiz scores [15, 18, 18, 18, 19, 19, 20, 20, 20, 20, 20]\n"
     ]
    }
   ],
   "source": [
    "# Using the .sort() method Example\n",
    "quiz_scores = [20, 19, 20, 15, 20, 20, 20, 18, 18, 18, 19]\n",
    "print(\"old arriagnment of quiz scores\", quiz_scores)\n",
    "quiz_scores.sort()\n",
    "print('sorted quiz scores',quiz_scores)"
   ]
  },
  {
   "cell_type": "code",
   "execution_count": 18,
   "metadata": {},
   "outputs": [
    {
     "name": "stdout",
     "output_type": "stream",
     "text": [
      "new sorted points [0, 1, 3, 3, 8, 8, 14, 21]\n"
     ]
    }
   ],
   "source": [
    "# Using the .sorted() method Example\n",
    "game_points = [3, 14, 0, 8, 21, 1, 3, 8]\n",
    "sorted_points = sorted(game_points)\n",
    "print('new sorted points', sorted_points)"
   ]
  },
  {
   "cell_type": "code",
   "execution_count": 19,
   "metadata": {},
   "outputs": [
    {
     "name": "stdout",
     "output_type": "stream",
     "text": [
      "Unsorted ['Dubai', 'Mexico City', 'São Paulo', 'Hyderabad']\n",
      "Sorted ['Dubai', 'Hyderabad', 'Mexico City', 'São Paulo']\n"
     ]
    }
   ],
   "source": [
    "# Using a list of strings\n",
    "cities_1 = [\"Dubai\", \"Mexico City\", \"São Paulo\", \"Hyderabad\"]\n",
    "print(\"Unsorted\", cities_1)\n",
    "cities_1.sort()\n",
    "print(\"Sorted\", cities_1)\n"
   ]
  },
  {
   "cell_type": "markdown",
   "metadata": {},
   "source": [
    "# Sorting a List of Words"
   ]
  },
  {
   "cell_type": "code",
   "execution_count": 27,
   "metadata": {},
   "outputs": [
    {
     "name": "stdout",
     "output_type": "stream",
     "text": [
      "Enter file name: romeo.txt\n",
      "But soft what light through yonder window breaks\n",
      "It is the east and Juliet is the sun\n",
      "Arise fair sun and kill the envious moon\n",
      "Who is already sick and pale with grief\n"
     ]
    }
   ],
   "source": [
    "# Enter romeo.txt to run the program\n",
    "fname = input(\"Enter file name: \")\n",
    "fh = open(fname)\n",
    "lst = list()\n",
    "mega_list = []\n",
    "for line in fh:\n",
    "    line = line.rstrip()\n",
    "    mega_string = mega_list.append(line)\n",
    "    print(line)\n",
    "\n",
    "#print(mega_list)"
   ]
  },
  {
   "cell_type": "code",
   "execution_count": 29,
   "metadata": {},
   "outputs": [
    {
     "name": "stdout",
     "output_type": "stream",
     "text": [
      "[]\n"
     ]
    }
   ],
   "source": [
    "# empty list\n",
    "full_list = list()\n",
    "print(full_list)"
   ]
  },
  {
   "cell_type": "code",
   "execution_count": 31,
   "metadata": {},
   "outputs": [
    {
     "name": "stdout",
     "output_type": "stream",
     "text": [
      "['Arise', 'But', 'It', 'Juliet', 'Who', 'already', 'and', 'breaks', 'east', 'envious', 'fair', 'grief', 'is', 'kill', 'light', 'moon', 'pale', 'sick', 'soft', 'sun', 'the', 'through', 'what', 'window', 'with', 'yonder']\n"
     ]
    }
   ],
   "source": [
    "# get a list of all the words and sort\n",
    "for i in mega_list:\n",
    "    i = i.split()\n",
    "    for value in i:\n",
    "        if value in lst:\n",
    "            continue\n",
    "        else:\n",
    "            lst.append(value)\n",
    "    lst.sort()\n",
    "            \n",
    "\n",
    "print(lst)\n",
    "    "
   ]
  },
  {
   "cell_type": "markdown",
   "metadata": {},
   "source": [
    "# Counting method & search Function"
   ]
  },
  {
   "cell_type": "code",
   "execution_count": 20,
   "metadata": {},
   "outputs": [
    {
     "name": "stdout",
     "output_type": "stream",
     "text": [
      "0\n",
      "2\n",
      "2\n",
      "2\n",
      "3\n",
      "5\n",
      "7\n",
      "total # of \"a\" found in the list 7\n"
     ]
    }
   ],
   "source": [
    "# Use the .count() method to find a character or substring occurance in a string\n",
    "cities = ['New York', 'Shanghai', 'Munich', 'Tokyo', 'Dubai', 'Sao Paulo', 'Hyderabad']\n",
    "search_letter = 'a'\n",
    "total = 0\n",
    "\n",
    "for city_name in cities:\n",
    "    total += city_name.lower().count(search_letter)\n",
    "    # This part of the code is added to list out the item by item total\n",
    "    print(total)\n",
    "print(\"total # of \\\"\" + search_letter + \"\\\" found in the list\", total)"
   ]
  },
  {
   "cell_type": "code",
   "execution_count": 21,
   "metadata": {},
   "outputs": [
    {
     "name": "stdout",
     "output_type": "stream",
     "text": [
      "City is in database?: Chicago\n"
     ]
    },
    {
     "data": {
      "text/plain": [
       "False"
      ]
     },
     "execution_count": 21,
     "metadata": {},
     "output_type": "execute_result"
    }
   ],
   "source": [
    "# Creating and using a Search function\n",
    "def city_search (search_item, cities = ['New York', 'Shanghai', 'Munich', 'Tokyo', 'Dubai', 'Sao Paulo', 'Hyderabad']):\n",
    "    for city in cities:\n",
    "        if city.lower() == search_item.lower():\n",
    "            return True\n",
    "        else:\n",
    "            pass\n",
    "    return False\n",
    "\n",
    "city_search(input(\"City is in database?: \"))"
   ]
  },
  {
   "cell_type": "markdown",
   "metadata": {},
   "source": [
    "# Using .split('str') "
   ]
  },
  {
   "cell_type": "code",
   "execution_count": 22,
   "metadata": {},
   "outputs": [
    {
     "name": "stdout",
     "output_type": "stream",
     "text": [
      "['Python', 'uses', 'spaces', 'for', 'indentation']\n"
     ]
    }
   ],
   "source": [
    "# Using the .split() method to split str using things other than blank spaces\n",
    "# Example\n",
    "code_tip = \"Python-uses-spaces-for-indentation\"\n",
    "tip_words = code_tip.split('-')\n",
    "\n",
    "print(tip_words)"
   ]
  },
  {
   "cell_type": "code",
   "execution_count": 23,
   "metadata": {},
   "outputs": [
    {
     "name": "stdout",
     "output_type": "stream",
     "text": [
      "Python uses spaces for indentation\n",
      "['Python uses sp', 'ces for indent', 'tion']\n"
     ]
    }
   ],
   "source": [
    "# spliting a str with a alpha character\n",
    "code_tip = \"Python uses spaces for indentation\"\n",
    "# using .split() with an \"a\"\n",
    "tip_words = code_tip.split('a')\n",
    "print(code_tip)\n",
    "print(tip_words)"
   ]
  },
  {
   "cell_type": "code",
   "execution_count": 24,
   "metadata": {},
   "outputs": [
    {
     "name": "stdout",
     "output_type": "stream",
     "text": [
      "Jack and Jill went up the hill\n",
      "To fetch a pail of water\n",
      "Jack fell down and broke his crown\n",
      "And Jill came tumbling after\n",
      "\n",
      " ['Jack and Jill went up the hill', 'To fetch a pail of water', 'Jack fell down and broke his crown', 'And Jill came tumbling after']\n"
     ]
    }
   ],
   "source": [
    "# Another example: splitting between spaces\n",
    "big_quote = \"\"\"Jack and Jill went up the hill\n",
    "To fetch a pail of water\n",
    "Jack fell down and broke his crown\n",
    "And Jill came tumbling after\"\"\"\n",
    "print(big_quote)\n",
    "\n",
    "quote_lines = big_quote.split(\"\\n\")\n",
    "print('\\n', quote_lines,)"
   ]
  },
  {
   "cell_type": "code",
   "execution_count": 25,
   "metadata": {},
   "outputs": [
    {
     "name": "stdout",
     "output_type": "stream",
     "text": [
      "And Jill came tumbling after\n",
      "Jack fell down and broke his crown\n",
      "To fetch a pail of water\n",
      "Jack and Jill went up the hill\n"
     ]
    }
   ],
   "source": [
    "# getting a line from the list above\n",
    "# the [::-1] reverses the order of a str and a list\n",
    "for line in quote_lines[::-1]:\n",
    "    print(line)"
   ]
  },
  {
   "cell_type": "markdown",
   "metadata": {},
   "source": [
    "# The .extend() Method"
   ]
  },
  {
   "cell_type": "code",
   "execution_count": 32,
   "metadata": {},
   "outputs": [
    {
     "name": "stdout",
     "output_type": "stream",
     "text": [
      "['New York', 'Shanghai', 'Munich', 'Toyko', 'Dubai', 'Mexico City', 'São Paulo', 'Hyderabad', 'Reykjavík', 'Moscow', 'Beijing', 'Lamu']\n"
     ]
    }
   ],
   "source": [
    "# Using the .extend() method to add a list to another list\n",
    "visited_cities = [\"New York\", \"Shanghai\", \"Munich\", \"Toyko\", \"Dubai\", \"Mexico City\", \"São Paulo\", \"Hyderabad\"]\n",
    "wish_cities = [\"Reykjavík\", \"Moscow\", \"Beijing\", \"Lamu\"]\n",
    "visited_cities.extend(wish_cities)\n",
    "print(visited_cities)"
   ]
  },
  {
   "cell_type": "code",
   "execution_count": 33,
   "metadata": {},
   "outputs": [
    {
     "name": "stdout",
     "output_type": "stream",
     "text": [
      "ALL CITIES ['New York', 'Shanghai', 'Munich', 'Toyko', 'Dubai', 'Mexico City', 'São Paulo', 'Hyderabad', 'Reykjavík', 'Moscow', 'Beijing', 'Lamu', 'Reykjavík', 'Moscow', 'Beijing', 'Lamu']\n"
     ]
    }
   ],
   "source": [
    "# adding list using the addition operator\n",
    "all_cities = visited_cities + wish_cities\n",
    "print(\"ALL CITIES\", all_cities)"
   ]
  },
  {
   "cell_type": "code",
   "execution_count": 34,
   "metadata": {},
   "outputs": [
    {
     "name": "stdout",
     "output_type": "stream",
     "text": [
      "New York\n",
      "Shanghai\n",
      "Munich\n",
      "Toyko\n",
      "Dubai\n",
      "Mexico City\n",
      "São Paulo\n",
      "Hyderabad\n",
      "Reykjavík\n",
      "Moscow\n",
      "Beijing\n",
      "Lamu\n",
      "Reykjavík\n",
      "Moscow\n",
      "Beijing\n",
      "Lamu\n"
     ]
    }
   ],
   "source": [
    "# print all the cities\n",
    "for cities in all_cities:\n",
    "    print(cities)"
   ]
  },
  {
   "cell_type": "code",
   "execution_count": 38,
   "metadata": {},
   "outputs": [
    {
     "name": "stdout",
     "output_type": "stream",
     "text": [
      "Team A [0, 2, 2, 2, 4, 4, 4, 5, 6, 6, 6] \n",
      "Team B [0, 0, 0, 1, 1, 2, 3, 3, 3, 6, 8]\n",
      "Team Total= [0, 2, 2, 2, 4, 4, 4, 5, 6, 6, 6, 0, 0, 0, 1, 1, 2, 3, 3, 3, 6, 8]\n",
      "\n",
      "\n",
      "[0, 2, 2, 2, 4, 4, 4, 5, 6, 6, 6, 0, 0, 0, 1, 1, 2, 3, 3, 3, 6, 8]\n"
     ]
    }
   ],
   "source": [
    "# another example\n",
    "team_a = [0,2,2,2,4,4,4,5,6,6,6]\n",
    "team_b = [0,0,0,1,1,2,3,3,3,6,8]\n",
    "print(\"Team A\", team_a, \"\\nTeam B\", team_b)\n",
    "# trying the addition operator\n",
    "team_sum = team_a + team_b\n",
    "print(\"Team Total=\", team_sum)\n",
    "\n",
    "print('\\n')\n",
    "\n",
    "team_a.extend(team_b)\n",
    "print(team_a)\n",
    "# if you keep running this cell it keeps adding a new team_b to the list"
   ]
  },
  {
   "cell_type": "markdown",
   "metadata": {},
   "source": [
    "# Replacing index from a List"
   ]
  },
  {
   "cell_type": "code",
   "execution_count": 64,
   "metadata": {},
   "outputs": [
    {
     "name": "stdout",
     "output_type": "stream",
     "text": [
      "party_list before:  ['Mansi', 'Pratik', 'Shrey', 'Havisha']\n"
     ]
    }
   ],
   "source": [
    "# How to overwrite a index in a list \n",
    "party_list = ['Mansi', 'Pratik', 'Shrey', 'Havisha']\n",
    "print(\"party_list before: \", party_list)"
   ]
  },
  {
   "cell_type": "code",
   "execution_count": 65,
   "metadata": {},
   "outputs": [
    {
     "name": "stdout",
     "output_type": "stream",
     "text": [
      "party_list after:  ['Mansi', 'Prateek', 'Shrey', 'Havisha']\n"
     ]
    }
   ],
   "source": [
    "# Overwriting index [1] from a list\n",
    "party_list[1] = 'Prateek'\n",
    "print(\"party_list after: \", party_list)"
   ]
  },
  {
   "cell_type": "code",
   "execution_count": 66,
   "metadata": {},
   "outputs": [
    {
     "name": "stdout",
     "output_type": "stream",
     "text": [
      "['Mansi', 'Prateek', 'Shrey', 'Havisha']\n",
      "\n",
      " [('Mansi', 'patel'), 'Prateek', 'Shrey', 'Havisha']\n"
     ]
    }
   ],
   "source": [
    "print(party_list)\n",
    "party_list[0] = party_list[0], \"patel\"\n",
    "print(\"\\n\", party_list)"
   ]
  },
  {
   "cell_type": "code",
   "execution_count": 67,
   "metadata": {},
   "outputs": [
    {
     "data": {
      "text/plain": [
       "[1, 2, 'No.', 4, 5, 6]"
      ]
     },
     "execution_count": 67,
     "metadata": {},
     "output_type": "execute_result"
    }
   ],
   "source": [
    "# You cannot append a item to a list using indexs\n",
    "# Example using index switching and functions\n",
    "I = [1, 2, 3, 4, 5, 6]\n",
    "def str_replace( I , index):\n",
    "    I[index] = \"No.\"\n",
    "    return I\n",
    "    \n",
    "str_replace( I, 2)"
   ]
  },
  {
   "cell_type": "markdown",
   "metadata": {},
   "source": [
    "# The range() function"
   ]
  },
  {
   "cell_type": "code",
   "execution_count": 68,
   "metadata": {},
   "outputs": [
    {
     "name": "stdout",
     "output_type": "stream",
     "text": [
      "0\n",
      "1\n",
      "2\n",
      "3\n",
      "4\n",
      "5\n",
      "6\n",
      "7\n",
      "8\n",
      "9\n"
     ]
    }
   ],
   "source": [
    "# creating a range using therange function\n",
    "for count in range(10):\n",
    "    print(count)"
   ]
  },
  {
   "cell_type": "code",
   "execution_count": 70,
   "metadata": {},
   "outputs": [
    {
     "name": "stdout",
     "output_type": "stream",
     "text": [
      "digits = [0, 1, 2, 3, 4, 5, 6, 7, 8, 9] \n",
      "\n",
      "9\n"
     ]
    }
   ],
   "source": [
    "# Using the range() and list() functions\n",
    "digits = range(10)\n",
    "print(\"digits =\", list(digits), \"\\n\")\n",
    "\n",
    "print(count)"
   ]
  },
  {
   "cell_type": "code",
   "execution_count": 71,
   "metadata": {},
   "outputs": [
    {
     "name": "stdout",
     "output_type": "stream",
     "text": [
      "sub_total: 0\n",
      "sub_total: 1\n",
      "sub_total: 3\n",
      "sub_total: 6\n",
      "sub_total: 10\n",
      "sub_total: 15\n",
      "sub_total: 21\n",
      "sub_total: 28\n",
      "sub_total: 36\n",
      "sub_total: 45\n"
     ]
    }
   ],
   "source": [
    "# Example\n",
    "sub_total = 0\n",
    "for items in range(10):\n",
    "    sub_total += items\n",
    "    print(\"sub_total:\", sub_total)"
   ]
  },
  {
   "cell_type": "code",
   "execution_count": 73,
   "metadata": {},
   "outputs": [
    {
     "name": "stdout",
     "output_type": "stream",
     "text": [
      "Tue\n",
      "Wed\n",
      "Feb\n"
     ]
    }
   ],
   "source": [
    "# Another Example\n",
    "spell_list = [\"Tue\", \"Wed\", \"Feb\", \"Nov\", \"Ann\", \"Cal\", \"Sol\"]\n",
    "half_1 = int(len(spell_list)/2)\n",
    "for word in range(half_1):\n",
    "    print(spell_list[word])"
   ]
  },
  {
   "cell_type": "markdown",
   "metadata": {},
   "source": [
    "### Using range functions to create start and stop range \n",
    "### range(Start value, Stop value)"
   ]
  },
  {
   "cell_type": "code",
   "execution_count": 78,
   "metadata": {},
   "outputs": [
    {
     "name": "stdout",
     "output_type": "stream",
     "text": [
      "5\n",
      "6\n",
      "7\n",
      "8\n",
      "9\n"
     ]
    }
   ],
   "source": [
    "# range start and stop\n",
    "for count in range(5,10):\n",
    "    print(count)"
   ]
  },
  {
   "cell_type": "code",
   "execution_count": 79,
   "metadata": {},
   "outputs": [
    {
     "name": "stdout",
     "output_type": "stream",
     "text": [
      "sub_total: 0 + 5 = 5\n",
      "sub_total: 5 + 6 = 11\n",
      "sub_total: 11 + 7 = 18\n",
      "sub_total: 18 + 8 = 26\n",
      "sub_total: 26 + 9 = 35\n",
      "total = 35\n"
     ]
    }
   ],
   "source": [
    "# Example\n",
    "sub_total = 0\n",
    "temp = 0\n",
    "for item in range(5,10):\n",
    "    temp = sub_total\n",
    "    sub_total += item\n",
    "    print(\"sub_total:\", temp, \"+\", item, \"=\", sub_total)\n",
    "print(\"total =\", sub_total)"
   ]
  },
  {
   "cell_type": "code",
   "execution_count": 80,
   "metadata": {},
   "outputs": [
    {
     "name": "stdout",
     "output_type": "stream",
     "text": [
      "Nov\n",
      "Ann\n",
      "Cal\n",
      "Sol\n"
     ]
    }
   ],
   "source": [
    "# Prints second half of spell_list\n",
    "spell_list = [\"Tue\", \"Wed\", \"Feb\", \"Nov\", \"Ann\", \"Cal\", \"Sol\"]\n",
    "spell_len = len(spell_list)\n",
    "half_1 = int(spell_len/2)\n",
    "\n",
    "for word in range(half_1,spell_len):\n",
    "    print(spell_list[word])"
   ]
  },
  {
   "cell_type": "code",
   "execution_count": 81,
   "metadata": {},
   "outputs": [
    {
     "name": "stdout",
     "output_type": "stream",
     "text": [
      "25\n",
      "50\n",
      "75\n",
      "100\n"
     ]
    }
   ],
   "source": [
    "# Using the range(Start, Stop, Step) function\n",
    "# Start = starting integer value\n",
    "# Stop = the stopping integer value (does not process the stopped argument)\n",
    "# Step = skip value for each loop\n",
    "\n",
    "# Example\n",
    "for count in range(25,101,25):\n",
    "    print(count)\n",
    "# Code 'steps' over intervals of 25"
   ]
  },
  {
   "cell_type": "code",
   "execution_count": 82,
   "metadata": {},
   "outputs": [
    {
     "name": "stdout",
     "output_type": "stream",
     "text": [
      "sub_total 0 + 25 = 25\n",
      "sub_total 25 + 30 = 55\n",
      "sub_total 55 + 35 = 90\n",
      "sub_total 90 + 40 = 130\n",
      "sub_total 130 + 45 = 175\n"
     ]
    }
   ],
   "source": [
    "# Extended Example\n",
    "sub_total = 0\n",
    "temp = 0\n",
    "for item in range(25,46,5):\n",
    "    temp = sub_total\n",
    "    sub_total += item\n",
    "    print(\"sub_total\", temp, \"+\", item, \"=\", sub_total)"
   ]
  },
  {
   "cell_type": "code",
   "execution_count": 84,
   "metadata": {},
   "outputs": [
    {
     "name": "stdout",
     "output_type": "stream",
     "text": [
      "Tue\n",
      "Feb\n",
      "Ann\n",
      "Sol\n"
     ]
    }
   ],
   "source": [
    "# Another Example\n",
    "spell_list = [\"Tue\", \"Wed\", \"Feb\", \"Nov\", \"Ann\", \"Cal\", \"Sol\"]\n",
    "\n",
    "for index in range(0, len(spell_list),2):\n",
    "    print(spell_list[index])"
   ]
  },
  {
   "cell_type": "code",
   "execution_count": 85,
   "metadata": {},
   "outputs": [
    {
     "name": "stdout",
     "output_type": "stream",
     "text": [
      "[1, 3, 5, 7, 9, 11, 13, 15, 17, 19]\n"
     ]
    }
   ],
   "source": [
    "# Example, creates a list of odd numbers from 1 - 20\n",
    "odd_list = list(range(1,20,2))\n",
    "print(odd_list)"
   ]
  },
  {
   "cell_type": "markdown",
   "metadata": {},
   "source": [
    "# The .reverse() method"
   ]
  },
  {
   "cell_type": "code",
   "execution_count": 86,
   "metadata": {},
   "outputs": [
    {
     "name": "stdout",
     "output_type": "stream",
     "text": [
      "regular ['Dubai', 'Mexico City', 'São Paulo', 'Hyderabad']\n",
      "reversed ['Hyderabad', 'São Paulo', 'Mexico City', 'Dubai']\n"
     ]
    }
   ],
   "source": [
    "# The .reverse() method reverses the order of any list\n",
    "# Example\n",
    "cities_1 = [\"Dubai\", \"Mexico City\", \"São Paulo\", \"Hyderabad\"]\n",
    "\n",
    "print(\"regular\", cities_1)\n",
    "cities_1.reverse()\n",
    "print(\"reversed\", cities_1)"
   ]
  },
  {
   "cell_type": "code",
   "execution_count": 87,
   "metadata": {},
   "outputs": [
    {
     "name": "stdout",
     "output_type": "stream",
     "text": [
      "regular list [0, 1, 2, 3, 4, 5, 6, 7, 8, 9, 10, 20, 30, 40, 50, 60, 70, 80, 90, 100] \n",
      "\n",
      "reverse list [100, 90, 80, 70, 60, 50, 40, 30, 20, 10, 9, 8, 7, 6, 5, 4, 3, 2, 1, 0] \n",
      "\n"
     ]
    }
   ],
   "source": [
    "# Agian for a list of numbers\n",
    "all_num = [0, 1, 2, 3, 4, 5, 6, 7, 8, 9, 10, 20, 30, 40, 50, 60, 70, 80, 90, 100]\n",
    "print(\"regular list\",all_num, \"\\n\")\n",
    "all_num.reverse()\n",
    "print(\"reverse list\",all_num, \"\\n\")\n",
    "num_len = len(all_num)\n",
    "# Just reverses the order of a list"
   ]
  },
  {
   "cell_type": "code",
   "execution_count": 88,
   "metadata": {},
   "outputs": [
    {
     "name": "stdout",
     "output_type": "stream",
     "text": [
      "90\n",
      "60\n",
      "30\n",
      "9\n",
      "6\n",
      "3\n",
      "0\n"
     ]
    }
   ],
   "source": [
    "# example using for loop using the all_num list\n",
    "for num in all_num:\n",
    "    if num/3 == int(num/3):\n",
    "        print(num)\n",
    "    else:\n",
    "        pass"
   ]
  },
  {
   "cell_type": "code",
   "execution_count": 89,
   "metadata": {},
   "outputs": [
    {
     "name": "stdout",
     "output_type": "stream",
     "text": [
      "before list [0, 1, 2, 3, 4, 5, 6, 7, 8, 9, 10, 11, 12, 13, 14, 15, 16, 17, 18, 19, 20] \n",
      "\n",
      "after list [20, 19, 18, 17, 16, 15, 14, 13, 12, 11, 10, 9, 8, 7, 6, 5, 4, 3, 2, 1, 0]\n"
     ]
    }
   ],
   "source": [
    "# example\n",
    "count_list = list(range(21))\n",
    "print(\"before list\", count_list, \"\\n\")\n",
    "count_list.reverse()\n",
    "print(\"after list\", count_list)"
   ]
  },
  {
   "cell_type": "markdown",
   "metadata": {},
   "source": [
    "# Using .insert() to insert an index into a List"
   ]
  },
  {
   "cell_type": "code",
   "execution_count": 1,
   "metadata": {},
   "outputs": [
    {
     "name": "stdout",
     "output_type": "stream",
     "text": [
      "current party:  ['Pratik', 'Mansi', 'Dipika', 'Bharat']\n",
      "\n",
      "new party:  ['Pratik', 'Mansi', 'Shrey', 'Dipika', 'Bharat']\n"
     ]
    }
   ],
   "source": [
    "# Using the .insert() method to insert an item to a List\n",
    "party = [\"Pratik\", \"Mansi\", \"Dipika\", \"Bharat\"]\n",
    "print(\"current party: \", party)\n",
    "\n",
    "party.insert(2, \"Shrey\")\n",
    "print( \"\\n\" \"new party: \", party)"
   ]
  },
  {
   "cell_type": "code",
   "execution_count": 2,
   "metadata": {},
   "outputs": [
    {
     "name": "stdout",
     "output_type": "stream",
     "text": [
      "['A', 'B', 'D', 'E']\n",
      "\n",
      " ['A', 'B', 'C', 'D', 'E']\n"
     ]
    }
   ],
   "source": [
    "# Example using the .insert() method to insert an index into a list\n",
    "group = ['A', \"B\", \"D\", 'E']\n",
    "print(group)\n",
    "group.insert(2, \"C\")\n",
    "print(\"\\n\", group)"
   ]
  },
  {
   "cell_type": "markdown",
   "metadata": {},
   "source": [
    "# Using the .join() method"
   ]
  },
  {
   "cell_type": "code",
   "execution_count": 3,
   "metadata": {},
   "outputs": [
    {
     "name": "stdout",
     "output_type": "stream",
     "text": [
      "practice every day\n"
     ]
    }
   ],
   "source": [
    "# Using the .join() methods to join items in a list\n",
    "\n",
    "# Example\n",
    "tip_words = ['practice', 'every', 'day']\n",
    "print(\" \".join(tip_words))"
   ]
  },
  {
   "cell_type": "code",
   "execution_count": 4,
   "metadata": {},
   "outputs": [
    {
     "data": {
      "text/plain": [
       "'pratik'"
      ]
     },
     "execution_count": 4,
     "metadata": {},
     "output_type": "execute_result"
    }
   ],
   "source": [
    "# Another example\n",
    "no_space = \"\"\n",
    "letters = ['p', 'r', 'a', 't', 'i', 'k']\n",
    "no_space.join(letters)\n",
    "# This just echos the str "
   ]
  },
  {
   "cell_type": "code",
   "execution_count": 5,
   "metadata": {},
   "outputs": [
    {
     "name": "stdout",
     "output_type": "stream",
     "text": [
      "p-r-a-t-i-k\n",
      "p=r=a=t=i=k\n",
      "p...r...a...t...i...k\n"
     ]
    }
   ],
   "source": [
    "# Joining items in alist with other characters\n",
    "dash = \"-\"\n",
    "equal = \"=\"\n",
    "ellipse = \"...\"\n",
    "print(dash.join(letters))\n",
    "print(equal.join(letters))\n",
    "print(ellipse.join(letters))\n"
   ]
  },
  {
   "cell_type": "markdown",
   "metadata": {},
   "source": [
    "# More Features with Casting Using list"
   ]
  },
  {
   "cell_type": "code",
   "execution_count": 6,
   "metadata": {},
   "outputs": [
    {
     "name": "stdout",
     "output_type": "stream",
     "text": [
      "['H', 'e', 'l', 'l', 'o']\n"
     ]
    }
   ],
   "source": [
    "# Casting a string into a list\n",
    "hello_letters = list(\"Hello\")\n",
    "print(hello_letters)"
   ]
  },
  {
   "cell_type": "code",
   "execution_count": 7,
   "metadata": {},
   "outputs": [
    {
     "name": "stdout",
     "output_type": "stream",
     "text": [
      "c~o~n~c~a~t~e~n~a~t~i~o~n\n"
     ]
    }
   ],
   "source": [
    "# Another example\n",
    "word_letters = list('concatenation')\n",
    "print('~'.join(word_letters))"
   ]
  },
  {
   "cell_type": "code",
   "execution_count": 8,
   "metadata": {},
   "outputs": [
    {
     "name": "stdout",
     "output_type": "stream",
     "text": [
      "Hello *world\n"
     ]
    }
   ],
   "source": [
    "# the end= configuration to end a line and start a new line\n",
    "print(\"Hello \", end = '*')\n",
    "print(\"world\")"
   ]
  },
  {
   "cell_type": "markdown",
   "metadata": {},
   "source": [
    "# Using the .pop() method"
   ]
  },
  {
   "cell_type": "code",
   "execution_count": 9,
   "metadata": {},
   "outputs": [
    {
     "name": "stdout",
     "output_type": "stream",
     "text": [
      "['joana', 'alton', 'tobias']\n",
      "Hello, tobias\n"
     ]
    }
   ],
   "source": [
    "# Using the .pop() method returns and deletes items in a list\n",
    "# if the argument for .pop() is empty it deletes and returns the last item in a list \n",
    "party = ['joana', 'alton', 'tobias']\n",
    "print(party)\n",
    "print(\"Hello,\", party.pop())"
   ]
  },
  {
   "cell_type": "code",
   "execution_count": 10,
   "metadata": {},
   "outputs": [
    {
     "name": "stdout",
     "output_type": "stream",
     "text": [
      "['joana', 'alton']\n",
      "Hello, alton\n"
     ]
    }
   ],
   "source": [
    "print(party)\n",
    "print(\"Hello,\", party.pop())"
   ]
  },
  {
   "cell_type": "code",
   "execution_count": 11,
   "metadata": {},
   "outputs": [
    {
     "name": "stdout",
     "output_type": "stream",
     "text": [
      "before [11, 21, 13, 14, 15]\n",
      "after [11, 21, 13, 15]\n"
     ]
    }
   ],
   "source": [
    "number_lst = [11,21,13,14,15]\n",
    "print(\"before\", number_lst)\n",
    "# The .pop() method with argument '3' removes index [3] from the list\n",
    "number_lst.pop(3)\n",
    "print('after', number_lst)"
   ]
  },
  {
   "cell_type": "code",
   "execution_count": 12,
   "metadata": {},
   "outputs": [
    {
     "name": "stdout",
     "output_type": "stream",
     "text": [
      "36\n"
     ]
    }
   ],
   "source": [
    "# Using the returned values from .pop() in calculations\n",
    "number_lst = [11, 21, 13, 15]\n",
    "no1 = number_lst.pop(1)\n",
    "no2 = number_lst.pop(2)\n",
    "print(no1 + no2)"
   ]
  },
  {
   "cell_type": "code",
   "execution_count": 13,
   "metadata": {},
   "outputs": [
    {
     "name": "stdout",
     "output_type": "stream",
     "text": [
      "1\n",
      "7\n"
     ]
    }
   ],
   "source": [
    "# pop-out first and last number from a list\n",
    "no_lst = [1, 3, 6, 7]\n",
    "print(no_lst.pop(0))\n",
    "print(no_lst.pop(-1))"
   ]
  },
  {
   "cell_type": "markdown",
   "metadata": {},
   "source": [
    "# Using the .remove(object) method"
   ]
  },
  {
   "cell_type": "code",
   "execution_count": 14,
   "metadata": {},
   "outputs": [
    {
     "name": "stdout",
     "output_type": "stream",
     "text": [
      "new list: ['poodle', 'lab']\n"
     ]
    }
   ],
   "source": [
    "# Example showing how to use the .remove(object) method\n",
    "# example using a if statment\n",
    "dogs = ['pug', 'poodle', 'lab']\n",
    "if 'pug' in dogs:\n",
    "    dogs.remove('pug')\n",
    "    print('new list:', dogs)\n",
    "else:\n",
    "    print('item not in list')"
   ]
  },
  {
   "cell_type": "code",
   "execution_count": 15,
   "metadata": {},
   "outputs": [
    {
     "name": "stdout",
     "output_type": "stream",
     "text": [
      "['lab']\n"
     ]
    }
   ],
   "source": [
    "# example using a while loop\n",
    "while 'poodle' in dogs:\n",
    "    dogs.remove('poodle')\n",
    "    print(dogs)\n",
    "# note. all thats left is lab which wasn't removed"
   ]
  },
  {
   "cell_type": "markdown",
   "metadata": {},
   "source": [
    "# Using the .split() Method on a Str"
   ]
  },
  {
   "cell_type": "code",
   "execution_count": 16,
   "metadata": {},
   "outputs": [
    {
     "name": "stdout",
     "output_type": "stream",
     "text": [
      "STRING: Notebooks can be exported as .pdf \n",
      "\n",
      "['Notebooks', 'can', 'be', 'exported', 'as', '.pdf']\n"
     ]
    }
   ],
   "source": [
    "# The .split() method turns items in a string into a list\n",
    "# Example\n",
    "tip = \"Notebooks can be exported as .pdf\"\n",
    "tip_words = tip.split()\n",
    "print(\"STRING:\", tip, \"\\n\")\n",
    "print( tip_words,)"
   ]
  },
  {
   "cell_type": "code",
   "execution_count": 17,
   "metadata": {},
   "outputs": [
    {
     "name": "stdout",
     "output_type": "stream",
     "text": [
      "London\n",
      "bridge\n",
      "is\n",
      "falling\n",
      "down\n"
     ]
    }
   ],
   "source": [
    "# Another example also using a for loop to list the items\n",
    "rhyme = \"London bridge is falling down\"\n",
    "\n",
    "rhyme_words = rhyme.split()\n",
    "\n",
    "for word in rhyme_words:\n",
    "    print(word)\n",
    "    "
   ]
  },
  {
   "cell_type": "markdown",
   "metadata": {},
   "source": [
    "# Using the del statement to Delete an Index"
   ]
  },
  {
   "cell_type": "code",
   "execution_count": 18,
   "metadata": {},
   "outputs": [
    {
     "name": "stdout",
     "output_type": "stream",
     "text": [
      "original list: [11, 21, 13, 15, 117]\n",
      "new list: [21, 13, 15, 117]\n"
     ]
    }
   ],
   "source": [
    "# Using the delete command to eliminate an index from a list\n",
    "# Do this by using the 'del' statement\n",
    "sample_list = [11, 21, 13, 15, 117]\n",
    "print('original list:', sample_list)\n",
    "del sample_list[0]\n",
    "print('new list:', sample_list)"
   ]
  },
  {
   "cell_type": "code",
   "execution_count": 19,
   "metadata": {},
   "outputs": [
    {
     "name": "stdout",
     "output_type": "stream",
     "text": [
      "[22, 'dog', 3]\n",
      "[22, 3]\n"
     ]
    }
   ],
   "source": [
    "# Example using .append() and del statement\n",
    "mixed_list = [22, 'dog']\n",
    "mixed_list.append(3)\n",
    "print(mixed_list)\n",
    "del mixed_list[1]\n",
    "print(mixed_list)"
   ]
  },
  {
   "cell_type": "code",
   "execution_count": 20,
   "metadata": {},
   "outputs": [
    {
     "name": "stdout",
     "output_type": "stream",
     "text": [
      "['t13', 'z9']\n"
     ]
    }
   ],
   "source": [
    "# Example\n",
    "bones = ['t13', 'y8', 'z9']\n",
    "# delete 'y8'\n",
    "del bones[1]\n",
    "print(bones)"
   ]
  },
  {
   "cell_type": "markdown",
   "metadata": {},
   "source": [
    "# Sort & Filter items in a Str or list"
   ]
  },
  {
   "cell_type": "code",
   "execution_count": 21,
   "metadata": {},
   "outputs": [
    {
     "name": "stdout",
     "output_type": "stream",
     "text": [
      "LIST OF LONG BONES \n",
      " \n",
      "lateral cuneiform\n",
      "\n",
      "intermediate cuneiform\n",
      "\n",
      "medial cuneiform\n",
      "\n",
      "LIST OF SHORT BONES \n",
      " \n",
      "calcaneus\n",
      "\n",
      "talus\n",
      "\n",
      "cuboid\n",
      "\n",
      "navicular\n",
      "\n"
     ]
    }
   ],
   "source": [
    "# Using comparsion operator swhole iterating a str or list to sort & filter\n",
    "\n",
    "foot_bones = ['calcaneus', 'talus', 'cuboid', 'navicular', 'lateral cuneiform', 'intermediate cuneiform', 'medial cuneiform']\n",
    "long_bones = \"\"\n",
    "short_bones = \"\"\n",
    "\n",
    "for bone in foot_bones:\n",
    "    if len(bone) < 10:\n",
    "        short_bones += \"\\n\" + bone + '\\n'\n",
    "    else: \n",
    "        long_bones += \"\\n\" + bone + '\\n'\n",
    "print(\"List of long bones\".upper(), \"\\n\", long_bones)\n",
    "print(\"List of short bones\".upper(), '\\n', short_bones)"
   ]
  },
  {
   "cell_type": "code",
   "execution_count": 24,
   "metadata": {},
   "outputs": [
    {
     "name": "stdout",
     "output_type": "stream",
     "text": [
      "['lateral cuneiform', 'intermediate cuneiform', 'medial cuneiform']\n",
      "\n",
      "\n",
      "['calcaneus', 'talus', 'cuboid', 'navicular']\n"
     ]
    }
   ],
   "source": [
    "# Another Example\n",
    "foot_bones = ['calcaneus', 'talus', 'cuboid', 'navicular', 'lateral cuneiform', 'intermediate cuneiform', 'medial cuneiform']\n",
    "long_bones = []\n",
    "short_bones = []\n",
    "\n",
    "for bone in foot_bones:\n",
    "    if len(bone) < 10:\n",
    "        short_bones.append(bone)\n",
    "    else:\n",
    "        long_bones.append(bone)\n",
    "\n",
    "print(long_bones)\n",
    "print('\\n')\n",
    "print(short_bones)\n"
   ]
  },
  {
   "cell_type": "markdown",
   "metadata": {},
   "source": [
    "# While empty list are False"
   ]
  },
  {
   "cell_type": "code",
   "execution_count": 25,
   "metadata": {},
   "outputs": [
    {
     "name": "stdout",
     "output_type": "stream",
     "text": [
      "pug\n",
      "poodle\n",
      "lab\n"
     ]
    }
   ],
   "source": [
    "# Using the while loop in conjunction with .pop() method\n",
    "dogs = ['lab', 'poodle', 'pug']\n",
    "while dogs:\n",
    "    print(dogs.pop())\n",
    "# This while loop ends when all items in the list empty out (becomes False)"
   ]
  },
  {
   "cell_type": "markdown",
   "metadata": {},
   "source": [
    "# Getting a list of emails from data. Example"
   ]
  },
  {
   "cell_type": "code",
   "execution_count": 26,
   "metadata": {},
   "outputs": [
    {
     "name": "stdout",
     "output_type": "stream",
     "text": [
      "stephen.marquard@uct.ac.za\n",
      "louis@media.berkeley.edu\n",
      "zqian@umich.edu\n",
      "rjlowe@iupui.edu\n",
      "zqian@umich.edu\n",
      "rjlowe@iupui.edu\n",
      "cwen@iupui.edu\n",
      "cwen@iupui.edu\n",
      "gsilver@umich.edu\n",
      "gsilver@umich.edu\n",
      "zqian@umich.edu\n",
      "gsilver@umich.edu\n",
      "wagnermr@iupui.edu\n",
      "zqian@umich.edu\n",
      "antranig@caret.cam.ac.uk\n",
      "gopal.ramasammycook@gmail.com\n",
      "david.horwitz@uct.ac.za\n",
      "david.horwitz@uct.ac.za\n",
      "david.horwitz@uct.ac.za\n",
      "david.horwitz@uct.ac.za\n",
      "stephen.marquard@uct.ac.za\n",
      "louis@media.berkeley.edu\n",
      "louis@media.berkeley.edu\n",
      "ray@media.berkeley.edu\n",
      "cwen@iupui.edu\n",
      "cwen@iupui.edu\n",
      "cwen@iupui.edu\n",
      "There were 27 lines in the file with From as the first word\n"
     ]
    }
   ],
   "source": [
    "#fname = input(\"Enter file name: \")\n",
    "fname = \"mbox-short.txt\"\n",
    "fh = open(fname)\n",
    "emails = []\n",
    "for line in fh:\n",
    "    line = line.rstrip()\n",
    "    if \"From \" in line:\n",
    "        line = line.split()\n",
    "        #print(line)\n",
    "        print(line[1])\n",
    "        emails.append(line[1])\n",
    "    else:\n",
    "        continue\n",
    "print(\"There were\", len(emails), \"lines in the file with From as the first word\")\n"
   ]
  },
  {
   "cell_type": "code",
   "execution_count": null,
   "metadata": {},
   "outputs": [],
   "source": []
  }
 ],
 "metadata": {
  "kernelspec": {
   "display_name": "Python 3",
   "language": "python",
   "name": "python3"
  },
  "language_info": {
   "codemirror_mode": {
    "name": "ipython",
    "version": 3
   },
   "file_extension": ".py",
   "mimetype": "text/x-python",
   "name": "python",
   "nbconvert_exporter": "python",
   "pygments_lexer": "ipython3",
   "version": "3.7.4"
  }
 },
 "nbformat": 4,
 "nbformat_minor": 2
}
