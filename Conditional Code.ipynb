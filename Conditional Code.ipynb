{
 "cells": [
  {
   "cell_type": "markdown",
   "metadata": {},
   "source": [
    "# Comparison Operators"
   ]
  },
  {
   "cell_type": "markdown",
   "metadata": {},
   "source": [
    "#### Strings can be equal (==) or unequal !=\n",
    "#### Strings can be greater than > or less than <\n",
    "#### alphabetically \"A\" is less than \"B\"\n",
    "#### lower case \"a\" is greater than upper case \"A\""
   ]
  },
  {
   "cell_type": "code",
   "execution_count": 13,
   "metadata": {},
   "outputs": [
    {
     "data": {
      "text/plain": [
       "False"
      ]
     },
     "execution_count": 13,
     "metadata": {},
     "output_type": "execute_result"
    }
   ],
   "source": [
    "# Basic Math comparison\n",
    "3 > 5"
   ]
  },
  {
   "cell_type": "code",
   "execution_count": 14,
   "metadata": {},
   "outputs": [
    {
     "data": {
      "text/plain": [
       "True"
      ]
     },
     "execution_count": 14,
     "metadata": {},
     "output_type": "execute_result"
    }
   ],
   "source": [
    "3 <= 3"
   ]
  },
  {
   "cell_type": "code",
   "execution_count": 15,
   "metadata": {},
   "outputs": [
    {
     "data": {
      "text/plain": [
       "False"
      ]
     },
     "execution_count": 15,
     "metadata": {},
     "output_type": "execute_result"
    }
   ],
   "source": [
    "x = 3 # This is the assignment operator\n",
    "x == 9"
   ]
  },
  {
   "cell_type": "markdown",
   "metadata": {},
   "source": [
    "# String Comparison"
   ]
  },
  {
   "cell_type": "markdown",
   "metadata": {},
   "source": [
    "##### Comparison operators work just like the ones in math\n",
    "##### greater than (>)\n",
    "##### greater than or equal to (>=)\n",
    "##### less than (<)\n",
    "##### less than or equal to (<=)\n",
    "##### equal to (==) double equal sign\n",
    "##### not equal (!=)"
   ]
  },
  {
   "cell_type": "code",
   "execution_count": 8,
   "metadata": {},
   "outputs": [
    {
     "name": "stdout",
     "output_type": "stream",
     "text": [
      "True\n",
      "True\n"
     ]
    }
   ],
   "source": [
    "# capital letters come first before lowercase letters\n",
    "print(\"hello\" > \"Hello\")\n",
    "print('student' != 'Student')"
   ]
  },
  {
   "cell_type": "code",
   "execution_count": 6,
   "metadata": {},
   "outputs": [
    {
     "data": {
      "text/plain": [
       "False"
      ]
     },
     "execution_count": 6,
     "metadata": {},
     "output_type": "execute_result"
    }
   ],
   "source": [
    "# alphebatical order\n",
    "\"Aardvark\" > \"Zebra\""
   ]
  },
  {
   "cell_type": "code",
   "execution_count": 9,
   "metadata": {},
   "outputs": [
    {
     "data": {
      "text/plain": [
       "True"
      ]
     },
     "execution_count": 9,
     "metadata": {},
     "output_type": "execute_result"
    }
   ],
   "source": [
    "# equivalent strings\n",
    "\"Hello \" + \"World!\" == \"Hello World!\" "
   ]
  },
  {
   "cell_type": "code",
   "execution_count": 11,
   "metadata": {},
   "outputs": [
    {
     "name": "stdout",
     "output_type": "stream",
     "text": [
      "Say Hello: Hi\n",
      "your message is: Hi\n",
      "False\n"
     ]
    }
   ],
   "source": [
    "# String comparison Example \n",
    "greeting = \"Hello\"\n",
    "msg = input(\"Say \" + greeting + \": \")\n",
    "print(\"your message is:\", msg)\n",
    "print( greeting == msg)"
   ]
  },
  {
   "cell_type": "code",
   "execution_count": null,
   "metadata": {},
   "outputs": [],
   "source": []
  },
  {
   "cell_type": "markdown",
   "metadata": {},
   "source": [
    "# If, Else Conditional Statements"
   ]
  },
  {
   "cell_type": "code",
   "execution_count": 27,
   "metadata": {},
   "outputs": [
    {
     "name": "stdout",
     "output_type": "stream",
     "text": [
      "x is not equal to 3\n"
     ]
    }
   ],
   "source": [
    "# using comparisons and the if statement\n",
    "x = 3\n",
    "if x == 5:\n",
    "    print(\"x is equal to 3\", x == 3)\n",
    "else:\n",
    "    print(\"x is not equal to 3\")"
   ]
  },
  {
   "cell_type": "code",
   "execution_count": 16,
   "metadata": {},
   "outputs": [
    {
     "name": "stdout",
     "output_type": "stream",
     "text": [
      "message as expected\n"
     ]
    }
   ],
   "source": [
    "# Using strings in an 'if' comparison\n",
    "msg = \"Save the notebook\"\n",
    "\n",
    "if msg.lower() == \"save the notebook\":\n",
    "    print(\"message as expected\")\n",
    "else:\n",
    "    print(\"message is not as expected\")"
   ]
  },
  {
   "cell_type": "code",
   "execution_count": 17,
   "metadata": {},
   "outputs": [
    {
     "name": "stdout",
     "output_type": "stream",
     "text": [
      "message not as expected\n"
     ]
    }
   ],
   "source": [
    "# Another Example\n",
    "msg = \"Save the notebook\"\n",
    "prediction = 'save the notebooks'\n",
    "\n",
    "if msg.lower() == prediction.lower():\n",
    "    print(\"message is as expected\")\n",
    "else:\n",
    "    print(\"message not as expected\")"
   ]
  },
  {
   "cell_type": "code",
   "execution_count": 18,
   "metadata": {},
   "outputs": [
    {
     "name": "stdout",
     "output_type": "stream",
     "text": [
      "What is 8 + 13?\n",
      "21\n",
      "Correct\n"
     ]
    }
   ],
   "source": [
    "# example using Input\n",
    "print(\"What is 8 + 13?\")\n",
    "question = input()\n",
    "\n",
    "if question == '21':\n",
    "    print(\"Correct\")\n",
    "else:\n",
    "    print(\"Wrong\")"
   ]
  },
  {
   "cell_type": "markdown",
   "metadata": {},
   "source": [
    "#### key words are 'if', 'else', & 'pass'\n",
    "#### conditional use of True and False Booleans"
   ]
  },
  {
   "cell_type": "code",
   "execution_count": 19,
   "metadata": {},
   "outputs": [
    {
     "name": "stdout",
     "output_type": "stream",
     "text": [
      "What is the capital of Asyria? I don't know\n",
      "AAAAGGHHHH\n"
     ]
    }
   ],
   "source": [
    "# Use the pass keyword to continue on in the code\n",
    "quest = input(\"What is the capital of Asyria? \")\n",
    "\n",
    "if quest == \"I don't know\":\n",
    "    print(\"AAAAGGHHHH\")\n",
    "else:\n",
    "    pass"
   ]
  },
  {
   "cell_type": "code",
   "execution_count": 21,
   "metadata": {},
   "outputs": [],
   "source": [
    "# Since this is always false it passess the everytime\n",
    "someone_i_know = False \n",
    "if someone_i_know:\n",
    "    print(\"how have you been\")\n",
    "else: \n",
    "    pass"
   ]
  },
  {
   "cell_type": "code",
   "execution_count": 22,
   "metadata": {},
   "outputs": [
    {
     "name": "stdout",
     "output_type": "stream",
     "text": [
      "how have you been\n"
     ]
    }
   ],
   "source": [
    "# Never will pass becuause statement is always true\n",
    "someone_i_know = True\n",
    "if someone_i_know:\n",
    "    print(\"how have you been\")\n",
    "else:\n",
    "    pass"
   ]
  },
  {
   "cell_type": "markdown",
   "metadata": {},
   "source": [
    "### Boolean String Methods in Conditonals"
   ]
  },
  {
   "cell_type": "code",
   "execution_count": 23,
   "metadata": {},
   "outputs": [
    {
     "name": "stdout",
     "output_type": "stream",
     "text": [
      "Enter the title of your favorite book: Star Wars\n",
      "Star Wars - good caps\n"
     ]
    }
   ],
   "source": [
    "# use of the istitle() boolean method\n",
    "favorite_book = input(\"Enter the title of your favorite book: \")\n",
    "if favorite_book.istitle():\n",
    "    print(favorite_book + \" - good caps\")\n",
    "else:\n",
    "    print(favorite_book + \" - consider caps the first letter of each word\")\n",
    "    "
   ]
  },
  {
   "cell_type": "code",
   "execution_count": 24,
   "metadata": {},
   "outputs": [
    {
     "name": "stdout",
     "output_type": "stream",
     "text": [
      "Enter a number: 23\n",
      "23 is a number\n"
     ]
    }
   ],
   "source": [
    "# Example using Digit\n",
    "a_number = input(\"Enter a number: \")\n",
    "if a_number.isdigit():\n",
    "    print(a_number, \"is a number\")\n",
    "else:\n",
    "    pass"
   ]
  },
  {
   "cell_type": "code",
   "execution_count": 25,
   "metadata": {},
   "outputs": [
    {
     "name": "stdout",
     "output_type": "stream",
     "text": [
      "'Enter the Vehicle type:'Star Wars\n",
      "Star Wars does not start with \"P\"\n"
     ]
    }
   ],
   "source": [
    "# Example using .startswith(\"__\")\n",
    "veh_type = input(\"'Enter the Vehicle type:'\")\n",
    "if veh_type.upper().startswith(\"P\"):\n",
    "    print(veh_type, 'starts with \"P\"')\n",
    "else:\n",
    "    print(veh_type, 'does not start with \"P\"')"
   ]
  },
  {
   "cell_type": "markdown",
   "metadata": {},
   "source": [
    "# Elif Statement"
   ]
  },
  {
   "cell_type": "markdown",
   "metadata": {},
   "source": [
    "### 'if' means \"if a condition exists then do some task 'if' is followed by an 'else'"
   ]
  },
  {
   "cell_type": "markdown",
   "metadata": {},
   "source": [
    "#### 'else' means \"or else after we test the 'if'\n",
    "#### The 'elif' follows 'if' and means \"else if\""
   ]
  },
  {
   "cell_type": "code",
   "execution_count": 29,
   "metadata": {},
   "outputs": [
    {
     "name": "stdout",
     "output_type": "stream",
     "text": [
      "Enter the Weather (sunny, rainy, snowy): sunny\n",
      "Wear a t-shirt\n"
     ]
    }
   ],
   "source": [
    "# Examples\n",
    "weather = input(\"Enter the Weather (sunny, rainy, snowy): \")\n",
    "\n",
    "if weather.lower() == \"sunny\":\n",
    "    print(\"Wear a t-shirt\")\n",
    "elif weather.lower() == \"rainy\":\n",
    "    print(\"Bring an umbrella\")\n",
    "elif weather.lower() == \"snowy\":\n",
    "    print(\"Wear a jacket\")\n",
    "else:\n",
    "    print(\"Input not valid\")\n"
   ]
  },
  {
   "cell_type": "code",
   "execution_count": 30,
   "metadata": {},
   "outputs": [
    {
     "name": "stdout",
     "output_type": "stream",
     "text": [
      "Enter guess (1, 2, or 3): 3\n",
      "Too high\n"
     ]
    }
   ],
   "source": [
    "# Example 2\n",
    "guess = input(\"Enter guess (1, 2, or 3): \")\n",
    "\n",
    "if guess.isdigit() == False:\n",
    "    print(\"Invalid: guess shoulbe be a number\")\n",
    "elif guess == \"1\":\n",
    "    print(\"Too low\")\n",
    "elif guess == \"2\":\n",
    "    print(\"Good guess; your right\")\n",
    "elif guess == '3':\n",
    "    print(\"Too high\")\n",
    "else:\n",
    "    print(\"Guess must be between 1 - 3\")"
   ]
  },
  {
   "cell_type": "code",
   "execution_count": 31,
   "metadata": {},
   "outputs": [
    {
     "name": "stdout",
     "output_type": "stream",
     "text": [
      "Size must be S, M, or L\n",
      "What is your pant size? L\n",
      "You should lose weight\n"
     ]
    }
   ],
   "source": [
    "# Example 3\n",
    "print(\"Size must be S, M, or L\")\n",
    "size = input(\"What is your pant size? \")\n",
    "\n",
    "if size.upper() == \"S\":\n",
    "    print(\"You should gain weight\")\n",
    "elif size.upper() == \"M\":\n",
    "    print(\"You should keep this weight\")\n",
    "elif size.upper() == \"L\":\n",
    "    print(\"You should lose weight\")\n",
    "else:\n",
    "    print(\"Invalid size!\")"
   ]
  },
  {
   "cell_type": "markdown",
   "metadata": {},
   "source": [
    "# Nested Conditionals"
   ]
  },
  {
   "cell_type": "code",
   "execution_count": 28,
   "metadata": {},
   "outputs": [],
   "source": [
    "# Nested 'if' conditionals allow for more decision making within the code\n",
    "# if\n",
    "#    if\n",
    "#       else\n",
    "#     else\n",
    "#  else"
   ]
  },
  {
   "cell_type": "code",
   "execution_count": 32,
   "metadata": {},
   "outputs": [
    {
     "name": "stdout",
     "output_type": "stream",
     "text": [
      "\"c\" for Cheese or \"v\" for Veggie Special c\n",
      "\"c\" for Cheddar or \"s\" for Swiss c\n",
      "Here is your Cheddar Cheese sandwich\n"
     ]
    }
   ],
   "source": [
    "# nested conditional statements using if with one level of nesting\n",
    "sandwich_type = input('\"c\" for Cheese or \"v\" for Veggie Special ')\n",
    "if sandwich_type.lower() == \"c\":\n",
    "    cheese_type = input('\"c\" for Cheddar or \"s\" for Swiss ')\n",
    "    if cheese_type.lower() == \"c\":\n",
    "        print(\"Here is your Cheddar Cheese sandwich\")\n",
    "    elif cheese_type.lower() == \"s\":\n",
    "        print(\"Here is your Swiss Cheese sandwhich\")\n",
    "    else:\n",
    "        print(\"Invalid Cheese input!\")\n",
    "elif sandwich_type.lower() == \"v\":\n",
    "    print(\"Here is your Veggie Special sandwhich\")\n",
    "else:\n",
    "    print(\"Invalid input!\")"
   ]
  },
  {
   "cell_type": "code",
   "execution_count": null,
   "metadata": {},
   "outputs": [],
   "source": []
  }
 ],
 "metadata": {
  "kernelspec": {
   "display_name": "Python 3",
   "language": "python",
   "name": "python3"
  },
  "language_info": {
   "codemirror_mode": {
    "name": "ipython",
    "version": 3
   },
   "file_extension": ".py",
   "mimetype": "text/x-python",
   "name": "python",
   "nbconvert_exporter": "python",
   "pygments_lexer": "ipython3",
   "version": "3.7.4"
  }
 },
 "nbformat": 4,
 "nbformat_minor": 2
}
