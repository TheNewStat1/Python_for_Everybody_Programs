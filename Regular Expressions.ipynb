{
 "cells": [
  {
   "cell_type": "markdown",
   "metadata": {},
   "source": [
    "# Regular Expressions"
   ]
  },
  {
   "cell_type": "markdown",
   "metadata": {},
   "source": [
    "A regular expression can:\n",
    "* Provides a concise and flexable way of matching character strings of text by particular characters, words, patterns, or symbols\n",
    "* Used as a form of \"search\"\n",
    "* It is akin to a 'wild card' programming expression for matching and parsing strings"
   ]
  },
  {
   "cell_type": "markdown",
   "metadata": {},
   "source": [
    "See hand-out on list of regular expressions for python"
   ]
  },
  {
   "cell_type": "markdown",
   "metadata": {},
   "source": [
    "You have to import regular expression into python"
   ]
  },
  {
   "cell_type": "code",
   "execution_count": 19,
   "metadata": {},
   "outputs": [],
   "source": [
    "# This is how to import the 'regular expressions' library ('re')\n",
    "import re "
   ]
  },
  {
   "cell_type": "markdown",
   "metadata": {},
   "source": [
    "The following code shows how to use regular expression re.search() as a find() function"
   ]
  },
  {
   "cell_type": "code",
   "execution_count": 32,
   "metadata": {},
   "outputs": [
    {
     "name": "stdout",
     "output_type": "stream",
     "text": [
      "From: stephen.marquard@uct.ac.za\n",
      "From: louis@media.berkeley.edu\n",
      "From: zqian@umich.edu\n",
      "From: rjlowe@iupui.edu\n",
      "From: zqian@umich.edu\n",
      "From: rjlowe@iupui.edu\n",
      "From: cwen@iupui.edu\n",
      "From: cwen@iupui.edu\n",
      "From: gsilver@umich.edu\n",
      "From: gsilver@umich.edu\n",
      "From: zqian@umich.edu\n",
      "From: gsilver@umich.edu\n",
      "From: wagnermr@iupui.edu\n",
      "From: zqian@umich.edu\n",
      "From: antranig@caret.cam.ac.uk\n",
      "From: gopal.ramasammycook@gmail.com\n",
      "From: david.horwitz@uct.ac.za\n",
      "From: david.horwitz@uct.ac.za\n",
      "From: david.horwitz@uct.ac.za\n",
      "From: david.horwitz@uct.ac.za\n",
      "From: stephen.marquard@uct.ac.za\n",
      "From: louis@media.berkeley.edu\n",
      "From: louis@media.berkeley.edu\n",
      "From: ray@media.berkeley.edu\n",
      "From: cwen@iupui.edu\n",
      "From: cwen@iupui.edu\n",
      "From: cwen@iupui.edu\n"
     ]
    }
   ],
   "source": [
    "# This code is the typical way to use the find() function\n",
    "hand = open('mbox-short.txt')\n",
    "for line in hand:\n",
    "    line = line.rstrip()\n",
    "    if line.find('From:') == 0: # Remember the .find() reterns a 0 for a hit\n",
    "        print(line)"
   ]
  },
  {
   "cell_type": "code",
   "execution_count": 33,
   "metadata": {},
   "outputs": [
    {
     "name": "stdout",
     "output_type": "stream",
     "text": [
      "From: stephen.marquard@uct.ac.za\n",
      "From: louis@media.berkeley.edu\n",
      "From: zqian@umich.edu\n",
      "From: rjlowe@iupui.edu\n",
      "From: zqian@umich.edu\n",
      "From: rjlowe@iupui.edu\n",
      "From: cwen@iupui.edu\n",
      "From: cwen@iupui.edu\n",
      "From: gsilver@umich.edu\n",
      "From: gsilver@umich.edu\n",
      "From: zqian@umich.edu\n",
      "From: gsilver@umich.edu\n",
      "From: wagnermr@iupui.edu\n",
      "From: zqian@umich.edu\n",
      "From: antranig@caret.cam.ac.uk\n",
      "From: gopal.ramasammycook@gmail.com\n",
      "From: david.horwitz@uct.ac.za\n",
      "From: david.horwitz@uct.ac.za\n",
      "From: david.horwitz@uct.ac.za\n",
      "From: david.horwitz@uct.ac.za\n",
      "From: stephen.marquard@uct.ac.za\n",
      "From: louis@media.berkeley.edu\n",
      "From: louis@media.berkeley.edu\n",
      "From: ray@media.berkeley.edu\n",
      "From: cwen@iupui.edu\n",
      "From: cwen@iupui.edu\n",
      "From: cwen@iupui.edu\n"
     ]
    }
   ],
   "source": [
    "# The following code can do the same thing but with re.search() method\n",
    "import re\n",
    "hand = open('mbox-short.txt')\n",
    "for line in hand:\n",
    "    line = line.rstrip()\n",
    "    if re.search('From:', line):\n",
    "        print(line)"
   ]
  },
  {
   "cell_type": "markdown",
   "metadata": {},
   "source": [
    "This next bit shows how to use the regular expression re.search() as a startswith() function"
   ]
  },
  {
   "cell_type": "code",
   "execution_count": 34,
   "metadata": {},
   "outputs": [
    {
     "name": "stdout",
     "output_type": "stream",
     "text": [
      "From: stephen.marquard@uct.ac.za\n",
      "From: louis@media.berkeley.edu\n",
      "From: zqian@umich.edu\n",
      "From: rjlowe@iupui.edu\n",
      "From: zqian@umich.edu\n",
      "From: rjlowe@iupui.edu\n",
      "From: cwen@iupui.edu\n",
      "From: cwen@iupui.edu\n",
      "From: gsilver@umich.edu\n",
      "From: gsilver@umich.edu\n",
      "From: zqian@umich.edu\n",
      "From: gsilver@umich.edu\n",
      "From: wagnermr@iupui.edu\n",
      "From: zqian@umich.edu\n",
      "From: antranig@caret.cam.ac.uk\n",
      "From: gopal.ramasammycook@gmail.com\n",
      "From: david.horwitz@uct.ac.za\n",
      "From: david.horwitz@uct.ac.za\n",
      "From: david.horwitz@uct.ac.za\n",
      "From: david.horwitz@uct.ac.za\n",
      "From: stephen.marquard@uct.ac.za\n",
      "From: louis@media.berkeley.edu\n",
      "From: louis@media.berkeley.edu\n",
      "From: ray@media.berkeley.edu\n",
      "From: cwen@iupui.edu\n",
      "From: cwen@iupui.edu\n",
      "From: cwen@iupui.edu\n"
     ]
    }
   ],
   "source": [
    "# Here is the normal string method way of using the startswith() method\n",
    "hand = open('mbox-short.txt')\n",
    "for line in hand:\n",
    "    line = line.rstrip()\n",
    "    if line.startswith('From:'): \n",
    "        print(line)"
   ]
  },
  {
   "cell_type": "code",
   "execution_count": 36,
   "metadata": {},
   "outputs": [
    {
     "name": "stdout",
     "output_type": "stream",
     "text": [
      "From: stephen.marquard@uct.ac.za\n",
      "From: louis@media.berkeley.edu\n",
      "From: zqian@umich.edu\n",
      "From: rjlowe@iupui.edu\n",
      "From: zqian@umich.edu\n",
      "From: rjlowe@iupui.edu\n",
      "From: cwen@iupui.edu\n",
      "From: cwen@iupui.edu\n",
      "From: gsilver@umich.edu\n",
      "From: gsilver@umich.edu\n",
      "From: zqian@umich.edu\n",
      "From: gsilver@umich.edu\n",
      "From: wagnermr@iupui.edu\n",
      "From: zqian@umich.edu\n",
      "From: antranig@caret.cam.ac.uk\n",
      "From: gopal.ramasammycook@gmail.com\n",
      "From: david.horwitz@uct.ac.za\n",
      "From: david.horwitz@uct.ac.za\n",
      "From: david.horwitz@uct.ac.za\n",
      "From: david.horwitz@uct.ac.za\n",
      "From: stephen.marquard@uct.ac.za\n",
      "From: louis@media.berkeley.edu\n",
      "From: louis@media.berkeley.edu\n",
      "From: ray@media.berkeley.edu\n",
      "From: cwen@iupui.edu\n",
      "From: cwen@iupui.edu\n",
      "From: cwen@iupui.edu\n"
     ]
    }
   ],
   "source": [
    "# Here is a way to use of using re.search() as a startswith() function\n",
    "hand = open('mbox-short.txt')\n",
    "for line in hand:\n",
    "    line = line.rstrip()\n",
    "    if re.search('^From:', line ) : \n",
    "        # the carrot '^' indicates that the search is for the first character of the string                     \n",
    "        print(line)"
   ]
  },
  {
   "cell_type": "markdown",
   "metadata": {},
   "source": [
    "Here is a search that uses the '.' and '^' key regular expressions"
   ]
  },
  {
   "cell_type": "code",
   "execution_count": 38,
   "metadata": {},
   "outputs": [
    {
     "name": "stdout",
     "output_type": "stream",
     "text": [
      "From stephen.marquard@uct.ac.za Sat Jan  5 09:14:16 2008\n",
      "From: stephen.marquard@uct.ac.za\n",
      "From louis@media.berkeley.edu Fri Jan  4 18:10:48 2008\n",
      "From: louis@media.berkeley.edu\n",
      "From zqian@umich.edu Fri Jan  4 16:10:39 2008\n",
      "From: zqian@umich.edu\n",
      "From rjlowe@iupui.edu Fri Jan  4 15:46:24 2008\n",
      "From: rjlowe@iupui.edu\n",
      "From zqian@umich.edu Fri Jan  4 15:03:18 2008\n",
      "From: zqian@umich.edu\n",
      "Files Changed\n",
      "From rjlowe@iupui.edu Fri Jan  4 14:50:18 2008\n",
      "From: rjlowe@iupui.edu\n",
      "From cwen@iupui.edu Fri Jan  4 11:37:30 2008\n",
      "From: cwen@iupui.edu\n",
      "From cwen@iupui.edu Fri Jan  4 11:35:08 2008\n",
      "From: cwen@iupui.edu\n",
      "From gsilver@umich.edu Fri Jan  4 11:12:37 2008\n",
      "From: gsilver@umich.edu\n",
      "From gsilver@umich.edu Fri Jan  4 11:11:52 2008\n",
      "From: gsilver@umich.edu\n",
      "From zqian@umich.edu Fri Jan  4 11:11:03 2008\n",
      "From: zqian@umich.edu\n",
      "From gsilver@umich.edu Fri Jan  4 11:10:22 2008\n",
      "From: gsilver@umich.edu\n",
      "From wagnermr@iupui.edu Fri Jan  4 10:38:42 2008\n",
      "From: wagnermr@iupui.edu\n",
      "From zqian@umich.edu Fri Jan  4 10:17:43 2008\n",
      "From: zqian@umich.edu\n",
      "From antranig@caret.cam.ac.uk Fri Jan  4 10:04:14 2008\n",
      "From: antranig@caret.cam.ac.uk\n",
      "From gopal.ramasammycook@gmail.com Fri Jan  4 09:05:31 2008\n",
      "From: gopal.ramasammycook@gmail.com\n",
      "From david.horwitz@uct.ac.za Fri Jan  4 07:02:32 2008\n",
      "From: david.horwitz@uct.ac.za\n",
      "From david.horwitz@uct.ac.za Fri Jan  4 06:08:27 2008\n",
      "From: david.horwitz@uct.ac.za\n",
      "From david.horwitz@uct.ac.za Fri Jan  4 04:49:08 2008\n",
      "From: david.horwitz@uct.ac.za\n",
      "From david.horwitz@uct.ac.za Fri Jan  4 04:33:44 2008\n",
      "From: david.horwitz@uct.ac.za\n",
      "From stephen.marquard@uct.ac.za Fri Jan  4 04:07:34 2008\n",
      "From: stephen.marquard@uct.ac.za\n",
      "From louis@media.berkeley.edu Thu Jan  3 19:51:21 2008\n",
      "From: louis@media.berkeley.edu\n",
      "From louis@media.berkeley.edu Thu Jan  3 17:18:23 2008\n",
      "From: louis@media.berkeley.edu\n",
      "From ray@media.berkeley.edu Thu Jan  3 17:07:00 2008\n",
      "From: ray@media.berkeley.edu\n",
      "From cwen@iupui.edu Thu Jan  3 16:34:40 2008\n",
      "From: cwen@iupui.edu\n",
      "From cwen@iupui.edu Thu Jan  3 16:29:07 2008\n",
      "From: cwen@iupui.edu\n",
      "From cwen@iupui.edu Thu Jan  3 16:23:48 2008\n",
      "From: cwen@iupui.edu\n"
     ]
    }
   ],
   "source": [
    "# We modify the code above to give us a slightly modified search for words that start with 'F'\n",
    "hand = open('mbox-short.txt')\n",
    "for line in hand:\n",
    "    line = line.rstrip()\n",
    "    if re.search('^F.', line ) : # we add the '.' regular expression\n",
    "        # the carrot '^' indicates that the search is for the first character of the string                     \n",
    "        print(line)"
   ]
  },
  {
   "cell_type": "code",
   "execution_count": 43,
   "metadata": {},
   "outputs": [
    {
     "name": "stdout",
     "output_type": "stream",
     "text": [
      "X-Sieve: CMU Sieve 2.3\n",
      "X-Authentication-Warning: nakamura.uits.iupui.edu: apache set sender to stephen.marquard@uct.ac.za using -f\n",
      "X-Content-Type-Outer-Envelope: text/plain; charset=UTF-8\n",
      "X-Content-Type-Message-Body: text/plain; charset=UTF-8\n",
      "X-DSPAM-Result: Innocent\n",
      "X-DSPAM-Processed: Sat Jan  5 09:14:16 2008\n",
      "X-DSPAM-Confidence: 0.8475\n",
      "X-DSPAM-Probability: 0.0000\n",
      "X-Sieve: CMU Sieve 2.3\n",
      "X-Authentication-Warning: nakamura.uits.iupui.edu: apache set sender to louis@media.berkeley.edu using -f\n",
      "X-Content-Type-Outer-Envelope: text/plain; charset=UTF-8\n",
      "X-Content-Type-Message-Body: text/plain; charset=UTF-8\n",
      "X-DSPAM-Result: Innocent\n",
      "X-DSPAM-Processed: Fri Jan  4 18:10:48 2008\n",
      "X-DSPAM-Confidence: 0.6178\n",
      "X-DSPAM-Probability: 0.0000\n",
      "X-Sieve: CMU Sieve 2.3\n",
      "X-Authentication-Warning: nakamura.uits.iupui.edu: apache set sender to zqian@umich.edu using -f\n",
      "X-Content-Type-Outer-Envelope: text/plain; charset=UTF-8\n",
      "X-Content-Type-Message-Body: text/plain; charset=UTF-8\n",
      "X-DSPAM-Result: Innocent\n",
      "X-DSPAM-Processed: Fri Jan  4 16:10:39 2008\n",
      "X-DSPAM-Confidence: 0.6961\n",
      "X-DSPAM-Probability: 0.0000\n",
      "X-Sieve: CMU Sieve 2.3\n",
      "X-Authentication-Warning: nakamura.uits.iupui.edu: apache set sender to rjlowe@iupui.edu using -f\n",
      "X-Content-Type-Outer-Envelope: text/plain; charset=UTF-8\n",
      "X-Content-Type-Message-Body: text/plain; charset=UTF-8\n",
      "X-DSPAM-Result: Innocent\n",
      "X-DSPAM-Processed: Fri Jan  4 15:46:24 2008\n",
      "X-DSPAM-Confidence: 0.7565\n",
      "X-DSPAM-Probability: 0.0000\n",
      "X-Sieve: CMU Sieve 2.3\n",
      "X-Authentication-Warning: nakamura.uits.iupui.edu: apache set sender to zqian@umich.edu using -f\n",
      "X-Content-Type-Outer-Envelope: text/plain; charset=UTF-8\n",
      "X-Content-Type-Message-Body: text/plain; charset=UTF-8\n",
      "X-DSPAM-Result: Innocent\n",
      "X-DSPAM-Processed: Fri Jan  4 15:03:18 2008\n",
      "X-DSPAM-Confidence: 0.7626\n",
      "X-DSPAM-Probability: 0.0000\n",
      "X-Sieve: CMU Sieve 2.3\n",
      "X-Authentication-Warning: nakamura.uits.iupui.edu: apache set sender to rjlowe@iupui.edu using -f\n",
      "X-Content-Type-Outer-Envelope: text/plain; charset=UTF-8\n",
      "X-Content-Type-Message-Body: text/plain; charset=UTF-8\n",
      "X-DSPAM-Result: Innocent\n",
      "X-DSPAM-Processed: Fri Jan  4 14:50:18 2008\n",
      "X-DSPAM-Confidence: 0.7556\n",
      "X-DSPAM-Probability: 0.0000\n",
      "X-Sieve: CMU Sieve 2.3\n",
      "X-Authentication-Warning: nakamura.uits.iupui.edu: apache set sender to cwen@iupui.edu using -f\n",
      "X-Content-Type-Outer-Envelope: text/plain; charset=UTF-8\n",
      "X-Content-Type-Message-Body: text/plain; charset=UTF-8\n",
      "X-DSPAM-Result: Innocent\n",
      "X-DSPAM-Processed: Fri Jan  4 11:37:30 2008\n",
      "X-DSPAM-Confidence: 0.7002\n",
      "X-DSPAM-Probability: 0.0000\n",
      "X-Sieve: CMU Sieve 2.3\n",
      "X-Authentication-Warning: nakamura.uits.iupui.edu: apache set sender to cwen@iupui.edu using -f\n",
      "X-Content-Type-Outer-Envelope: text/plain; charset=UTF-8\n",
      "X-Content-Type-Message-Body: text/plain; charset=UTF-8\n",
      "X-DSPAM-Result: Innocent\n",
      "X-DSPAM-Processed: Fri Jan  4 11:35:08 2008\n",
      "X-DSPAM-Confidence: 0.7615\n",
      "X-DSPAM-Probability: 0.0000\n",
      "X-Sieve: CMU Sieve 2.3\n",
      "X-Authentication-Warning: nakamura.uits.iupui.edu: apache set sender to gsilver@umich.edu using -f\n",
      "X-Content-Type-Outer-Envelope: text/plain; charset=UTF-8\n",
      "X-Content-Type-Message-Body: text/plain; charset=UTF-8\n",
      "X-DSPAM-Result: Innocent\n",
      "X-DSPAM-Processed: Fri Jan  4 11:12:37 2008\n",
      "X-DSPAM-Confidence: 0.7601\n",
      "X-DSPAM-Probability: 0.0000\n",
      "X-Sieve: CMU Sieve 2.3\n",
      "X-Authentication-Warning: nakamura.uits.iupui.edu: apache set sender to gsilver@umich.edu using -f\n",
      "X-Content-Type-Outer-Envelope: text/plain; charset=UTF-8\n",
      "X-Content-Type-Message-Body: text/plain; charset=UTF-8\n",
      "X-DSPAM-Result: Innocent\n",
      "X-DSPAM-Processed: Fri Jan  4 11:11:52 2008\n",
      "X-DSPAM-Confidence: 0.7605\n",
      "X-DSPAM-Probability: 0.0000\n",
      "X-Sieve: CMU Sieve 2.3\n",
      "X-Authentication-Warning: nakamura.uits.iupui.edu: apache set sender to zqian@umich.edu using -f\n",
      "X-Content-Type-Outer-Envelope: text/plain; charset=UTF-8\n",
      "X-Content-Type-Message-Body: text/plain; charset=UTF-8\n",
      "X-DSPAM-Result: Innocent\n",
      "X-DSPAM-Processed: Fri Jan  4 11:11:03 2008\n",
      "X-DSPAM-Confidence: 0.6959\n",
      "X-DSPAM-Probability: 0.0000\n",
      "X-Sieve: CMU Sieve 2.3\n",
      "X-Authentication-Warning: nakamura.uits.iupui.edu: apache set sender to gsilver@umich.edu using -f\n",
      "X-Content-Type-Outer-Envelope: text/plain; charset=UTF-8\n",
      "X-Content-Type-Message-Body: text/plain; charset=UTF-8\n",
      "X-DSPAM-Result: Innocent\n",
      "X-DSPAM-Processed: Fri Jan  4 11:10:22 2008\n",
      "X-DSPAM-Confidence: 0.7606\n",
      "X-DSPAM-Probability: 0.0000\n",
      "X-Sieve: CMU Sieve 2.3\n",
      "X-Authentication-Warning: nakamura.uits.iupui.edu: apache set sender to wagnermr@iupui.edu using -f\n",
      "X-Content-Type-Outer-Envelope: text/plain; charset=UTF-8\n",
      "X-Content-Type-Message-Body: text/plain; charset=UTF-8\n",
      "X-DSPAM-Result: Innocent\n",
      "X-DSPAM-Processed: Fri Jan  4 10:38:42 2008\n",
      "X-DSPAM-Confidence: 0.7559\n",
      "X-DSPAM-Probability: 0.0000\n",
      "X-Sieve: CMU Sieve 2.3\n",
      "X-Authentication-Warning: nakamura.uits.iupui.edu: apache set sender to zqian@umich.edu using -f\n",
      "X-Content-Type-Outer-Envelope: text/plain; charset=UTF-8\n",
      "X-Content-Type-Message-Body: text/plain; charset=UTF-8\n",
      "X-DSPAM-Result: Innocent\n",
      "X-DSPAM-Processed: Fri Jan  4 10:17:42 2008\n",
      "X-DSPAM-Confidence: 0.7605\n",
      "X-DSPAM-Probability: 0.0000\n",
      "X-Sieve: CMU Sieve 2.3\n",
      "X-Authentication-Warning: nakamura.uits.iupui.edu: apache set sender to antranig@caret.cam.ac.uk using -f\n",
      "X-Content-Type-Outer-Envelope: text/plain; charset=UTF-8\n",
      "X-Content-Type-Message-Body: text/plain; charset=UTF-8\n",
      "X-DSPAM-Result: Innocent\n",
      "X-DSPAM-Processed: Fri Jan  4 10:04:14 2008\n",
      "X-DSPAM-Confidence: 0.6932\n",
      "X-DSPAM-Probability: 0.0000\n",
      "X-Sieve: CMU Sieve 2.3\n",
      "X-Authentication-Warning: nakamura.uits.iupui.edu: apache set sender to gopal.ramasammycook@gmail.com using -f\n",
      "X-Content-Type-Outer-Envelope: text/plain; charset=UTF-8\n",
      "X-Content-Type-Message-Body: text/plain; charset=UTF-8\n",
      "X-DSPAM-Result: Innocent\n",
      "X-DSPAM-Processed: Fri Jan  4 09:05:31 2008\n",
      "X-DSPAM-Confidence: 0.7558\n",
      "X-DSPAM-Probability: 0.0000\n",
      "X-Sieve: CMU Sieve 2.3\n",
      "X-Authentication-Warning: nakamura.uits.iupui.edu: apache set sender to david.horwitz@uct.ac.za using -f\n",
      "X-Content-Type-Outer-Envelope: text/plain; charset=UTF-8\n",
      "X-Content-Type-Message-Body: text/plain; charset=UTF-8\n",
      "X-DSPAM-Result: Innocent\n",
      "X-DSPAM-Processed: Fri Jan  4 07:02:32 2008\n",
      "X-DSPAM-Confidence: 0.6526\n",
      "X-DSPAM-Probability: 0.0000\n",
      "X-Sieve: CMU Sieve 2.3\n",
      "X-Authentication-Warning: nakamura.uits.iupui.edu: apache set sender to david.horwitz@uct.ac.za using -f\n",
      "X-Content-Type-Outer-Envelope: text/plain; charset=UTF-8\n",
      "X-Content-Type-Message-Body: text/plain; charset=UTF-8\n",
      "X-DSPAM-Result: Innocent\n",
      "X-DSPAM-Processed: Fri Jan  4 06:08:27 2008\n",
      "X-DSPAM-Confidence: 0.6948\n",
      "X-DSPAM-Probability: 0.0000\n",
      "X-Sieve: CMU Sieve 2.3\n",
      "X-Authentication-Warning: nakamura.uits.iupui.edu: apache set sender to david.horwitz@uct.ac.za using -f\n",
      "X-Content-Type-Outer-Envelope: text/plain; charset=UTF-8\n",
      "X-Content-Type-Message-Body: text/plain; charset=UTF-8\n",
      "X-DSPAM-Result: Innocent\n",
      "X-DSPAM-Processed: Fri Jan  4 04:49:08 2008\n",
      "X-DSPAM-Confidence: 0.6528\n",
      "X-DSPAM-Probability: 0.0000\n",
      "X-Sieve: CMU Sieve 2.3\n",
      "X-Authentication-Warning: nakamura.uits.iupui.edu: apache set sender to david.horwitz@uct.ac.za using -f\n",
      "X-Content-Type-Outer-Envelope: text/plain; charset=UTF-8\n",
      "X-Content-Type-Message-Body: text/plain; charset=UTF-8\n",
      "X-DSPAM-Result: Innocent\n",
      "X-DSPAM-Processed: Fri Jan  4 04:33:44 2008\n",
      "X-DSPAM-Confidence: 0.7002\n",
      "X-DSPAM-Probability: 0.0000\n",
      "X-Sieve: CMU Sieve 2.3\n",
      "X-Authentication-Warning: nakamura.uits.iupui.edu: apache set sender to stephen.marquard@uct.ac.za using -f\n",
      "X-Content-Type-Outer-Envelope: text/plain; charset=UTF-8\n",
      "X-Content-Type-Message-Body: text/plain; charset=UTF-8\n",
      "X-DSPAM-Result: Innocent\n",
      "X-DSPAM-Processed: Fri Jan  4 04:07:34 2008\n",
      "X-DSPAM-Confidence: 0.7554\n",
      "X-DSPAM-Probability: 0.0000\n",
      "X-Sieve: CMU Sieve 2.3\n",
      "X-Authentication-Warning: nakamura.uits.iupui.edu: apache set sender to louis@media.berkeley.edu using -f\n",
      "X-Content-Type-Outer-Envelope: text/plain; charset=UTF-8\n",
      "X-Content-Type-Message-Body: text/plain; charset=UTF-8\n",
      "X-DSPAM-Result: Innocent\n",
      "X-DSPAM-Processed: Thu Jan  3 19:51:20 2008\n",
      "X-DSPAM-Confidence: 0.6956\n",
      "X-DSPAM-Probability: 0.0000\n",
      "X-Sieve: CMU Sieve 2.3\n",
      "X-Authentication-Warning: nakamura.uits.iupui.edu: apache set sender to louis@media.berkeley.edu using -f\n",
      "X-Content-Type-Outer-Envelope: text/plain; charset=UTF-8\n",
      "X-Content-Type-Message-Body: text/plain; charset=UTF-8\n",
      "X-DSPAM-Result: Innocent\n",
      "X-DSPAM-Processed: Thu Jan  3 17:18:23 2008\n",
      "X-DSPAM-Confidence: 0.6959\n",
      "X-DSPAM-Probability: 0.0000\n",
      "X-Sieve: CMU Sieve 2.3\n",
      "X-Authentication-Warning: nakamura.uits.iupui.edu: apache set sender to ray@media.berkeley.edu using -f\n",
      "X-Content-Type-Outer-Envelope: text/plain; charset=UTF-8\n",
      "X-Content-Type-Message-Body: text/plain; charset=UTF-8\n",
      "X-DSPAM-Result: Innocent\n",
      "X-DSPAM-Processed: Thu Jan  3 17:07:00 2008\n",
      "X-DSPAM-Confidence: 0.7556\n",
      "X-DSPAM-Probability: 0.0000\n",
      "X-Sieve: CMU Sieve 2.3\n",
      "X-Authentication-Warning: nakamura.uits.iupui.edu: apache set sender to cwen@iupui.edu using -f\n",
      "X-Content-Type-Outer-Envelope: text/plain; charset=UTF-8\n",
      "X-Content-Type-Message-Body: text/plain; charset=UTF-8\n",
      "X-DSPAM-Result: Innocent\n",
      "X-DSPAM-Processed: Thu Jan  3 16:34:40 2008\n",
      "X-DSPAM-Confidence: 0.9846\n",
      "X-DSPAM-Probability: 0.0000\n",
      "X-Sieve: CMU Sieve 2.3\n",
      "X-Authentication-Warning: nakamura.uits.iupui.edu: apache set sender to cwen@iupui.edu using -f\n",
      "X-Content-Type-Outer-Envelope: text/plain; charset=UTF-8\n",
      "X-Content-Type-Message-Body: text/plain; charset=UTF-8\n",
      "X-DSPAM-Result: Innocent\n",
      "X-DSPAM-Processed: Thu Jan  3 16:29:07 2008\n",
      "X-DSPAM-Confidence: 0.8509\n",
      "X-DSPAM-Probability: 0.0000\n",
      "X-Sieve: CMU Sieve 2.3\n",
      "X-Authentication-Warning: nakamura.uits.iupui.edu: apache set sender to cwen@iupui.edu using -f\n",
      "X-Content-Type-Outer-Envelope: text/plain; charset=UTF-8\n",
      "X-Content-Type-Message-Body: text/plain; charset=UTF-8\n",
      "X-DSPAM-Result: Innocent\n",
      "X-DSPAM-Processed: Thu Jan  3 16:23:48 2008\n",
      "X-DSPAM-Confidence: 0.9907\n",
      "X-DSPAM-Probability: 0.0000\n"
     ]
    }
   ],
   "source": [
    "# Here is a nother example using a few more regular expressions\n",
    "hand = open('mbox-short.txt')\n",
    "for line in hand:\n",
    "    line = line.rstrip()\n",
    "    if re.search('^X-\\S+:', line ) : \n",
    "        # '^' Matches the beginning of a line\n",
    "        # '\\S' Matches any non-whitespace character\n",
    "        # '+' Repeats a character one or more times\n",
    "        print(line)"
   ]
  },
  {
   "cell_type": "markdown",
   "metadata": {},
   "source": [
    "# Data Extraction with regular Expressions"
   ]
  },
  {
   "cell_type": "markdown",
   "metadata": {},
   "source": [
    "Here is a simple example using the re.findall() expression and the \"[ ]\" brakets"
   ]
  },
  {
   "cell_type": "code",
   "execution_count": 1,
   "metadata": {},
   "outputs": [
    {
     "name": "stdout",
     "output_type": "stream",
     "text": [
      "['2', '1', '9', '4', '2']\n"
     ]
    }
   ],
   "source": [
    "# this code uses the re.findall() method with the [0-9] regular expression\n",
    "import re\n",
    "x = \"My 2 favorite numbers are 19 and 42\"\n",
    "y = re.findall('[0-9]', x)\n",
    "print(y)\n",
    "## note it returns all the numbers as unique digits"
   ]
  },
  {
   "cell_type": "code",
   "execution_count": 2,
   "metadata": {},
   "outputs": [
    {
     "name": "stdout",
     "output_type": "stream",
     "text": [
      "['2', '19', '42']\n"
     ]
    }
   ],
   "source": [
    "# adding the '+' regular expression accounts for repeating characters\n",
    "import re\n",
    "x = \"My 2 favorite numbers are 19 and 42\"\n",
    "y = re.findall('[0-9]+', x)\n",
    "print(y)\n",
    "## adding that plus sign made the findall() search more accurate as it looks for repeats"
   ]
  },
  {
   "cell_type": "code",
   "execution_count": 3,
   "metadata": {},
   "outputs": [
    {
     "name": "stdout",
     "output_type": "stream",
     "text": [
      "[]\n"
     ]
    }
   ],
   "source": [
    "# Now we try the same findall() search for uppercase vowels\n",
    "import re\n",
    "x = \"My 2 favorite numbers are 19 and 42\"\n",
    "y = re.findall('[AEIOU]+', x)\n",
    "print(y)\n",
    "## it is empty as it should be (no uppercase vowels)"
   ]
  },
  {
   "cell_type": "code",
   "execution_count": 4,
   "metadata": {},
   "outputs": [
    {
     "name": "stdout",
     "output_type": "stream",
     "text": [
      "['a', 'o', 'i', 'e', 'u', 'e', 'a', 'e', 'a']\n"
     ]
    }
   ],
   "source": [
    "# Lets try it with lowercase values \n",
    "import re\n",
    "x = \"My 2 favorite numbers are 19 and 42\"\n",
    "y = re.findall('[AEIOU]+'.lower(), x)\n",
    "print(y)\n",
    "# here we got a list of lowercase vowels as that is what we searched for"
   ]
  },
  {
   "cell_type": "markdown",
   "metadata": {},
   "source": [
    "Be aware of \"Greedy\" Matching: That is after the ending specified point of the string\n",
    "The match keeps going to get the last seen matching character (basically returns the most number of strings)"
   ]
  },
  {
   "cell_type": "code",
   "execution_count": 5,
   "metadata": {},
   "outputs": [
    {
     "name": "stdout",
     "output_type": "stream",
     "text": [
      "['From: Using the :']\n"
     ]
    }
   ],
   "source": [
    "# here is an example where greedy matching is on\n",
    "import re\n",
    "x = 'From: Using the : character'\n",
    "y = re.findall('^F.+:',x)\n",
    "print(y)"
   ]
  },
  {
   "cell_type": "code",
   "execution_count": 6,
   "metadata": {},
   "outputs": [
    {
     "name": "stdout",
     "output_type": "stream",
     "text": [
      "['From:']\n"
     ]
    }
   ],
   "source": [
    "# here is an example where we suppress greedy matching\n",
    "## notice it stops after the first ':' it is not \"Greedy\"\n",
    "import re\n",
    "x = 'From: Using the : character'\n",
    "y = re.findall('^F.+?:',x)\n",
    "print(y)"
   ]
  },
  {
   "cell_type": "markdown",
   "metadata": {},
   "source": [
    "We can also refine our search and extraction of emails from the emails data"
   ]
  },
  {
   "cell_type": "code",
   "execution_count": 8,
   "metadata": {},
   "outputs": [
    {
     "name": "stdout",
     "output_type": "stream",
     "text": [
      "['stephen.marquard@uct.ac.za']\n",
      "['<postmaster@collab.sakaiproject.org>']\n",
      "['<200801051412.m05ECIaH010327@nakamura.uits.iupui.edu>']\n",
      "['<source@collab.sakaiproject.org>;']\n",
      "['<source@collab.sakaiproject.org>;']\n",
      "['<source@collab.sakaiproject.org>;']\n",
      "['apache@localhost)']\n",
      "['source@collab.sakaiproject.org;']\n",
      "['stephen.marquard@uct.ac.za']\n",
      "['source@collab.sakaiproject.org']\n",
      "['stephen.marquard@uct.ac.za']\n",
      "['stephen.marquard@uct.ac.za']\n",
      "['louis@media.berkeley.edu']\n",
      "['<postmaster@collab.sakaiproject.org>']\n",
      "['<200801042308.m04N8v6O008125@nakamura.uits.iupui.edu>']\n",
      "['<source@collab.sakaiproject.org>;']\n",
      "['<source@collab.sakaiproject.org>;']\n",
      "['<source@collab.sakaiproject.org>;']\n",
      "['apache@localhost)']\n",
      "['source@collab.sakaiproject.org;']\n",
      "['louis@media.berkeley.edu']\n",
      "['source@collab.sakaiproject.org']\n",
      "['louis@media.berkeley.edu']\n",
      "['louis@media.berkeley.edu']\n",
      "['zqian@umich.edu']\n",
      "['<postmaster@collab.sakaiproject.org>']\n",
      "['<200801042109.m04L92hb007923@nakamura.uits.iupui.edu>']\n",
      "['<source@collab.sakaiproject.org>;']\n",
      "['<source@collab.sakaiproject.org>;']\n",
      "['<source@collab.sakaiproject.org>;']\n",
      "['apache@localhost)']\n",
      "['source@collab.sakaiproject.org;']\n",
      "['zqian@umich.edu']\n",
      "['source@collab.sakaiproject.org']\n",
      "['zqian@umich.edu']\n",
      "['zqian@umich.edu']\n",
      "['rjlowe@iupui.edu']\n",
      "['<postmaster@collab.sakaiproject.org>']\n",
      "['<200801042044.m04Kiem3007881@nakamura.uits.iupui.edu>']\n",
      "['<source@collab.sakaiproject.org>;']\n",
      "['<source@collab.sakaiproject.org>;']\n",
      "['<source@collab.sakaiproject.org>;']\n",
      "['apache@localhost)']\n",
      "['source@collab.sakaiproject.org;']\n",
      "['rjlowe@iupui.edu']\n",
      "['source@collab.sakaiproject.org']\n",
      "['rjlowe@iupui.edu']\n",
      "['rjlowe@iupui.edu']\n",
      "['zqian@umich.edu']\n",
      "['<postmaster@collab.sakaiproject.org>']\n",
      "['<200801042001.m04K1cO0007738@nakamura.uits.iupui.edu>']\n",
      "['<source@collab.sakaiproject.org>;']\n",
      "['<source@collab.sakaiproject.org>;']\n",
      "['<source@collab.sakaiproject.org>;']\n",
      "['apache@localhost)']\n",
      "['source@collab.sakaiproject.org;']\n",
      "['zqian@umich.edu']\n",
      "['source@collab.sakaiproject.org']\n",
      "['zqian@umich.edu']\n",
      "['zqian@umich.edu']\n",
      "['zqian@umich.edu']\n",
      "['rjlowe@iupui.edu']\n",
      "['<postmaster@collab.sakaiproject.org>']\n",
      "['<200801041948.m04JmdwO007705@nakamura.uits.iupui.edu>']\n",
      "['<source@collab.sakaiproject.org>;']\n",
      "['<source@collab.sakaiproject.org>;']\n",
      "['<source@collab.sakaiproject.org>;']\n",
      "['apache@localhost)']\n",
      "['source@collab.sakaiproject.org;']\n",
      "['rjlowe@iupui.edu']\n",
      "['source@collab.sakaiproject.org']\n",
      "['rjlowe@iupui.edu']\n",
      "['rjlowe@iupui.edu']\n",
      "['cwen@iupui.edu']\n",
      "['<postmaster@collab.sakaiproject.org>']\n",
      "['<200801041635.m04GZQGZ007313@nakamura.uits.iupui.edu>']\n",
      "['<source@collab.sakaiproject.org>;']\n",
      "['<source@collab.sakaiproject.org>;']\n",
      "['<source@collab.sakaiproject.org>;']\n",
      "['apache@localhost)']\n",
      "['source@collab.sakaiproject.org;']\n",
      "['cwen@iupui.edu']\n",
      "['source@collab.sakaiproject.org']\n",
      "['cwen@iupui.edu']\n",
      "['cwen@iupui.edu']\n",
      "['hu2@iupui.edu']\n",
      "['cwen@iupui.edu']\n",
      "['<postmaster@collab.sakaiproject.org>']\n",
      "['<200801041633.m04GX6eG007292@nakamura.uits.iupui.edu>']\n",
      "['<source@collab.sakaiproject.org>;']\n",
      "['<source@collab.sakaiproject.org>;']\n",
      "['<source@collab.sakaiproject.org>;']\n",
      "['apache@localhost)']\n",
      "['source@collab.sakaiproject.org;']\n",
      "['cwen@iupui.edu']\n",
      "['source@collab.sakaiproject.org']\n",
      "['cwen@iupui.edu']\n",
      "['cwen@iupui.edu']\n",
      "['hu2@iupui.edu']\n",
      "['gsilver@umich.edu']\n",
      "['<postmaster@collab.sakaiproject.org>']\n",
      "['<200801041611.m04GB1Lb007221@nakamura.uits.iupui.edu>']\n",
      "['<source@collab.sakaiproject.org>;']\n",
      "['<source@collab.sakaiproject.org>;']\n",
      "['<source@collab.sakaiproject.org>;']\n",
      "['apache@localhost)']\n",
      "['source@collab.sakaiproject.org;']\n",
      "['gsilver@umich.edu']\n",
      "['source@collab.sakaiproject.org']\n",
      "['gsilver@umich.edu']\n",
      "['gsilver@umich.edu']\n",
      "['gsilver@umich.edu']\n",
      "['<postmaster@collab.sakaiproject.org>']\n",
      "['<200801041610.m04GA5KP007209@nakamura.uits.iupui.edu>']\n",
      "['<source@collab.sakaiproject.org>;']\n",
      "['<source@collab.sakaiproject.org>;']\n",
      "['<source@collab.sakaiproject.org>;']\n",
      "['apache@localhost)']\n",
      "['source@collab.sakaiproject.org;']\n",
      "['gsilver@umich.edu']\n",
      "['source@collab.sakaiproject.org']\n",
      "['gsilver@umich.edu']\n",
      "['gsilver@umich.edu']\n",
      "['zqian@umich.edu']\n",
      "['<postmaster@collab.sakaiproject.org>']\n",
      "['<200801041609.m04G9EuX007197@nakamura.uits.iupui.edu>']\n",
      "['<source@collab.sakaiproject.org>;']\n",
      "['<source@collab.sakaiproject.org>;']\n",
      "['<source@collab.sakaiproject.org>;']\n",
      "['apache@localhost)']\n",
      "['source@collab.sakaiproject.org;']\n",
      "['zqian@umich.edu']\n",
      "['source@collab.sakaiproject.org']\n",
      "['zqian@umich.edu']\n",
      "['zqian@umich.edu']\n",
      "['gsilver@umich.edu']\n",
      "['<postmaster@collab.sakaiproject.org>']\n",
      "['<200801041608.m04G8d7w007184@nakamura.uits.iupui.edu>']\n",
      "['<source@collab.sakaiproject.org>;']\n",
      "['<source@collab.sakaiproject.org>;']\n",
      "['<source@collab.sakaiproject.org>;']\n",
      "['apache@localhost)']\n",
      "['source@collab.sakaiproject.org;']\n",
      "['gsilver@umich.edu']\n",
      "['source@collab.sakaiproject.org']\n",
      "['gsilver@umich.edu']\n",
      "['gsilver@umich.edu']\n",
      "['wagnermr@iupui.edu']\n",
      "['<postmaster@collab.sakaiproject.org>']\n",
      "['<200801041537.m04Fb6Ci007092@nakamura.uits.iupui.edu>']\n",
      "['<source@collab.sakaiproject.org>;']\n",
      "['<source@collab.sakaiproject.org>;']\n",
      "['<source@collab.sakaiproject.org>;']\n",
      "['apache@localhost)']\n",
      "['source@collab.sakaiproject.org;']\n",
      "['wagnermr@iupui.edu']\n",
      "['source@collab.sakaiproject.org']\n",
      "['wagnermr@iupui.edu']\n",
      "['wagnermr@iupui.edu']\n",
      "['zqian@umich.edu']\n",
      "['<postmaster@collab.sakaiproject.org>']\n",
      "['<200801041515.m04FFv42007050@nakamura.uits.iupui.edu>']\n",
      "['<source@collab.sakaiproject.org>;']\n",
      "['<source@collab.sakaiproject.org>;']\n",
      "['<source@collab.sakaiproject.org>;']\n",
      "['apache@localhost)']\n",
      "['source@collab.sakaiproject.org;']\n",
      "['zqian@umich.edu']\n",
      "['source@collab.sakaiproject.org']\n",
      "['zqian@umich.edu']\n",
      "['zqian@umich.edu']\n",
      "['antranig@caret.cam.ac.uk']\n",
      "['<postmaster@collab.sakaiproject.org>']\n",
      "['<200801041502.m04F21Jo007031@nakamura.uits.iupui.edu>']\n",
      "['<source@collab.sakaiproject.org>;']\n",
      "['<source@collab.sakaiproject.org>;']\n",
      "['<source@collab.sakaiproject.org>;']\n",
      "['apache@localhost)']\n",
      "['source@collab.sakaiproject.org;']\n",
      "['antranig@caret.cam.ac.uk']\n",
      "['source@collab.sakaiproject.org']\n",
      "['antranig@caret.cam.ac.uk']\n",
      "['antranig@caret.cam.ac.uk']\n",
      "['gopal.ramasammycook@gmail.com']\n",
      "['<postmaster@collab.sakaiproject.org>']\n",
      "['<200801041403.m04E3psW006926@nakamura.uits.iupui.edu>']\n",
      "['<source@collab.sakaiproject.org>;']\n",
      "['<source@collab.sakaiproject.org>;']\n",
      "['<source@collab.sakaiproject.org>;']\n",
      "['apache@localhost)']\n",
      "['source@collab.sakaiproject.org;']\n",
      "['gopal.ramasammycook@gmail.com']\n",
      "['source@collab.sakaiproject.org']\n",
      "['gopal.ramasammycook@gmail.com']\n",
      "['gopal.ramasammycook@gmail.com']\n",
      "['david.horwitz@uct.ac.za']\n",
      "['<postmaster@collab.sakaiproject.org>']\n",
      "['<200801041200.m04C0gfK006793@nakamura.uits.iupui.edu>']\n",
      "['<source@collab.sakaiproject.org>;']\n",
      "['<source@collab.sakaiproject.org>;']\n",
      "['<source@collab.sakaiproject.org>;']\n",
      "['apache@localhost)']\n",
      "['source@collab.sakaiproject.org;']\n",
      "['david.horwitz@uct.ac.za']\n",
      "['source@collab.sakaiproject.org']\n",
      "['david.horwitz@uct.ac.za']\n",
      "['david.horwitz@uct.ac.za']\n",
      "['david.horwitz@uct.ac.za']\n",
      "['dhorwitz@david-horwitz-6:~/branchManagemnt/sakai_2-5-x>']\n",
      "['dhorwitz@david-horwitz-6:~/branchManagemnt/sakai_2-5-x>']\n",
      "['david.horwitz@uct.ac.za']\n",
      "['<postmaster@collab.sakaiproject.org>']\n",
      "['<200801041106.m04B6lK3006677@nakamura.uits.iupui.edu>']\n",
      "['<source@collab.sakaiproject.org>;']\n",
      "['<source@collab.sakaiproject.org>;']\n",
      "['<source@collab.sakaiproject.org>;']\n",
      "['apache@localhost)']\n",
      "['source@collab.sakaiproject.org;']\n",
      "['david.horwitz@uct.ac.za']\n",
      "['source@collab.sakaiproject.org']\n",
      "['david.horwitz@uct.ac.za']\n",
      "['david.horwitz@uct.ac.za']\n",
      "['david.horwitz@uct.ac.za']\n",
      "['<postmaster@collab.sakaiproject.org>']\n",
      "['<200801040947.m049lUxo006517@nakamura.uits.iupui.edu>']\n",
      "['<source@collab.sakaiproject.org>;']\n",
      "['<source@collab.sakaiproject.org>;']\n",
      "['<source@collab.sakaiproject.org>;']\n",
      "['apache@localhost)']\n",
      "['source@collab.sakaiproject.org;']\n",
      "['david.horwitz@uct.ac.za']\n",
      "['source@collab.sakaiproject.org']\n",
      "['david.horwitz@uct.ac.za']\n",
      "['david.horwitz@uct.ac.za']\n",
      "['josrodri@iupui.edu']\n",
      "['dhorwitz@david-horwitz-6:~/branchManagemnt/sakai_2-5-x>']\n",
      "['david.horwitz@uct.ac.za']\n",
      "['<postmaster@collab.sakaiproject.org>']\n",
      "['<200801040932.m049W2i5006493@nakamura.uits.iupui.edu>']\n",
      "['<source@collab.sakaiproject.org>;']\n",
      "['<source@collab.sakaiproject.org>;']\n",
      "['<source@collab.sakaiproject.org>;']\n",
      "['apache@localhost)']\n",
      "['source@collab.sakaiproject.org;']\n",
      "['david.horwitz@uct.ac.za']\n",
      "['source@collab.sakaiproject.org']\n",
      "['david.horwitz@uct.ac.za']\n",
      "['david.horwitz@uct.ac.za']\n",
      "['josrodri@iupui.edu']\n",
      "['dhorwitz@david-horwitz-6:~/branchManagemnt/sakai_2-5-x>']\n",
      "['stephen.marquard@uct.ac.za']\n",
      "['<postmaster@collab.sakaiproject.org>']\n",
      "['<200801040905.m0495rWB006420@nakamura.uits.iupui.edu>']\n",
      "['<source@collab.sakaiproject.org>;']\n",
      "['<source@collab.sakaiproject.org>;']\n",
      "['<source@collab.sakaiproject.org>;']\n",
      "['apache@localhost)']\n",
      "['source@collab.sakaiproject.org;']\n",
      "['stephen.marquard@uct.ac.za']\n",
      "['source@collab.sakaiproject.org']\n",
      "['stephen.marquard@uct.ac.za']\n",
      "['stephen.marquard@uct.ac.za']\n",
      "['louis@media.berkeley.edu']\n",
      "['<postmaster@collab.sakaiproject.org>']\n",
      "['<200801040023.m040NpCc005473@nakamura.uits.iupui.edu>']\n",
      "['<source@collab.sakaiproject.org>;']\n",
      "['<source@collab.sakaiproject.org>;']\n",
      "['<source@collab.sakaiproject.org>;']\n",
      "['apache@localhost)']\n",
      "['source@collab.sakaiproject.org;']\n",
      "['louis@media.berkeley.edu']\n",
      "['source@collab.sakaiproject.org']\n",
      "['louis@media.berkeley.edu']\n",
      "['louis@media.berkeley.edu']\n",
      "['louis@media.berkeley.edu']\n",
      "['<postmaster@collab.sakaiproject.org>']\n",
      "['<200801032216.m03MGhDa005292@nakamura.uits.iupui.edu>']\n",
      "['<source@collab.sakaiproject.org>;']\n",
      "['<source@collab.sakaiproject.org>;']\n",
      "['<source@collab.sakaiproject.org>;']\n",
      "['apache@localhost)']\n",
      "['source@collab.sakaiproject.org;']\n",
      "['louis@media.berkeley.edu']\n",
      "['source@collab.sakaiproject.org']\n",
      "['louis@media.berkeley.edu']\n",
      "['louis@media.berkeley.edu']\n",
      "['ray@media.berkeley.edu']\n",
      "['<postmaster@collab.sakaiproject.org>']\n",
      "['<200801032205.m03M5Ea7005273@nakamura.uits.iupui.edu>']\n",
      "['<source@collab.sakaiproject.org>;']\n",
      "['<source@collab.sakaiproject.org>;']\n",
      "['<source@collab.sakaiproject.org>;']\n",
      "['apache@localhost)']\n",
      "['source@collab.sakaiproject.org;']\n",
      "['ray@media.berkeley.edu']\n",
      "['source@collab.sakaiproject.org']\n",
      "['ray@media.berkeley.edu']\n",
      "['ray@media.berkeley.edu']\n",
      "['cwen@iupui.edu']\n",
      "['<postmaster@collab.sakaiproject.org>']\n",
      "['<200801032133.m03LX3gG005191@nakamura.uits.iupui.edu>']\n",
      "['<source@collab.sakaiproject.org>;']\n",
      "['<source@collab.sakaiproject.org>;']\n",
      "['<source@collab.sakaiproject.org>;']\n",
      "['apache@localhost)']\n",
      "['source@collab.sakaiproject.org;']\n",
      "['cwen@iupui.edu']\n",
      "['source@collab.sakaiproject.org']\n",
      "['cwen@iupui.edu']\n",
      "['cwen@iupui.edu']\n",
      "['cwen@iupui.edu']\n",
      "['<postmaster@collab.sakaiproject.org>']\n",
      "['<200801032127.m03LRUqH005177@nakamura.uits.iupui.edu>']\n",
      "['<source@collab.sakaiproject.org>;']\n",
      "['<source@collab.sakaiproject.org>;']\n",
      "['<source@collab.sakaiproject.org>;']\n",
      "['apache@localhost)']\n",
      "['source@collab.sakaiproject.org;']\n",
      "['cwen@iupui.edu']\n",
      "['source@collab.sakaiproject.org']\n",
      "['cwen@iupui.edu']\n",
      "['cwen@iupui.edu']\n",
      "['wagnermr@iupui.edu']\n",
      "['cwen@iupui.edu']\n",
      "['<postmaster@collab.sakaiproject.org>']\n",
      "['<200801032122.m03LMFo4005148@nakamura.uits.iupui.edu>']\n",
      "['<source@collab.sakaiproject.org>;']\n",
      "['<source@collab.sakaiproject.org>;']\n",
      "['<source@collab.sakaiproject.org>;']\n",
      "['apache@localhost)']\n",
      "['source@collab.sakaiproject.org;']\n",
      "['cwen@iupui.edu']\n",
      "['source@collab.sakaiproject.org']\n",
      "['cwen@iupui.edu']\n",
      "['cwen@iupui.edu']\n",
      "['wagnermr@iupui.edu']\n"
     ]
    }
   ],
   "source": [
    "# Here is another good example of taking out a list of emails using regular expressions\n",
    "import re\n",
    "hand = open('mbox-short.txt')\n",
    "for line in hand:\n",
    "    line = re.findall('\\S+@\\S+', line)\n",
    "    # \"\\S+\" Matches any non-whitespace character and Repeats a character one or more times\n",
    "    # @ is the actual symbol we need\n",
    "    if line != []:\n",
    "        print(line)"
   ]
  },
  {
   "cell_type": "code",
   "execution_count": 9,
   "metadata": {},
   "outputs": [
    {
     "name": "stdout",
     "output_type": "stream",
     "text": [
      "['stephen.marquard@uct.ac.za']\n",
      "['louis@media.berkeley.edu']\n",
      "['zqian@umich.edu']\n",
      "['rjlowe@iupui.edu']\n",
      "['zqian@umich.edu']\n",
      "['rjlowe@iupui.edu']\n",
      "['cwen@iupui.edu']\n",
      "['cwen@iupui.edu']\n",
      "['gsilver@umich.edu']\n",
      "['gsilver@umich.edu']\n",
      "['zqian@umich.edu']\n",
      "['gsilver@umich.edu']\n",
      "['wagnermr@iupui.edu']\n",
      "['zqian@umich.edu']\n",
      "['antranig@caret.cam.ac.uk']\n",
      "['gopal.ramasammycook@gmail.com']\n",
      "['david.horwitz@uct.ac.za']\n",
      "['david.horwitz@uct.ac.za']\n",
      "['david.horwitz@uct.ac.za']\n",
      "['david.horwitz@uct.ac.za']\n",
      "['stephen.marquard@uct.ac.za']\n",
      "['louis@media.berkeley.edu']\n",
      "['louis@media.berkeley.edu']\n",
      "['ray@media.berkeley.edu']\n",
      "['cwen@iupui.edu']\n",
      "['cwen@iupui.edu']\n",
      "['cwen@iupui.edu']\n"
     ]
    }
   ],
   "source": [
    "# This version of the code helps us get only the ones with a \"From: \" \n",
    "## This helps fine toon our regular expression search\n",
    "import re\n",
    "hand = open('mbox-short.txt')\n",
    "for line in hand:\n",
    "    line = re.findall('^From (\\S+@\\S+)', line)\n",
    "    # \"\\S+\" Matches any non-whitespace character and Repeats a character one or more times\n",
    "    # @ is the actual symbol we need\n",
    "    # '^' now lets us also search only lines with a \"From\"\n",
    "    # '(' specifies beggining of extraction\n",
    "    # ')' specified the end of the extraction\n",
    "    if line != []:\n",
    "        print(line)"
   ]
  },
  {
   "cell_type": "markdown",
   "metadata": {},
   "source": [
    "Using regular expressions to help extract the host-name of an email"
   ]
  },
  {
   "cell_type": "code",
   "execution_count": 10,
   "metadata": {},
   "outputs": [
    {
     "name": "stdout",
     "output_type": "stream",
     "text": [
      "uct.ac.za\n",
      "media.berkeley.edu\n",
      "umich.edu\n",
      "iupui.edu\n",
      "umich.edu\n",
      "iupui.edu\n",
      "iupui.edu\n",
      "iupui.edu\n",
      "umich.edu\n",
      "umich.edu\n",
      "umich.edu\n",
      "umich.edu\n",
      "iupui.edu\n",
      "umich.edu\n",
      "caret.cam.ac.uk\n",
      "gmail.com\n",
      "uct.ac.za\n",
      "uct.ac.za\n",
      "uct.ac.za\n",
      "uct.ac.za\n",
      "uct.ac.za\n",
      "media.berkeley.edu\n",
      "media.berkeley.edu\n",
      "media.berkeley.edu\n",
      "iupui.edu\n",
      "iupui.edu\n",
      "iupui.edu\n"
     ]
    }
   ],
   "source": [
    "# This is a simple way of extracting the host name using string slicing\n",
    "hand = open('mbox-short.txt')\n",
    "for line in hand:\n",
    "    if line.find('From: ') >= 0:\n",
    "        atpos = line.find('@')\n",
    "        sppos = line.find(' ', atpos)\n",
    "        host = line[atpos + 1: sppos]\n",
    "        print(host)"
   ]
  },
  {
   "cell_type": "code",
   "execution_count": 11,
   "metadata": {},
   "outputs": [
    {
     "name": "stdout",
     "output_type": "stream",
     "text": [
      "uct.ac.za\n",
      "media.berkeley.edu\n",
      "umich.edu\n",
      "iupui.edu\n",
      "umich.edu\n",
      "iupui.edu\n",
      "iupui.edu\n",
      "iupui.edu\n",
      "umich.edu\n",
      "umich.edu\n",
      "umich.edu\n",
      "umich.edu\n",
      "iupui.edu\n",
      "umich.edu\n",
      "caret.cam.ac.uk\n",
      "gmail.com\n",
      "uct.ac.za\n",
      "uct.ac.za\n",
      "uct.ac.za\n",
      "uct.ac.za\n",
      "uct.ac.za\n",
      "media.berkeley.edu\n",
      "media.berkeley.edu\n",
      "media.berkeley.edu\n",
      "iupui.edu\n",
      "iupui.edu\n",
      "iupui.edu\n"
     ]
    }
   ],
   "source": [
    "# This is how to use the double split method to extract the host names\n",
    "hand = open('mbox-short.txt')\n",
    "for line in hand:\n",
    "    if line.find('From: ') >= 0:\n",
    "        words = line.split()\n",
    "        email = words[1]\n",
    "        host = email.split('@')\n",
    "        print(host[1])"
   ]
  },
  {
   "cell_type": "code",
   "execution_count": 12,
   "metadata": {},
   "outputs": [
    {
     "name": "stdout",
     "output_type": "stream",
     "text": [
      "['uct.ac.za']\n",
      "['media.berkeley.edu']\n",
      "['umich.edu']\n",
      "['iupui.edu']\n",
      "['umich.edu']\n",
      "['iupui.edu']\n",
      "['iupui.edu']\n",
      "['iupui.edu']\n",
      "['umich.edu']\n",
      "['umich.edu']\n",
      "['umich.edu']\n",
      "['umich.edu']\n",
      "['iupui.edu']\n",
      "['umich.edu']\n",
      "['caret.cam.ac.uk']\n",
      "['gmail.com']\n",
      "['uct.ac.za']\n",
      "['uct.ac.za']\n",
      "['uct.ac.za']\n",
      "['uct.ac.za']\n",
      "['uct.ac.za']\n",
      "['media.berkeley.edu']\n",
      "['media.berkeley.edu']\n",
      "['media.berkeley.edu']\n",
      "['iupui.edu']\n",
      "['iupui.edu']\n",
      "['iupui.edu']\n"
     ]
    }
   ],
   "source": [
    "# Here is the same search as the two cells above for the host name of an email using\n",
    "## Regular Expressions\n",
    "import re\n",
    "hand = open('mbox-short.txt')\n",
    "for line in hand:\n",
    "    if line.find('From: ') >= 0:\n",
    "        line = line.strip()\n",
    "        host = re.findall('@([^ ]*)', line)\n",
    "        print(host)"
   ]
  },
  {
   "cell_type": "code",
   "execution_count": 13,
   "metadata": {},
   "outputs": [
    {
     "name": "stdout",
     "output_type": "stream",
     "text": [
      "['uct.ac.za']\n",
      "['media.berkeley.edu']\n",
      "['umich.edu']\n",
      "['iupui.edu']\n",
      "['umich.edu']\n",
      "['iupui.edu']\n",
      "['iupui.edu']\n",
      "['iupui.edu']\n",
      "['umich.edu']\n",
      "['umich.edu']\n",
      "['umich.edu']\n",
      "['umich.edu']\n",
      "['iupui.edu']\n",
      "['umich.edu']\n",
      "['caret.cam.ac.uk']\n",
      "['gmail.com']\n",
      "['uct.ac.za']\n",
      "['uct.ac.za']\n",
      "['uct.ac.za']\n",
      "['uct.ac.za']\n",
      "['uct.ac.za']\n",
      "['media.berkeley.edu']\n",
      "['media.berkeley.edu']\n",
      "['media.berkeley.edu']\n",
      "['iupui.edu']\n",
      "['iupui.edu']\n",
      "['iupui.edu']\n"
     ]
    }
   ],
   "source": [
    "# Here is another fine tuned version of the previous program\n",
    "\n",
    "import re\n",
    "hand = open('mbox-short.txt')\n",
    "for line in hand:\n",
    "        #line = line.strip()\n",
    "        host = re.findall('^From .*@([^ ]*)', line)\n",
    "        # '^From' represents the starting point with a \"From\"\n",
    "        # '.' any number of characters leading upto an @\n",
    "        # [^ ] means that that you are Matching a single character not in the listed set\n",
    "        ## Missing in this case\n",
    "        # '*' means Repeats a character zero or more times (up to)\n",
    "        if len(host) == 0:\n",
    "            pass\n",
    "        else:\n",
    "            print(host)"
   ]
  },
  {
   "cell_type": "code",
   "execution_count": 14,
   "metadata": {},
   "outputs": [
    {
     "name": "stdout",
     "output_type": "stream",
     "text": [
      "Maximum: 0.9907\n"
     ]
    }
   ],
   "source": [
    "# Here is a section of code that that counts scam emails\n",
    "import re\n",
    "hand = open('mbox-short.txt')\n",
    "numlist = list()\n",
    "for line in hand:\n",
    "    line = line.rstrip()\n",
    "    stuff = re.findall('^X-DSPAM-Confidence: ([0-9.]+)', line)\n",
    "    # print(stuff2)\n",
    "    if len(stuff) != 1: \n",
    "        continue\n",
    "    else:\n",
    "        num = float(stuff[0])\n",
    "        numlist.append(num)\n",
    "print('Maximum:',max(numlist))"
   ]
  },
  {
   "cell_type": "code",
   "execution_count": 15,
   "metadata": {},
   "outputs": [
    {
     "name": "stdout",
     "output_type": "stream",
     "text": [
      "['$10.00']\n"
     ]
    }
   ],
   "source": [
    "# Here is another example using the '\\' Regular Expression\n",
    "import re\n",
    "x = \"We just received $10.00 for cookies.\"\n",
    "y = re.findall('\\$[0-9.]+', x)\n",
    "print(y)"
   ]
  },
  {
   "cell_type": "code",
   "execution_count": 16,
   "metadata": {},
   "outputs": [
    {
     "name": "stdout",
     "output_type": "stream",
     "text": [
      "['10', '9', '8']\n"
     ]
    },
    {
     "data": {
      "text/plain": [
       "list"
      ]
     },
     "execution_count": 16,
     "metadata": {},
     "output_type": "execute_result"
    }
   ],
   "source": [
    "# Test program for abstracting items from a string\n",
    "test = \"This text is a 10 test for 9 words to regular 8 expressions.\"\n",
    "x = re.findall('[0-9]+', test) # '+' helps us get at least one or more digits\n",
    "print(x)\n",
    "type(x)"
   ]
  },
  {
   "cell_type": "code",
   "execution_count": 17,
   "metadata": {},
   "outputs": [
    {
     "name": "stdout",
     "output_type": "stream",
     "text": [
      "['From: Using the :']\n"
     ]
    }
   ],
   "source": [
    "# another example of abstracting data from a string\n",
    "x = 'From: Using the : character'\n",
    "y = re.findall('^F.+:', x)\n",
    "print(y)"
   ]
  },
  {
   "cell_type": "code",
   "execution_count": 18,
   "metadata": {},
   "outputs": [
    {
     "data": {
      "text/plain": [
       "['stephen.marquard@uct.ac.za']"
      ]
     },
     "execution_count": 18,
     "metadata": {},
     "output_type": "execute_result"
    }
   ],
   "source": [
    "# abstracting a section of an email\n",
    "line = \"From stephen.marquard@uct.ac.za Sat Jan  5 09:14:16 2008\"\n",
    "email = re.findall('\\S+?@\\S+', line)\n",
    "email"
   ]
  },
  {
   "cell_type": "code",
   "execution_count": null,
   "metadata": {},
   "outputs": [],
   "source": []
  }
 ],
 "metadata": {
  "kernelspec": {
   "display_name": "Python 3",
   "language": "python",
   "name": "python3"
  },
  "language_info": {
   "codemirror_mode": {
    "name": "ipython",
    "version": 3
   },
   "file_extension": ".py",
   "mimetype": "text/x-python",
   "name": "python",
   "nbconvert_exporter": "python",
   "pygments_lexer": "ipython3",
   "version": "3.7.4"
  }
 },
 "nbformat": 4,
 "nbformat_minor": 2
}
