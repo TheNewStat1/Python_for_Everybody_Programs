{
 "cells": [
  {
   "cell_type": "markdown",
   "metadata": {},
   "source": [
    "# Networks & Sockets"
   ]
  },
  {
   "cell_type": "markdown",
   "metadata": {},
   "source": [
    "General Concept:\n",
    "In computer networking an internet socket (or network socket) is an endpoint of a bi-directional inter-processes communication flow accross an internet Protocol-based computer network.(basically the communication happens across the internet)"
   ]
  },
  {
   "cell_type": "markdown",
   "metadata": {},
   "source": [
    "The python code bellow allows you to connect to TCP sockets -> Ports on the internet"
   ]
  },
  {
   "cell_type": "code",
   "execution_count": 1,
   "metadata": {},
   "outputs": [
    {
     "name": "stdout",
     "output_type": "stream",
     "text": [
      "<socket.socket fd=1104, family=AddressFamily.AF_INET, type=SocketKind.SOCK_STREAM, proto=0, laddr=('192.168.0.17', 53313), raddr=('192.241.136.170', 80)>\n"
     ]
    }
   ],
   "source": [
    "# The following code is all we need to make a socket connection\n",
    "\n",
    "## import the socket library\n",
    "import socket\n",
    "## use the socket function from socket with the following arguments that estabilished the \n",
    "## connection\n",
    "my_sock = socket.socket(socket.AF_INET, socket.SOCK_STREAM)\n",
    "my_sock.connect(('data.pr4e.org', 80)) # pass the 'host' and the port \n",
    "print(my_sock)"
   ]
  },
  {
   "cell_type": "markdown",
   "metadata": {},
   "source": [
    "# HyperText Transfer Protocol"
   ]
  },
  {
   "cell_type": "markdown",
   "metadata": {},
   "source": [
    "This is the Main (Dominant) Application layer on the internet\n",
    "* It is basically a set of rules that allow browsers to retrieve web documents from servers over the internet"
   ]
  },
  {
   "cell_type": "markdown",
   "metadata": {},
   "source": [
    "Breakdown of URL\n",
    "\n",
    "* http:// - (called the protocol) \n",
    "* www.dr-chuck.com - (called the host)\n",
    "* page1.html - (Called the document)"
   ]
  },
  {
   "cell_type": "markdown",
   "metadata": {},
   "source": [
    "When clicking on links basically you are doing a GET request to fetch the information from the web-browser"
   ]
  },
  {
   "cell_type": "code",
   "execution_count": 1,
   "metadata": {},
   "outputs": [
    {
     "name": "stdout",
     "output_type": "stream",
     "text": [
      "<socket.socket fd=436, family=AddressFamily.AF_INET, type=SocketKind.SOCK_STREAM, proto=0, laddr=('192.168.0.12', 58735), raddr=('192.241.136.170', 80)>\n",
      "<socket.socket fd=1108, family=AddressFamily.AF_INET, type=SocketKind.SOCK_STREAM, proto=0, laddr=('192.168.0.12', 58736), raddr=('104.64.178.125', 80)>\n"
     ]
    }
   ],
   "source": [
    "# Another overview of the HTTP request\n",
    "import socket\n",
    "\n",
    "mysock = socket.socket(socket.AF_INET, socket.SOCK_STREAM)\n",
    "mysock.connect(('data.pr4e.org', 80))\n",
    "cnn_con = socket.socket(socket.AF_INET, socket.SOCK_STREAM)\n",
    "cnn_con.connect(('data.cnn.com', 80))\n",
    "print(mysock)\n",
    "print(cnn_con)"
   ]
  },
  {
   "cell_type": "code",
   "execution_count": 2,
   "metadata": {},
   "outputs": [
    {
     "name": "stdout",
     "output_type": "stream",
     "text": [
      "b'GET http://data.pr4e.org/romeo.txt HTTP/1.0\\r\\n\\r\\n'\n",
      "HTTP/1.1 200 OK\r\n",
      "Date: Fri, 17 Apr 2020 01:30:25 GMT\r\n",
      "Server: Apache/2.4.18 (Ubuntu)\r\n",
      "Last-Modified: Sat, 13 May 2017 11:22:22 GMT\r\n",
      "ETag: \"a7-54f6609245537\"\r\n",
      "Accept-Ranges: bytes\r\n",
      "Content-Length: 167\r\n",
      "Cache-Control: max-age=0, no-cache, no-store, must-revalidate\r\n",
      "Pragma: no-cache\r\n",
      "Expires: Wed, 11 Jan 1984 05:00:00 GMT\r\n",
      "Connection: close\r\n",
      "Content-Type: text/plain\r\n",
      "\r\n",
      "But soft what light through yonder window breaks\n",
      "It is the east and Juliet is the sun\n",
      "Arise fair sun and kill the envious moon\n",
      "Who is already s\n",
      "ick and pale with grief\n",
      "\n"
     ]
    }
   ],
   "source": [
    "# This is how to establish a get request and loop through the retrieved data to get \n",
    "# the lines of data from say a page\n",
    "cmd = 'GET http://data.pr4e.org/romeo.txt HTTP/1.0\\r\\n\\r\\n'.encode()\n",
    "mysock.send(cmd)\n",
    "print(cmd)\n",
    "while True: # while loop for data\n",
    "    data = mysock.recv(512)\n",
    "    if (len(data) < 1):\n",
    "        break\n",
    "    print(data.decode())\n",
    "mysock.close() # good practice to close the established socket"
   ]
  },
  {
   "cell_type": "code",
   "execution_count": 3,
   "metadata": {},
   "outputs": [
    {
     "name": "stdout",
     "output_type": "stream",
     "text": [
      "HTTP/1.1 404 Not Found\r\n",
      "Content-Type: text/html; charset=iso-8859-1\r\n",
      "Content-Length: 315\r\n",
      "Connection: close\r\n",
      "Date: Fri, 17 Apr 2020 01:30:30 GMT\r\n",
      "Server: Apache\r\n",
      "\r\n",
      "<!DOCTYPE HTML PUBLIC \"-//IETF//DTD HTML 2.0//EN\">\n",
      "<html><head>\n",
      "<title>404 Not Found</title>\n",
      "</head><body>\n",
      "<h1>Not Found</h1>\n",
      "<p>The requested URL was not found on this server.</p>\n",
      "<p>Additionally, a 404 Not Found\n",
      "error was encountered while trying to use an ErrorDocument to handle the request.</p>\n",
      "</body></html>\n",
      "\n"
     ]
    }
   ],
   "source": [
    "# Here is fun example where I try to fetch data from another file (not workings )\n",
    "import socket\n",
    "mysock = socket.socket(socket.AF_INET, socket.SOCK_STREAM)\n",
    "mysock.connect(('data.py4e.com', 80))\n",
    "# print(cmd)\n",
    "cmd = 'GET https://www.py4e.com/code3/mbox.txt HTTP/1.0\\r\\n\\r\\n'.encode()\n",
    "mysock.send(cmd)\n",
    "while True:\n",
    "    data = mysock.recv(500)\n",
    "    if (len(data) < 1):\n",
    "        break\n",
    "    print(data.decode())\n",
    "mysock.close()"
   ]
  },
  {
   "cell_type": "code",
   "execution_count": 4,
   "metadata": {},
   "outputs": [
    {
     "data": {
      "text/plain": [
       "[(<AddressFamily.AF_INET6: 23>,\n",
       "  0,\n",
       "  0,\n",
       "  '',\n",
       "  ('2606:4700:3034::681b:9fa6', 80, 0, 0)),\n",
       " (<AddressFamily.AF_INET6: 23>,\n",
       "  0,\n",
       "  0,\n",
       "  '',\n",
       "  ('2606:4700:3032::681b:9ea6', 80, 0, 0)),\n",
       " (<AddressFamily.AF_INET: 2>, 0, 0, '', ('104.27.159.166', 80)),\n",
       " (<AddressFamily.AF_INET: 2>, 0, 0, '', ('104.27.158.166', 80))]"
      ]
     },
     "execution_count": 4,
     "metadata": {},
     "output_type": "execute_result"
    }
   ],
   "source": [
    "# simple way to get socket info\n",
    "socket.getaddrinfo(\"py4e.com\", 80)"
   ]
  },
  {
   "cell_type": "markdown",
   "metadata": {},
   "source": [
    "# Wikipedia Test Connection"
   ]
  },
  {
   "cell_type": "code",
   "execution_count": 5,
   "metadata": {},
   "outputs": [
    {
     "name": "stdout",
     "output_type": "stream",
     "text": [
      "HTTP/1.1 301 TLS Redirect\r\n",
      "Date: Fri, 17 Apr 2020 01:32:10 GMT\r\n",
      "Server: Varnish\r\n",
      "X-Varnish: 829952391\r\n",
      "X-Cache: cp1081 int\r\n",
      "X-Cache-Status: int-front\r\n",
      "Server-Timing: cache;desc=\"int-front\"\r\n",
      "Set-Cookie: WMF-Last-Access=17-Apr-2020;Path=/;HttpOnly;secure;Expires=Tue, 19 May 2020 00:00:00 GMT\r\n",
      "Set-Cookie: WMF-Last-Access-Global=17-Apr-2020;Path=/;Domain=.wikipedia.org;HttpOnly;secure;Expires=Tue, 19 May 2020 00:00:00 GMT\r\n",
      "X-Client-IP: 68.200.224.81\r\n",
      "Location: https://en.wikipedia.org/wiki/Shark\r\n",
      "Co\n",
      "ntent-Length: 0\r\n",
      "Connection: close\r\n",
      "\r\n",
      "\n"
     ]
    }
   ],
   "source": [
    "# test connection to Wikipedia\n",
    "import socket\n",
    "\n",
    "mysock = socket.socket(socket.AF_INET, socket.SOCK_STREAM)\n",
    "mysock.connect(('en.wikipedia.org', 80))\n",
    "# print(mysock)\n",
    "cmd = 'GET https://en.wikipedia.org/wiki/Shark HTTP/1.0\\r\\n\\r\\n'.encode()\n",
    "mysock.send(cmd)\n",
    "while True:\n",
    "    data = mysock.recv(500)\n",
    "    if (len(data) < 1):\n",
    "        break\n",
    "    print(data.decode())\n",
    "mysock.close()"
   ]
  },
  {
   "cell_type": "code",
   "execution_count": null,
   "metadata": {},
   "outputs": [],
   "source": []
  }
 ],
 "metadata": {
  "kernelspec": {
   "display_name": "Python 3",
   "language": "python",
   "name": "python3"
  },
  "language_info": {
   "codemirror_mode": {
    "name": "ipython",
    "version": 3
   },
   "file_extension": ".py",
   "mimetype": "text/x-python",
   "name": "python",
   "nbconvert_exporter": "python",
   "pygments_lexer": "ipython3",
   "version": "3.7.4"
  }
 },
 "nbformat": 4,
 "nbformat_minor": 2
}
