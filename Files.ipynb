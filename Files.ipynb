{
 "cells": [
  {
   "cell_type": "markdown",
   "metadata": {},
   "source": [
    "# Creating A New File"
   ]
  },
  {
   "cell_type": "markdown",
   "metadata": {},
   "source": [
    "write mode plus read: 'w+'\n",
    "\n",
    "'w' and 'w+' modes will create a new file or overwrite existing files\n",
    "\n",
    "All previous data will be lost"
   ]
  },
  {
   "cell_type": "code",
   "execution_count": 5,
   "metadata": {},
   "outputs": [],
   "source": [
    "# create a new file with the 'w' argument in the open function\n",
    "new_file = open('New_file.txt', 'w')\n"
   ]
  },
  {
   "cell_type": "code",
   "execution_count": 6,
   "metadata": {},
   "outputs": [
    {
     "data": {
      "text/plain": [
       "58"
      ]
     },
     "execution_count": 6,
     "metadata": {},
     "output_type": "execute_result"
    }
   ],
   "source": [
    "# Use the .write() method to write items into the file\n",
    "new_file.write(\"This is line one \\nThis is line two \\nThis is the third line\")"
   ]
  },
  {
   "cell_type": "code",
   "execution_count": 7,
   "metadata": {},
   "outputs": [
    {
     "name": "stdout",
     "output_type": "stream",
     "text": [
      "This is line one \n",
      "This is line two \n",
      "This is the third line\n"
     ]
    }
   ],
   "source": [
    "# open the file in read = 'r' mode\n",
    "new_file = open('New_file.txt', 'r')\n",
    "# created new variable to read out \n",
    "text_nf = new_file.read()\n",
    "print(text_nf)"
   ]
  },
  {
   "cell_type": "markdown",
   "metadata": {},
   "source": [
    "# Python Interacting with Files"
   ]
  },
  {
   "cell_type": "markdown",
   "metadata": {},
   "source": [
    "Opening a file in python"
   ]
  },
  {
   "cell_type": "code",
   "execution_count": 4,
   "metadata": {},
   "outputs": [],
   "source": [
    "## use the following python function open() to open a text file. \n",
    "# file_hand = open('filename.ext', 'mode')"
   ]
  },
  {
   "cell_type": "markdown",
   "metadata": {},
   "source": [
    "Using the new line character is helpful"
   ]
  },
  {
   "cell_type": "code",
   "execution_count": 5,
   "metadata": {},
   "outputs": [
    {
     "name": "stdout",
     "output_type": "stream",
     "text": [
      "Hello\n",
      "World!\n"
     ]
    }
   ],
   "source": [
    "# This is how you use a new line characters (\\n) in a string\n",
    "# The print() function adds a new line to the end of the string\n",
    "text = 'Hello\\nWorld!'\n",
    "print(text)"
   ]
  },
  {
   "cell_type": "markdown",
   "metadata": {},
   "source": [
    "This is how to check to see which files are in your directory"
   ]
  },
  {
   "cell_type": "code",
   "execution_count": 6,
   "metadata": {},
   "outputs": [
    {
     "data": {
      "text/plain": [
       "['.ipynb_checkpoints',\n",
       " '1_Files.ipynb',\n",
       " 'Average_Spam_Ex.ipynb',\n",
       " 'clown.txt',\n",
       " 'Days_from_Emails.py',\n",
       " 'Getting a file from GitHub.ipynb',\n",
       " 'intro.txt',\n",
       " 'iris.txt',\n",
       " 'mbox-short.txt',\n",
       " 'New_file.txt',\n",
       " 'Opening & Reading a File (In same directory).ipynb',\n",
       " 'Opening Python File.ipynb',\n",
       " 'poem1.txt',\n",
       " 'Pythonlearn-07-Files.pptx',\n",
       " 'rainbow_messy.txt',\n",
       " 'read(n) a Number of characters in a file.ipynb',\n",
       " 'read(String) Methods.ipynb',\n",
       " 'Reading Lines in a Text file.py',\n",
       " 'romeo.txt',\n",
       " 'Using .readline() in a While Loop.ipynb',\n",
       " 'Using .readline() with .strip() method.ipynb',\n",
       " 'Using readlines() Method.ipynb',\n",
       " 'Using the .close method to close a file.ipynb',\n",
       " 'Using the .readline() Method.ipynb',\n",
       " 'Using the .strip() method with arguments.ipynb',\n",
       " 'Week_Days.py']"
      ]
     },
     "execution_count": 6,
     "metadata": {},
     "output_type": "execute_result"
    }
   ],
   "source": [
    "# Reading a file of data using a for loop\n",
    "import os\n",
    "os.listdir()"
   ]
  },
  {
   "cell_type": "code",
   "execution_count": 7,
   "metadata": {},
   "outputs": [
    {
     "name": "stdout",
     "output_type": "stream",
     "text": [
      "id\tsepal_length\tsepal_width\tpetal_length\tpetal_width\tclass\n",
      "\n",
      "1\t5.1\t3.5\t1.4\t0.2\tIris-setosa\n",
      "\n",
      "2\t4.9\t3\t1.4\t0.2\tIris-setosa\n",
      "\n",
      "3\t4.7\t3.2\t1.3\t0.2\tIris-setosa\n",
      "\n",
      "4\t4.6\t3.1\t1.5\t0.2\tIris-setosa\n",
      "\n",
      "5\t5\t3.6\t1.4\t0.2\tIris-setosa\n",
      "\n",
      "6\t5.4\t3.9\t1.7\t0.4\tIris-setosa\n",
      "\n",
      "7\t4.6\t3.4\t1.4\t0.3\tIris-setosa\n",
      "\n",
      "8\t5\t3.4\t1.5\t0.2\tIris-setosa\n",
      "\n",
      "9\t4.4\t2.9\t1.4\t0.2\tIris-setosa\n",
      "\n",
      "10\t4.9\t3.1\t1.5\t0.1\tIris-setosa\n",
      "\n",
      "11\t5.4\t3.7\t1.5\t0.2\tIris-setosa\n",
      "\n",
      "12\t4.8\t3.4\t1.6\t0.2\tIris-setosa\n",
      "\n",
      "13\t4.8\t3\t1.4\t0.1\tIris-setosa\n",
      "\n",
      "14\t4.3\t3\t1.1\t0.1\tIris-setosa\n",
      "\n",
      "15\t5.8\t4\t1.2\t0.2\tIris-setosa\n",
      "\n",
      "16\t5.7\t4.4\t1.5\t0.4\tIris-setosa\n",
      "\n",
      "17\t5.4\t3.9\t1.3\t0.4\tIris-setosa\n",
      "\n",
      "18\t5.1\t3.5\t1.4\t0.3\tIris-setosa\n",
      "\n",
      "19\t5.7\t3.8\t1.7\t0.3\tIris-setosa\n",
      "\n",
      "20\t5.1\t3.8\t1.5\t0.3\tIris-setosa\n",
      "\n",
      "21\t5.4\t3.4\t1.7\t0.2\tIris-setosa\n",
      "\n",
      "22\t5.1\t3.7\t1.5\t0.4\tIris-setosa\n",
      "\n",
      "23\t4.6\t3.6\t1\t0.2\tIris-setosa\n",
      "\n",
      "24\t5.1\t3.3\t1.7\t0.5\tIris-setosa\n",
      "\n",
      "25\t4.8\t3.4\t1.9\t0.2\tIris-setosa\n",
      "\n",
      "26\t5\t3\t1.6\t0.2\tIris-setosa\n",
      "\n",
      "27\t5\t3.4\t1.6\t0.4\tIris-setosa\n",
      "\n",
      "28\t5.2\t3.5\t1.5\t0.2\tIris-setosa\n",
      "\n",
      "29\t5.2\t3.4\t1.4\t0.2\tIris-setosa\n",
      "\n",
      "30\t4.7\t3.2\t1.6\t0.2\tIris-setosa\n",
      "\n",
      "31\t4.8\t3.1\t1.6\t0.2\tIris-setosa\n",
      "\n",
      "32\t5.4\t3.4\t1.5\t0.4\tIris-setosa\n",
      "\n",
      "33\t5.2\t4.1\t1.5\t0.1\tIris-setosa\n",
      "\n",
      "34\t5.5\t4.2\t1.4\t0.2\tIris-setosa\n",
      "\n",
      "35\t4.9\t3.1\t1.5\t0.1\tIris-setosa\n",
      "\n",
      "36\t5\t3.2\t1.2\t0.2\tIris-setosa\n",
      "\n",
      "37\t5.5\t3.5\t1.3\t0.2\tIris-setosa\n",
      "\n",
      "38\t4.9\t3.1\t1.5\t0.1\tIris-setosa\n",
      "\n",
      "39\t4.4\t3\t1.3\t0.2\tIris-setosa\n",
      "\n",
      "40\t5.1\t3.4\t1.5\t0.2\tIris-setosa\n",
      "\n",
      "41\t5\t3.5\t1.3\t0.3\tIris-setosa\n",
      "\n",
      "42\t4.5\t2.3\t1.3\t0.3\tIris-setosa\n",
      "\n",
      "43\t4.4\t3.2\t1.3\t0.2\tIris-setosa\n",
      "\n",
      "44\t5\t3.5\t1.6\t0.6\tIris-setosa\n",
      "\n",
      "45\t5.1\t3.8\t1.9\t0.4\tIris-setosa\n",
      "\n",
      "46\t4.8\t3\t1.4\t0.3\tIris-setosa\n",
      "\n",
      "47\t5.1\t3.8\t1.6\t0.2\tIris-setosa\n",
      "\n",
      "48\t4.6\t3.2\t1.4\t0.2\tIris-setosa\n",
      "\n",
      "49\t5.3\t3.7\t1.5\t0.2\tIris-setosa\n",
      "\n",
      "50\t5\t3.3\t1.4\t0.2\tIris-setosa\n",
      "\n",
      "51\t7\t3.2\t4.7\t1.4\tIris-versicolor\n",
      "\n",
      "52\t6.4\t3.2\t4.5\t1.5\tIris-versicolor\n",
      "\n",
      "53\t6.9\t3.1\t4.9\t1.5\tIris-versicolor\n",
      "\n",
      "54\t5.5\t2.3\t4\t1.3\tIris-versicolor\n",
      "\n",
      "55\t6.5\t2.8\t4.6\t1.5\tIris-versicolor\n",
      "\n",
      "56\t5.7\t2.8\t4.5\t1.3\tIris-versicolor\n",
      "\n",
      "57\t6.3\t3.3\t4.7\t1.6\tIris-versicolor\n",
      "\n",
      "58\t4.9\t2.4\t3.3\t1\tIris-versicolor\n",
      "\n",
      "59\t6.6\t2.9\t4.6\t1.3\tIris-versicolor\n",
      "\n",
      "60\t5.2\t2.7\t3.9\t1.4\tIris-versicolor\n",
      "\n",
      "61\t5\t2\t3.5\t1\tIris-versicolor\n",
      "\n",
      "62\t5.9\t3\t4.2\t1.5\tIris-versicolor\n",
      "\n",
      "63\t6\t2.2\t4\t1\tIris-versicolor\n",
      "\n",
      "64\t6.1\t2.9\t4.7\t1.4\tIris-versicolor\n",
      "\n",
      "65\t5.6\t2.9\t3.6\t1.3\tIris-versicolor\n",
      "\n",
      "66\t6.7\t3.1\t4.4\t1.4\tIris-versicolor\n",
      "\n",
      "67\t5.6\t3\t4.5\t1.5\tIris-versicolor\n",
      "\n",
      "68\t5.8\t2.7\t4.1\t1\tIris-versicolor\n",
      "\n",
      "69\t6.2\t2.2\t4.5\t1.5\tIris-versicolor\n",
      "\n",
      "70\t5.6\t2.5\t3.9\t1.1\tIris-versicolor\n",
      "\n",
      "71\t5.9\t3.2\t4.8\t1.8\tIris-versicolor\n",
      "\n",
      "72\t6.1\t2.8\t4\t1.3\tIris-versicolor\n",
      "\n",
      "73\t6.3\t2.5\t4.9\t1.5\tIris-versicolor\n",
      "\n",
      "74\t6.1\t2.8\t4.7\t1.2\tIris-versicolor\n",
      "\n",
      "75\t6.4\t2.9\t4.3\t1.3\tIris-versicolor\n",
      "\n",
      "76\t6.6\t3\t4.4\t1.4\tIris-versicolor\n",
      "\n",
      "77\t6.8\t2.8\t4.8\t1.4\tIris-versicolor\n",
      "\n",
      "78\t6.7\t3\t5\t1.7\tIris-versicolor\n",
      "\n",
      "79\t6\t2.9\t4.5\t1.5\tIris-versicolor\n",
      "\n",
      "80\t5.7\t2.6\t3.5\t1\tIris-versicolor\n",
      "\n",
      "81\t5.5\t2.4\t3.8\t1.1\tIris-versicolor\n",
      "\n",
      "82\t5.5\t2.4\t3.7\t1\tIris-versicolor\n",
      "\n",
      "83\t5.8\t2.7\t3.9\t1.2\tIris-versicolor\n",
      "\n",
      "84\t6\t2.7\t5.1\t1.6\tIris-versicolor\n",
      "\n",
      "85\t5.4\t3\t4.5\t1.5\tIris-versicolor\n",
      "\n",
      "86\t6\t3.4\t4.5\t1.6\tIris-versicolor\n",
      "\n",
      "87\t6.7\t3.1\t4.7\t1.5\tIris-versicolor\n",
      "\n",
      "88\t6.3\t2.3\t4.4\t1.3\tIris-versicolor\n",
      "\n",
      "89\t5.6\t3\t4.1\t1.3\tIris-versicolor\n",
      "\n",
      "90\t5.5\t2.5\t4\t1.3\tIris-versicolor\n",
      "\n",
      "91\t5.5\t2.6\t4.4\t1.2\tIris-versicolor\n",
      "\n",
      "92\t6.1\t3\t4.6\t1.4\tIris-versicolor\n",
      "\n",
      "93\t5.8\t2.6\t4\t1.2\tIris-versicolor\n",
      "\n",
      "94\t5\t2.3\t3.3\t1\tIris-versicolor\n",
      "\n",
      "95\t5.6\t2.7\t4.2\t1.3\tIris-versicolor\n",
      "\n",
      "96\t5.7\t3\t4.2\t1.2\tIris-versicolor\n",
      "\n",
      "97\t5.7\t2.9\t4.2\t1.3\tIris-versicolor\n",
      "\n",
      "98\t6.2\t2.9\t4.3\t1.3\tIris-versicolor\n",
      "\n",
      "99\t5.1\t2.5\t3\t1.1\tIris-versicolor\n",
      "\n",
      "100\t5.7\t2.8\t4.1\t1.3\tIris-versicolor\n",
      "\n",
      "101\t6.3\t3.3\t6\t2.5\tIris-virginica\n",
      "\n",
      "102\t5.8\t2.7\t5.1\t1.9\tIris-virginica\n",
      "\n",
      "103\t7.1\t3\t5.9\t2.1\tIris-virginica\n",
      "\n",
      "104\t6.3\t2.9\t5.6\t1.8\tIris-virginica\n",
      "\n",
      "105\t6.5\t3\t5.8\t2.2\tIris-virginica\n",
      "\n",
      "106\t7.6\t3\t6.6\t2.1\tIris-virginica\n",
      "\n",
      "107\t4.9\t2.5\t4.5\t1.7\tIris-virginica\n",
      "\n",
      "108\t7.3\t2.9\t6.3\t1.8\tIris-virginica\n",
      "\n",
      "109\t6.7\t2.5\t5.8\t1.8\tIris-virginica\n",
      "\n",
      "110\t7.2\t3.6\t6.1\t2.5\tIris-virginica\n",
      "\n",
      "111\t6.5\t3.2\t5.1\t2\tIris-virginica\n",
      "\n",
      "112\t6.4\t2.7\t5.3\t1.9\tIris-virginica\n",
      "\n",
      "113\t6.8\t3\t5.5\t2.1\tIris-virginica\n",
      "\n",
      "114\t5.7\t2.5\t5\t2\tIris-virginica\n",
      "\n",
      "115\t5.8\t2.8\t5.1\t2.4\tIris-virginica\n",
      "\n",
      "116\t6.4\t3.2\t5.3\t2.3\tIris-virginica\n",
      "\n",
      "117\t6.5\t3\t5.5\t1.8\tIris-virginica\n",
      "\n",
      "118\t7.7\t3.8\t6.7\t2.2\tIris-virginica\n",
      "\n",
      "119\t7.7\t2.6\t6.9\t2.3\tIris-virginica\n",
      "\n",
      "120\t6\t2.2\t5\t1.5\tIris-virginica\n",
      "\n",
      "121\t6.9\t3.2\t5.7\t2.3\tIris-virginica\n",
      "\n",
      "122\t5.6\t2.8\t4.9\t2\tIris-virginica\n",
      "\n",
      "123\t7.7\t2.8\t6.7\t2\tIris-virginica\n",
      "\n",
      "124\t6.3\t2.7\t4.9\t1.8\tIris-virginica\n",
      "\n",
      "125\t6.7\t3.3\t5.7\t2.1\tIris-virginica\n",
      "\n",
      "126\t7.2\t3.2\t6\t1.8\tIris-virginica\n",
      "\n",
      "127\t6.2\t2.8\t4.8\t1.8\tIris-virginica\n",
      "\n",
      "128\t6.1\t3\t4.9\t1.8\tIris-virginica\n",
      "\n",
      "129\t6.4\t2.8\t5.6\t2.1\tIris-virginica\n",
      "\n",
      "130\t7.2\t3\t5.8\t1.6\tIris-virginica\n",
      "\n",
      "131\t7.4\t2.8\t6.1\t1.9\tIris-virginica\n",
      "\n",
      "132\t7.9\t3.8\t6.4\t2\tIris-virginica\n",
      "\n",
      "133\t6.4\t2.8\t5.6\t2.2\tIris-virginica\n",
      "\n",
      "134\t6.3\t2.8\t5.1\t1.5\tIris-virginica\n",
      "\n",
      "135\t6.1\t2.6\t5.6\t1.4\tIris-virginica\n",
      "\n",
      "136\t7.7\t3\t6.1\t2.3\tIris-virginica\n",
      "\n",
      "137\t6.3\t3.4\t5.6\t2.4\tIris-virginica\n",
      "\n",
      "138\t6.4\t3.1\t5.5\t1.8\tIris-virginica\n",
      "\n",
      "139\t6\t3\t4.8\t1.8\tIris-virginica\n",
      "\n",
      "140\t6.9\t3.1\t5.4\t2.1\tIris-virginica\n",
      "\n",
      "141\t6.7\t3.1\t5.6\t2.4\tIris-virginica\n",
      "\n",
      "142\t6.9\t3.1\t5.1\t2.3\tIris-virginica\n",
      "\n",
      "143\t5.8\t2.7\t5.1\t1.9\tIris-virginica\n",
      "\n",
      "144\t6.8\t3.2\t5.9\t2.3\tIris-virginica\n",
      "\n",
      "145\t6.7\t3.3\t5.7\t2.5\tIris-virginica\n",
      "\n",
      "146\t6.7\t3\t5.2\t2.3\tIris-virginica\n",
      "\n",
      "147\t6.3\t2.5\t5\t1.9\tIris-virginica\n",
      "\n",
      "148\t6.5\t3\t5.2\t2\tIris-virginica\n",
      "\n",
      "149\t6.2\t3.4\t5.4\t2.3\tIris-virginica\n",
      "\n",
      "150\t5.9\t3\t5.1\t1.8\tIris-virginica\n",
      "\n"
     ]
    }
   ],
   "source": [
    "example = open(\"iris.txt\", 'r')\n",
    "for row in example:\n",
    "    print(row)"
   ]
  },
  {
   "cell_type": "code",
   "execution_count": 8,
   "metadata": {},
   "outputs": [
    {
     "name": "stdout",
     "output_type": "stream",
     "text": [
      "The obs count is 151\n"
     ]
    }
   ],
   "source": [
    "# To count the rows in a file we just use a counter in the loop\n",
    "example = open(\"iris.txt\")\n",
    "count = 0\n",
    "for row in example:\n",
    "    count = count + 1\n",
    "print(\"The obs count is\", count)"
   ]
  },
  {
   "cell_type": "markdown",
   "metadata": {},
   "source": [
    "To go ahead and read the whole file as a string with line breaks:"
   ]
  },
  {
   "cell_type": "code",
   "execution_count": 9,
   "metadata": {},
   "outputs": [
    {
     "name": "stdout",
     "output_type": "stream",
     "text": [
      "4959\n",
      "id\tsepal_length\tsepal_width\tpetal_length\tpetal_width\tclass\n",
      "\n"
     ]
    }
   ],
   "source": [
    "# Use the .read() method to read in a whole file as a string of characters\n",
    "file_read = open('iris.txt')\n",
    "whole_string = file_read.read()\n",
    "print(len(whole_string))\n",
    "print(whole_string[:59])"
   ]
  },
  {
   "cell_type": "markdown",
   "metadata": {},
   "source": [
    "Here is a cool way to use the for-loop and if-statements to search through a file"
   ]
  },
  {
   "cell_type": "code",
   "execution_count": 10,
   "metadata": {},
   "outputs": [
    {
     "name": "stdout",
     "output_type": "stream",
     "text": [
      "id\tsepal_length\tsepal_width\tpetal_length\tpetal_width\tclass\n",
      "\n"
     ]
    }
   ],
   "source": [
    "# 1. specify the for loop\n",
    "# 2. create a if statement with condition\n",
    "# 3. write what happens when the condition is met\n",
    "# 4. see example to see that (only the row where the condition is true is sent to output)\n",
    "\n",
    "file = open('iris.txt', 'r')\n",
    "for row in file:\n",
    "    if row.startswith('id'):\n",
    "        print(row)"
   ]
  },
  {
   "cell_type": "code",
   "execution_count": 11,
   "metadata": {},
   "outputs": [
    {
     "name": "stdout",
     "output_type": "stream",
     "text": [
      "1\t5.1\t3.5\t1.4\t0.2\tIris-setosa\n",
      "10\t4.9\t3.1\t1.5\t0.1\tIris-setosa\n",
      "11\t5.4\t3.7\t1.5\t0.2\tIris-setosa\n",
      "12\t4.8\t3.4\t1.6\t0.2\tIris-setosa\n",
      "13\t4.8\t3\t1.4\t0.1\tIris-setosa\n",
      "14\t4.3\t3\t1.1\t0.1\tIris-setosa\n",
      "15\t5.8\t4\t1.2\t0.2\tIris-setosa\n",
      "16\t5.7\t4.4\t1.5\t0.4\tIris-setosa\n",
      "17\t5.4\t3.9\t1.3\t0.4\tIris-setosa\n",
      "18\t5.1\t3.5\t1.4\t0.3\tIris-setosa\n",
      "19\t5.7\t3.8\t1.7\t0.3\tIris-setosa\n",
      "100\t5.7\t2.8\t4.1\t1.3\tIris-versicolor\n",
      "101\t6.3\t3.3\t6\t2.5\tIris-virginica\n",
      "102\t5.8\t2.7\t5.1\t1.9\tIris-virginica\n",
      "103\t7.1\t3\t5.9\t2.1\tIris-virginica\n",
      "104\t6.3\t2.9\t5.6\t1.8\tIris-virginica\n",
      "105\t6.5\t3\t5.8\t2.2\tIris-virginica\n",
      "106\t7.6\t3\t6.6\t2.1\tIris-virginica\n",
      "107\t4.9\t2.5\t4.5\t1.7\tIris-virginica\n",
      "108\t7.3\t2.9\t6.3\t1.8\tIris-virginica\n",
      "109\t6.7\t2.5\t5.8\t1.8\tIris-virginica\n",
      "110\t7.2\t3.6\t6.1\t2.5\tIris-virginica\n",
      "111\t6.5\t3.2\t5.1\t2\tIris-virginica\n",
      "112\t6.4\t2.7\t5.3\t1.9\tIris-virginica\n",
      "113\t6.8\t3\t5.5\t2.1\tIris-virginica\n",
      "114\t5.7\t2.5\t5\t2\tIris-virginica\n",
      "115\t5.8\t2.8\t5.1\t2.4\tIris-virginica\n",
      "116\t6.4\t3.2\t5.3\t2.3\tIris-virginica\n",
      "117\t6.5\t3\t5.5\t1.8\tIris-virginica\n",
      "118\t7.7\t3.8\t6.7\t2.2\tIris-virginica\n",
      "119\t7.7\t2.6\t6.9\t2.3\tIris-virginica\n",
      "120\t6\t2.2\t5\t1.5\tIris-virginica\n",
      "121\t6.9\t3.2\t5.7\t2.3\tIris-virginica\n",
      "122\t5.6\t2.8\t4.9\t2\tIris-virginica\n",
      "123\t7.7\t2.8\t6.7\t2\tIris-virginica\n",
      "124\t6.3\t2.7\t4.9\t1.8\tIris-virginica\n",
      "125\t6.7\t3.3\t5.7\t2.1\tIris-virginica\n",
      "126\t7.2\t3.2\t6\t1.8\tIris-virginica\n",
      "127\t6.2\t2.8\t4.8\t1.8\tIris-virginica\n",
      "128\t6.1\t3\t4.9\t1.8\tIris-virginica\n",
      "129\t6.4\t2.8\t5.6\t2.1\tIris-virginica\n",
      "130\t7.2\t3\t5.8\t1.6\tIris-virginica\n",
      "131\t7.4\t2.8\t6.1\t1.9\tIris-virginica\n",
      "132\t7.9\t3.8\t6.4\t2\tIris-virginica\n",
      "133\t6.4\t2.8\t5.6\t2.2\tIris-virginica\n",
      "134\t6.3\t2.8\t5.1\t1.5\tIris-virginica\n",
      "135\t6.1\t2.6\t5.6\t1.4\tIris-virginica\n",
      "136\t7.7\t3\t6.1\t2.3\tIris-virginica\n",
      "137\t6.3\t3.4\t5.6\t2.4\tIris-virginica\n",
      "138\t6.4\t3.1\t5.5\t1.8\tIris-virginica\n",
      "139\t6\t3\t4.8\t1.8\tIris-virginica\n",
      "140\t6.9\t3.1\t5.4\t2.1\tIris-virginica\n",
      "141\t6.7\t3.1\t5.6\t2.4\tIris-virginica\n",
      "142\t6.9\t3.1\t5.1\t2.3\tIris-virginica\n",
      "143\t5.8\t2.7\t5.1\t1.9\tIris-virginica\n",
      "144\t6.8\t3.2\t5.9\t2.3\tIris-virginica\n",
      "145\t6.7\t3.3\t5.7\t2.5\tIris-virginica\n",
      "146\t6.7\t3\t5.2\t2.3\tIris-virginica\n",
      "147\t6.3\t2.5\t5\t1.9\tIris-virginica\n",
      "148\t6.5\t3\t5.2\t2\tIris-virginica\n",
      "149\t6.2\t3.4\t5.4\t2.3\tIris-virginica\n",
      "150\t5.9\t3\t5.1\t1.8\tIris-virginica\n"
     ]
    }
   ],
   "source": [
    "# To remove the in-file line breaks (\\n) from the text use .rstrip()\n",
    "file = open('iris.txt', 'r')\n",
    "for row in file:\n",
    "    row = row.rstrip()\n",
    "    if row.startswith('1'): # Returns all ids that start with a '1'\n",
    "        print(row)"
   ]
  },
  {
   "cell_type": "code",
   "execution_count": 12,
   "metadata": {},
   "outputs": [
    {
     "name": "stdout",
     "output_type": "stream",
     "text": [
      "1\t5.1\t3.5\t1.4\t0.2\tIris-setosa\n",
      "10\t4.9\t3.1\t1.5\t0.1\tIris-setosa\n",
      "11\t5.4\t3.7\t1.5\t0.2\tIris-setosa\n",
      "12\t4.8\t3.4\t1.6\t0.2\tIris-setosa\n",
      "13\t4.8\t3\t1.4\t0.1\tIris-setosa\n",
      "14\t4.3\t3\t1.1\t0.1\tIris-setosa\n",
      "15\t5.8\t4\t1.2\t0.2\tIris-setosa\n",
      "16\t5.7\t4.4\t1.5\t0.4\tIris-setosa\n",
      "17\t5.4\t3.9\t1.3\t0.4\tIris-setosa\n",
      "18\t5.1\t3.5\t1.4\t0.3\tIris-setosa\n",
      "19\t5.7\t3.8\t1.7\t0.3\tIris-setosa\n",
      "100\t5.7\t2.8\t4.1\t1.3\tIris-versicolor\n",
      "101\t6.3\t3.3\t6\t2.5\tIris-virginica\n",
      "102\t5.8\t2.7\t5.1\t1.9\tIris-virginica\n",
      "103\t7.1\t3\t5.9\t2.1\tIris-virginica\n",
      "104\t6.3\t2.9\t5.6\t1.8\tIris-virginica\n",
      "105\t6.5\t3\t5.8\t2.2\tIris-virginica\n",
      "106\t7.6\t3\t6.6\t2.1\tIris-virginica\n",
      "107\t4.9\t2.5\t4.5\t1.7\tIris-virginica\n",
      "108\t7.3\t2.9\t6.3\t1.8\tIris-virginica\n",
      "109\t6.7\t2.5\t5.8\t1.8\tIris-virginica\n",
      "110\t7.2\t3.6\t6.1\t2.5\tIris-virginica\n",
      "111\t6.5\t3.2\t5.1\t2\tIris-virginica\n",
      "112\t6.4\t2.7\t5.3\t1.9\tIris-virginica\n",
      "113\t6.8\t3\t5.5\t2.1\tIris-virginica\n",
      "114\t5.7\t2.5\t5\t2\tIris-virginica\n",
      "115\t5.8\t2.8\t5.1\t2.4\tIris-virginica\n",
      "116\t6.4\t3.2\t5.3\t2.3\tIris-virginica\n",
      "117\t6.5\t3\t5.5\t1.8\tIris-virginica\n",
      "118\t7.7\t3.8\t6.7\t2.2\tIris-virginica\n",
      "119\t7.7\t2.6\t6.9\t2.3\tIris-virginica\n",
      "120\t6\t2.2\t5\t1.5\tIris-virginica\n",
      "121\t6.9\t3.2\t5.7\t2.3\tIris-virginica\n",
      "122\t5.6\t2.8\t4.9\t2\tIris-virginica\n",
      "123\t7.7\t2.8\t6.7\t2\tIris-virginica\n",
      "124\t6.3\t2.7\t4.9\t1.8\tIris-virginica\n",
      "125\t6.7\t3.3\t5.7\t2.1\tIris-virginica\n",
      "126\t7.2\t3.2\t6\t1.8\tIris-virginica\n",
      "127\t6.2\t2.8\t4.8\t1.8\tIris-virginica\n",
      "128\t6.1\t3\t4.9\t1.8\tIris-virginica\n",
      "129\t6.4\t2.8\t5.6\t2.1\tIris-virginica\n",
      "130\t7.2\t3\t5.8\t1.6\tIris-virginica\n",
      "131\t7.4\t2.8\t6.1\t1.9\tIris-virginica\n",
      "132\t7.9\t3.8\t6.4\t2\tIris-virginica\n",
      "133\t6.4\t2.8\t5.6\t2.2\tIris-virginica\n",
      "134\t6.3\t2.8\t5.1\t1.5\tIris-virginica\n",
      "135\t6.1\t2.6\t5.6\t1.4\tIris-virginica\n",
      "136\t7.7\t3\t6.1\t2.3\tIris-virginica\n",
      "137\t6.3\t3.4\t5.6\t2.4\tIris-virginica\n",
      "138\t6.4\t3.1\t5.5\t1.8\tIris-virginica\n",
      "139\t6\t3\t4.8\t1.8\tIris-virginica\n",
      "140\t6.9\t3.1\t5.4\t2.1\tIris-virginica\n",
      "141\t6.7\t3.1\t5.6\t2.4\tIris-virginica\n",
      "142\t6.9\t3.1\t5.1\t2.3\tIris-virginica\n",
      "143\t5.8\t2.7\t5.1\t1.9\tIris-virginica\n",
      "144\t6.8\t3.2\t5.9\t2.3\tIris-virginica\n",
      "145\t6.7\t3.3\t5.7\t2.5\tIris-virginica\n",
      "146\t6.7\t3\t5.2\t2.3\tIris-virginica\n",
      "147\t6.3\t2.5\t5\t1.9\tIris-virginica\n",
      "148\t6.5\t3\t5.2\t2\tIris-virginica\n",
      "149\t6.2\t3.4\t5.4\t2.3\tIris-virginica\n",
      "150\t5.9\t3\t5.1\t1.8\tIris-virginica\n"
     ]
    }
   ],
   "source": [
    "# An alternative to the code above using a continue key-word\n",
    "file = open('iris.txt', 'r')\n",
    "for row in file:\n",
    "    row = row.rstrip()\n",
    "    if not row.startswith('1'): \n",
    "        continue \n",
    "    print(row)"
   ]
  },
  {
   "cell_type": "code",
   "execution_count": 4,
   "metadata": {},
   "outputs": [
    {
     "name": "stdout",
     "output_type": "stream",
     "text": [
      "101\t6.3\t3.3\t6\t2.5\tIris-virginica\n",
      "102\t5.8\t2.7\t5.1\t1.9\tIris-virginica\n",
      "103\t7.1\t3\t5.9\t2.1\tIris-virginica\n",
      "104\t6.3\t2.9\t5.6\t1.8\tIris-virginica\n",
      "105\t6.5\t3\t5.8\t2.2\tIris-virginica\n",
      "106\t7.6\t3\t6.6\t2.1\tIris-virginica\n",
      "107\t4.9\t2.5\t4.5\t1.7\tIris-virginica\n",
      "108\t7.3\t2.9\t6.3\t1.8\tIris-virginica\n",
      "109\t6.7\t2.5\t5.8\t1.8\tIris-virginica\n",
      "110\t7.2\t3.6\t6.1\t2.5\tIris-virginica\n",
      "111\t6.5\t3.2\t5.1\t2\tIris-virginica\n",
      "112\t6.4\t2.7\t5.3\t1.9\tIris-virginica\n",
      "113\t6.8\t3\t5.5\t2.1\tIris-virginica\n",
      "114\t5.7\t2.5\t5\t2\tIris-virginica\n",
      "115\t5.8\t2.8\t5.1\t2.4\tIris-virginica\n",
      "116\t6.4\t3.2\t5.3\t2.3\tIris-virginica\n",
      "117\t6.5\t3\t5.5\t1.8\tIris-virginica\n",
      "118\t7.7\t3.8\t6.7\t2.2\tIris-virginica\n",
      "119\t7.7\t2.6\t6.9\t2.3\tIris-virginica\n",
      "120\t6\t2.2\t5\t1.5\tIris-virginica\n",
      "121\t6.9\t3.2\t5.7\t2.3\tIris-virginica\n",
      "122\t5.6\t2.8\t4.9\t2\tIris-virginica\n",
      "123\t7.7\t2.8\t6.7\t2\tIris-virginica\n",
      "124\t6.3\t2.7\t4.9\t1.8\tIris-virginica\n",
      "125\t6.7\t3.3\t5.7\t2.1\tIris-virginica\n",
      "126\t7.2\t3.2\t6\t1.8\tIris-virginica\n",
      "127\t6.2\t2.8\t4.8\t1.8\tIris-virginica\n",
      "128\t6.1\t3\t4.9\t1.8\tIris-virginica\n",
      "129\t6.4\t2.8\t5.6\t2.1\tIris-virginica\n",
      "130\t7.2\t3\t5.8\t1.6\tIris-virginica\n",
      "131\t7.4\t2.8\t6.1\t1.9\tIris-virginica\n",
      "132\t7.9\t3.8\t6.4\t2\tIris-virginica\n",
      "133\t6.4\t2.8\t5.6\t2.2\tIris-virginica\n",
      "134\t6.3\t2.8\t5.1\t1.5\tIris-virginica\n",
      "135\t6.1\t2.6\t5.6\t1.4\tIris-virginica\n",
      "136\t7.7\t3\t6.1\t2.3\tIris-virginica\n",
      "137\t6.3\t3.4\t5.6\t2.4\tIris-virginica\n",
      "138\t6.4\t3.1\t5.5\t1.8\tIris-virginica\n",
      "139\t6\t3\t4.8\t1.8\tIris-virginica\n",
      "140\t6.9\t3.1\t5.4\t2.1\tIris-virginica\n",
      "141\t6.7\t3.1\t5.6\t2.4\tIris-virginica\n",
      "142\t6.9\t3.1\t5.1\t2.3\tIris-virginica\n",
      "143\t5.8\t2.7\t5.1\t1.9\tIris-virginica\n",
      "144\t6.8\t3.2\t5.9\t2.3\tIris-virginica\n",
      "145\t6.7\t3.3\t5.7\t2.5\tIris-virginica\n",
      "146\t6.7\t3\t5.2\t2.3\tIris-virginica\n",
      "147\t6.3\t2.5\t5\t1.9\tIris-virginica\n",
      "148\t6.5\t3\t5.2\t2\tIris-virginica\n",
      "149\t6.2\t3.4\t5.4\t2.3\tIris-virginica\n",
      "150\t5.9\t3\t5.1\t1.8\tIris-virginica\n"
     ]
    }
   ],
   "source": [
    "file = open('iris.txt', 'r')\n",
    "for row in file:\n",
    "    row = row.rstrip()\n",
    "    if 'Iris-virginica' not in row: \n",
    "        continue # this continue key-word is considered as a 'skip'\n",
    "    else:\n",
    "        print(row)"
   ]
  },
  {
   "cell_type": "markdown",
   "metadata": {},
   "source": [
    "This creates a simple program that lets you search through a file"
   ]
  },
  {
   "cell_type": "code",
   "execution_count": 14,
   "metadata": {},
   "outputs": [
    {
     "name": "stdout",
     "output_type": "stream",
     "text": [
      "Filename: iris.txt\n",
      "The number of  151\n"
     ]
    }
   ],
   "source": [
    "# incorporating an input function into your code\n",
    "search = input(\"Filename: \")\n",
    "file = open(search)\n",
    "counter = 0\n",
    "for row in file:\n",
    "    counter = counter + 1\n",
    "print(\"The number of \", counter)"
   ]
  },
  {
   "cell_type": "markdown",
   "metadata": {},
   "source": [
    "Dealing with a bad filename "
   ]
  },
  {
   "cell_type": "code",
   "execution_count": 1,
   "metadata": {},
   "outputs": [
    {
     "name": "stdout",
     "output_type": "stream",
     "text": [
      "What file do you want to open? ts.t\n",
      "The file you wrote does not exist or was typed incorrectly\n"
     ]
    }
   ],
   "source": [
    "filename = input(\"What file do you want to open? \")\n",
    "try:\n",
    "    read = open(filename, 'r')\n",
    "except:\n",
    "    print(\"The file you wrote does not exist or was typed incorrectly\")\n",
    "    #quit()\n",
    "# here the quit() function stops the program so that the rest of the code is not processed"
   ]
  },
  {
   "cell_type": "markdown",
   "metadata": {},
   "source": [
    "# Opening & Reading a File"
   ]
  },
  {
   "cell_type": "code",
   "execution_count": 8,
   "metadata": {},
   "outputs": [
    {
     "data": {
      "text/plain": [
       "<_io.TextIOWrapper name='poem1.txt' mode='r' encoding='cp1252'>"
      ]
     },
     "execution_count": 8,
     "metadata": {},
     "output_type": "execute_result"
    }
   ],
   "source": [
    "# Using the open function\n",
    "open('poem1.txt')"
   ]
  },
  {
   "cell_type": "code",
   "execution_count": 9,
   "metadata": {},
   "outputs": [],
   "source": [
    "# After openning a file using open() function\n",
    "poem_txt = open('poem1.txt')"
   ]
  },
  {
   "cell_type": "code",
   "execution_count": 10,
   "metadata": {},
   "outputs": [
    {
     "name": "stdout",
     "output_type": "stream",
     "text": [
      "Loops I repeat\n",
      "loops\n",
      "loops\n",
      "loops\n",
      "I repeat\n",
      "until I\n",
      "break\n",
      "\n"
     ]
    }
   ],
   "source": [
    "# You can read the file into jupyter notebook using .read() method\n",
    "poem_content = poem_txt.read()\n",
    "print(poem_content)"
   ]
  },
  {
   "cell_type": "markdown",
   "metadata": {},
   "source": [
    "# Closing a File Handle"
   ]
  },
  {
   "cell_type": "code",
   "execution_count": 11,
   "metadata": {},
   "outputs": [],
   "source": [
    "# Opening the file in read mode\n",
    "poem1 = open('poem1.txt', 'r')\n"
   ]
  },
  {
   "cell_type": "code",
   "execution_count": 12,
   "metadata": {},
   "outputs": [
    {
     "name": "stdout",
     "output_type": "stream",
     "text": [
      "['Loops I repeat\\n', 'loops\\n', 'loops\\n', 'loops\\n', 'I repeat\\n', 'until I\\n', 'break\\n']\n"
     ]
    }
   ],
   "source": [
    "# reading the file with .readlines()\n",
    "# can't use a file that has been closed\n",
    "poem_lines = poem1.readlines()\n",
    "print(poem_lines)"
   ]
  },
  {
   "cell_type": "code",
   "execution_count": 13,
   "metadata": {},
   "outputs": [],
   "source": [
    "# closing the file using .close()\n",
    "poem1.close()"
   ]
  },
  {
   "cell_type": "markdown",
   "metadata": {},
   "source": [
    "# The Read() String Method"
   ]
  },
  {
   "cell_type": "code",
   "execution_count": 14,
   "metadata": {},
   "outputs": [],
   "source": [
    "# .read() returns a string\n",
    "poem_file = open('poem1.txt')"
   ]
  },
  {
   "cell_type": "code",
   "execution_count": 15,
   "metadata": {},
   "outputs": [
    {
     "name": "stdout",
     "output_type": "stream",
     "text": [
      "Loops I Repeat\n",
      "\n"
     ]
    }
   ],
   "source": [
    "# Reading in the first parts of a .txt file\n",
    "# added .title() method to make the text title case\n",
    "poem_first_part = poem_file.read(15).title()\n",
    "print(poem_first_part)"
   ]
  },
  {
   "cell_type": "code",
   "execution_count": 16,
   "metadata": {},
   "outputs": [
    {
     "name": "stdout",
     "output_type": "stream",
     "text": [
      "Loops\n",
      "\n"
     ]
    }
   ],
   "source": [
    "# Another example as above\n",
    "poem_part = poem_file.read(6).title()\n",
    "print(poem_part)"
   ]
  },
  {
   "cell_type": "code",
   "execution_count": 17,
   "metadata": {},
   "outputs": [
    {
     "name": "stdout",
     "output_type": "stream",
     "text": [
      "loops\n",
      "\n",
      "False isalpha() because of `\\n`\n"
     ]
    },
    {
     "data": {
      "text/plain": [
       "'loops\\n'"
      ]
     },
     "execution_count": 17,
     "metadata": {},
     "output_type": "execute_result"
    }
   ],
   "source": [
    "# read in poem_file into poem_part\n",
    "poem_part = poem_file.read(6)\n",
    "print(poem_part)\n",
    "# code below states that poem part is not alpha due to spaces\n",
    "print(poem_part.isalpha(), \"isalpha() because of `\\\\n`\")\n",
    "poem_part"
   ]
  },
  {
   "cell_type": "code",
   "execution_count": 18,
   "metadata": {},
   "outputs": [
    {
     "name": "stdout",
     "output_type": "stream",
     "text": [
      "repeat\n",
      "loops\n",
      "loops\n"
     ]
    }
   ],
   "source": [
    "# Example showing how to slice part of the .txt file \n",
    "poem_file = open('poem1.txt', 'r')\n",
    "poem_text = poem_file.read()\n",
    "print(poem_text[8:26])"
   ]
  },
  {
   "cell_type": "markdown",
   "metadata": {},
   "source": [
    "reading a file with .read(n) where n = number of characters to read\n",
    "each time poem_file.read(10) runs, the next 10 characters are read.\n",
    "\n",
    "Note: if .read(10) result is = '' (or empty string with no characters), it is likely that the end of the file has been reached. Perform a fresh .open() to reset read() to the beginning of the file.\n"
   ]
  },
  {
   "cell_type": "code",
   "execution_count": 37,
   "metadata": {},
   "outputs": [
    {
     "name": "stdout",
     "output_type": "stream",
     "text": [
      "Loops I re\n"
     ]
    },
    {
     "data": {
      "text/plain": [
       "'Loops I re'"
      ]
     },
     "execution_count": 37,
     "metadata": {},
     "output_type": "execute_result"
    }
   ],
   "source": [
    "# Opens file in open_file\n",
    "poem_file = open('poem1.txt', 'r')\n",
    "# saves the reading of the first 10 characters into poem_10char\n",
    "poem_10char = poem_file.read(10)\n",
    "# print and echo poem_10char\n",
    "print(poem_10char)\n",
    "poem_10char"
   ]
  },
  {
   "cell_type": "code",
   "execution_count": 38,
   "metadata": {},
   "outputs": [
    {
     "data": {
      "text/plain": [
       "'peat\\nloops'"
      ]
     },
     "execution_count": 38,
     "metadata": {},
     "output_type": "execute_result"
    }
   ],
   "source": [
    "# echo gives break line expliclicity\n",
    "poem_file.read(10)"
   ]
  },
  {
   "cell_type": "code",
   "execution_count": 39,
   "metadata": {},
   "outputs": [
    {
     "name": "stdout",
     "output_type": "stream",
     "text": [
      "\n",
      "loops\n",
      "loo\n"
     ]
    }
   ],
   "source": [
    "poem_parts = poem_file.read(10)\n",
    "print(poem_parts)"
   ]
  },
  {
   "cell_type": "code",
   "execution_count": 40,
   "metadata": {},
   "outputs": [
    {
     "name": "stdout",
     "output_type": "stream",
     "text": [
      "\n",
      "loops\n",
      "loops\n",
      "I \n"
     ]
    }
   ],
   "source": [
    "# using an operation to read characters in a file\n",
    "poem_parts += poem_file.read(5)\n",
    "print(poem_parts)"
   ]
  },
  {
   "cell_type": "markdown",
   "metadata": {},
   "source": [
    "# The Readline() Function"
   ]
  },
  {
   "cell_type": "code",
   "execution_count": 42,
   "metadata": {},
   "outputs": [],
   "source": [
    "# .readline(): read files a line at a time\n",
    "# use .readline() to read a line in a file as a string\n",
    "# each .readline() moves to the next available line in the file\n",
    "poem1 = open('poem1.txt', 'r')\n",
    "poem_line1 = poem1.readline()\n",
    "poem_line2 = poem1.readline()\n",
    "poem_line3 = poem1.readline()"
   ]
  },
  {
   "cell_type": "code",
   "execution_count": 43,
   "metadata": {},
   "outputs": [
    {
     "name": "stdout",
     "output_type": "stream",
     "text": [
      "Loops I repeat\n",
      "\n",
      "loops\n",
      "\n",
      "loops\n",
      "\n"
     ]
    }
   ],
   "source": [
    "# Example of printing lines from a .txt file\n",
    "\n",
    "print(poem_line1)\n",
    "print(poem_line2)\n",
    "print(poem_line3)\n"
   ]
  },
  {
   "cell_type": "code",
   "execution_count": 45,
   "metadata": {},
   "outputs": [
    {
     "name": "stdout",
     "output_type": "stream",
     "text": [
      "I repeat\n",
      "\n"
     ]
    }
   ],
   "source": [
    "# review and run code \n",
    "# each time cell is run it reads out each line\n",
    "print(poem1.readline())\n",
    "# close file\n",
    "poem1.close()"
   ]
  },
  {
   "cell_type": "code",
   "execution_count": 32,
   "metadata": {},
   "outputs": [],
   "source": [
    "# File read as a list with .readlines()\n",
    "# converts the lines of a file into a list of strings\n",
    "# code below opens poem1.txt\n",
    "poem1 = open('poem1.txt', 'r')"
   ]
  },
  {
   "cell_type": "code",
   "execution_count": 33,
   "metadata": {},
   "outputs": [
    {
     "name": "stdout",
     "output_type": "stream",
     "text": [
      "['Loops I repeat\\n', 'loops\\n', 'loops\\n', 'loops\\n', 'I repeat\\n', 'until I\\n', 'break\\n']\n"
     ]
    }
   ],
   "source": [
    "# Using .readlines to convert lines of .txt to list\n",
    "poem_lines = poem1.readlines()\n",
    "print(poem_lines)"
   ]
  },
  {
   "cell_type": "code",
   "execution_count": 34,
   "metadata": {},
   "outputs": [
    {
     "name": "stdout",
     "output_type": "stream",
     "text": [
      "Loops I repeat\n",
      "\n",
      "loops\n",
      "\n",
      "loops\n",
      "\n",
      "loops\n",
      "\n",
      "I repeat\n",
      "\n",
      "until I\n",
      "\n",
      "break\n",
      "\n"
     ]
    }
   ],
   "source": [
    "# listing each item in the list with a (for) loop\n",
    "for line in poem_lines:\n",
    "    print(line)"
   ]
  },
  {
   "cell_type": "code",
   "execution_count": 35,
   "metadata": {},
   "outputs": [
    {
     "name": "stdout",
     "output_type": "stream",
     "text": [
      "Loops I repeat\n",
      "loops\n",
      "loops\n",
      "loops\n",
      "I repeat\n",
      "until I\n",
      "break\n"
     ]
    }
   ],
   "source": [
    "# removing a newline character throughout the list\n",
    "# define count (each item in the list starting at index 0)\n",
    "count = 0\n",
    "# for loop on each item in the poem_list\n",
    "for line in poem_lines:\n",
    "    # the variable poem_lines become the line variable each time except the last character\n",
    "    poem_lines[count] = line[:-1]\n",
    "    # iteration of the count so it goes through each item in the list\n",
    "    count += 1\n",
    " \n",
    "# This next for statement is used to interate through the new modified list and print each item\n",
    "for line in poem_lines:\n",
    "    print(line)\n",
    "    \n",
    "# nei "
   ]
  },
  {
   "cell_type": "code",
   "execution_count": 30,
   "metadata": {},
   "outputs": [],
   "source": [
    "# while loop continues while the readline() value in poem_line returns text\n",
    "# a string value evaluates as True in the while loop\n",
    "# an empty string, '', evaluates not True in the while loop\n",
    "# when readline() reaches the end of the file, an empty string is returned\n",
    "\n",
    "# open address to file\n",
    "poem1 = open('poem1.txt', 'r')"
   ]
  },
  {
   "cell_type": "code",
   "execution_count": null,
   "metadata": {},
   "outputs": [],
   "source": [
    "#remove last character ('\\n') and print as upper case\n",
    "poem_line = poem1.readline()"
   ]
  },
  {
   "cell_type": "markdown",
   "metadata": {},
   "source": [
    "Using a While Loop"
   ]
  },
  {
   "cell_type": "code",
   "execution_count": 22,
   "metadata": {},
   "outputs": [
    {
     "name": "stdout",
     "output_type": "stream",
     "text": [
      "LOOPS\n",
      "LOOPS\n",
      "LOOPS\n",
      "I REPEAT\n",
      "UNTIL I\n",
      "BREAK\n",
      "\n"
     ]
    }
   ],
   "source": [
    "# While loop\n",
    "while poem_line:\n",
    "    # makes each read line output into poem_line and returns output\n",
    "    poem_line = poem1.readline()   \n",
    "    # print poem_line from beginning to end with upper method\n",
    "    print(poem_line[:-1].upper())\n",
    "\n",
    "    "
   ]
  },
  {
   "cell_type": "markdown",
   "metadata": {},
   "source": [
    "# Using the Strip Method"
   ]
  },
  {
   "cell_type": "code",
   "execution_count": null,
   "metadata": {},
   "outputs": [],
   "source": [
    "# .strip() removes leading and trailing whitespace, including the '\\n' formatting character\n",
    "# open address to file\n",
    "poem1 = open('poem1.txt', 'r')\n",
    "\n",
    "# [ ] review and run example - readline while loop without removing '\\n'\n",
    "poem_line = poem1.readline()\n",
    "\n",
    "# review and run example - readline while loop without removing '\\n'\n",
    "while poem_line:\n",
    "    print(poem_line)\n",
    "    poem_line = poem1.readline()\n",
    "\n",
    "poem1.close()"
   ]
  },
  {
   "cell_type": "code",
   "execution_count": 24,
   "metadata": {},
   "outputs": [
    {
     "name": "stdout",
     "output_type": "stream",
     "text": [
      "Loops I repeat\n",
      "loops\n",
      "loops\n",
      "loops\n",
      "I repeat\n",
      "until I\n",
      "break\n"
     ]
    }
   ],
   "source": [
    "# run example - readline with .strip() to remove '\\n'\n",
    "poem1 = open('poem1.txt', 'r')\n",
    "poem_line = poem1.readline().strip()\n",
    "\n",
    "while poem_line:\n",
    "    print(poem_line)\n",
    "    poem_line = poem1.readline().strip()\n",
    "    \n",
    "poem1.close()\n",
    "# now you see the spaces and line breaks are removed"
   ]
  },
  {
   "cell_type": "markdown",
   "metadata": {},
   "source": [
    "# Getting a file from GitHub"
   ]
  },
  {
   "attachments": {
    "image.png": {
     "image/png": "[encoded data removed]"
    }
   },
   "cell_type": "markdown",
   "metadata": {},
   "source": [
    "![image.png](attachment:image.png)"
   ]
  },
  {
   "cell_type": "code",
   "execution_count": 49,
   "metadata": {},
   "outputs": [
    {
     "name": "stderr",
     "output_type": "stream",
     "text": [
      "  % Total    % Received % Xferd  Average Speed   Time    Time     Time  Current\n",
      "                                 Dload  Upload   Total   Spent    Left  Speed\n",
      "\n",
      "  0     0    0     0    0     0      0      0 --:--:-- --:--:-- --:--:--     0\n",
      "  0     0    0     0    0     0      0      0 --:--:-- --:--:-- --:--:--     0\n",
      "100    56  100    56    0     0     66      0 --:--:-- --:--:-- --:--:--    68\n"
     ]
    }
   ],
   "source": [
    "!curl https://raw.githubusercontent.com/MicrosoftLearning/intropython/master/poem1.txt -o poem1.txt"
   ]
  },
  {
   "cell_type": "code",
   "execution_count": 52,
   "metadata": {},
   "outputs": [
    {
     "data": {
      "text/plain": [
       "['Loops I repeat\\n',\n",
       " 'loops\\n',\n",
       " 'loops\\n',\n",
       " 'loops\\n',\n",
       " 'I repeat\\n',\n",
       " 'until I\\n',\n",
       " 'break\\n']"
      ]
     },
     "execution_count": 52,
     "metadata": {},
     "output_type": "execute_result"
    }
   ],
   "source": [
    "# Use open() to see if you have it loaded correctly\n",
    "poem1 = open('poem1.txt')\n",
    "poem1.readlines()"
   ]
  },
  {
   "cell_type": "code",
   "execution_count": 55,
   "metadata": {},
   "outputs": [
    {
     "name": "stderr",
     "output_type": "stream",
     "text": [
      "  % Total    % Received % Xferd  Average Speed   Time    Time     Time  Current\n",
      "                                 Dload  Upload   Total   Spent    Left  Speed\n",
      "\n",
      "  0     0    0     0    0     0      0      0 --:--:-- --:--:-- --:--:--     0\n",
      "100    71  100    71    0     0    223      0 --:--:-- --:--:-- --:--:--   223\n"
     ]
    }
   ],
   "source": [
    "# download example file\n",
    "!curl https://raw.githubusercontent.com/MicrosoftLearning/intropython/master/rainbow_messy -o rainbow_messy.txt"
   ]
  },
  {
   "cell_type": "code",
   "execution_count": 56,
   "metadata": {},
   "outputs": [],
   "source": [
    "# Open downloaded file adn save it to var (rainbow_messy)\n",
    "rainbow_messy = open('rainbow_messy.txt', 'r')"
   ]
  },
  {
   "cell_type": "code",
   "execution_count": 57,
   "metadata": {},
   "outputs": [
    {
     "name": "stdout",
     "output_type": "stream",
     "text": [
      "**orange**\n",
      "\n",
      "**yellow**\n",
      "\n",
      "**green**\n",
      "\n",
      "**blue**\n",
      "\n",
      "**indigo**\n",
      "\n",
      "**violet**\n",
      "\n",
      "\n"
     ]
    }
   ],
   "source": [
    "# Without .strip()\n",
    "color = rainbow_messy.readline()\n",
    "while color:\n",
    "    color = rainbow_messy.readline()\n",
    "    print(color)"
   ]
  },
  {
   "cell_type": "markdown",
   "metadata": {},
   "source": [
    "# Average Spam Confidence Example"
   ]
  },
  {
   "cell_type": "code",
   "execution_count": 59,
   "metadata": {},
   "outputs": [
    {
     "name": "stdout",
     "output_type": "stream",
     "text": [
      "Enter file name: mbox-short.txt\n",
      "Average spam confidence: 0.7507185185185187\n"
     ]
    }
   ],
   "source": [
    "# This program reads through the text data file and computes an average from it\n",
    "fname = input(\"Enter file name: \")\n",
    "fh = open(fname)\n",
    "counter = 0\n",
    "total = 0\n",
    "for line in fh:\n",
    "    line = line.rstrip()\n",
    "    if not line.startswith(\"X-DSPAM-Confidence:\") :\n",
    "        continue\n",
    "    counter = counter + 1\n",
    "    line = float(line[-6:])\n",
    "    total = (total + line)\n",
    "average = total / counter\n",
    "#print(average)\n",
    "print('Average spam confidence:', average )"
   ]
  },
  {
   "cell_type": "code",
   "execution_count": null,
   "metadata": {},
   "outputs": [],
   "source": []
  }
 ],
 "metadata": {
  "kernelspec": {
   "display_name": "Python 3",
   "language": "python",
   "name": "python3"
  },
  "language_info": {
   "codemirror_mode": {
    "name": "ipython",
    "version": 3
   },
   "file_extension": ".py",
   "mimetype": "text/x-python",
   "name": "python",
   "nbconvert_exporter": "python",
   "pygments_lexer": "ipython3",
   "version": "3.7.4"
  }
 },
 "nbformat": 4,
 "nbformat_minor": 2
}
